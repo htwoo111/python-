{
 "cells": [
  {
   "cell_type": "code",
   "execution_count": 4,
   "metadata": {},
   "outputs": [],
   "source": [
    "import re"
   ]
  },
  {
   "attachments": {},
   "cell_type": "markdown",
   "metadata": {},
   "source": [
    "正则表达式的定义:\n",
    "\t就是用事先定义好的一些特定字符、及这些特定字符的组合，组成一个**\"规则字符串\"** ，这个\"规则字符串\"用来表达对字符串的一种**过滤** 逻辑。"
   ]
  },
  {
   "cell_type": "markdown",
   "metadata": {},
   "source": [
    " 常用正则表达式的方法：\n",
    "`re.compile`（编译）\n",
    "\n",
    "`pattern.match`（从头找一个）\n",
    "\n",
    "`pattern.search`（找一个）\n",
    "\n",
    "`pattern.findall`（找所有）\n",
    "\n",
    "`pattern.sub`（替换）\n"
   ]
  },
  {
   "cell_type": "markdown",
   "metadata": {},
   "source": [
    "## **.** \n",
    "匹配**除换行符(\\n)**外**任意**字符\n",
    "\n",
    "在`r.DOTALL（r.S）`下可以匹配到\n"
   ]
  },
  {
   "cell_type": "code",
   "execution_count": 14,
   "metadata": {},
   "outputs": [
    {
     "name": "stdout",
     "output_type": "stream",
     "text": [
      "['dasdas']\n",
      "['ab', 'c']\n",
      "['a\\n']\n",
      "['a\\n']\n"
     ]
    }
   ],
   "source": [
    "ret = re.findall('.+', 'dasdas')\n",
    "print(ret)\n",
    "\n",
    "# 匹配不到换行符\n",
    "ret = re.findall('.+', 'ab\\nc')\n",
    "print(ret)\n",
    "\n",
    "# r.DOTALL模式\n",
    "ret = re.findall('.+', 'a\\n', re.DOTALL)\n",
    "print(ret)\n",
    "# ----- \n",
    "ret = re.findall(\".+\", 'a\\n', re.S)\n",
    "print(ret)"
   ]
  },
  {
   "cell_type": "markdown",
   "metadata": {},
   "source": [
    "## []\n",
    "匹配括号里面任意一个\n"
   ]
  },
  {
   "cell_type": "code",
   "execution_count": 19,
   "metadata": {},
   "outputs": [
    {
     "name": "stdout",
     "output_type": "stream",
     "text": [
      "['a1b', 'a3b']\n",
      "['a21123b']\n"
     ]
    }
   ],
   "source": [
    "ret = re.findall('a[123]b', 'a1b, a3b')\n",
    "print(ret)\n",
    "ret = re.findall('a[1-3]+b', 'a21123b')\n",
    "print(ret)\n",
    "\n"
   ]
  },
  {
   "cell_type": "markdown",
   "metadata": {},
   "source": [
    "\n",
    "## |\n",
    "选择"
   ]
  },
  {
   "cell_type": "code",
   "execution_count": 26,
   "metadata": {},
   "outputs": [
    {
     "name": "stdout",
     "output_type": "stream",
     "text": [
      "['abc', 'adc', 'acc']\n",
      "['abd']\n"
     ]
    }
   ],
   "source": [
    "ret = re.findall('abc|acc|adc', 'abc,adc,acc')\n",
    "print(ret)\n",
    "\n",
    "ret = re.findall('a[b|c]d', 'abd')\n",
    "print(ret)"
   ]
  },
  {
   "cell_type": "markdown",
   "metadata": {},
   "source": [
    "## 贪婪与非贪婪\n"
   ]
  },
  {
   "cell_type": "code",
   "execution_count": 40,
   "metadata": {
    "scrolled": true
   },
   "outputs": [
    {
     "name": "stdout",
     "output_type": "stream",
     "text": [
      "['<link rel=\"dns-prefetch\" href=\"//static.360buyimg.com\">', '<link rel=\"dns-prefetch\" href=\"//misc.360buyimg.com\">', '<link rel=\"dns-prefetch\" href=\"//img10.360buyimg.com\">']\n",
      "3\n",
      "--------------------------------------------------\n",
      "['<link rel=\"dns-prefetch\" href=\"//static.360buyimg.com\">\\n    <link rel=\"dns-prefetch\" href=\"//misc.360buyimg.com\">\\n    <link rel=\"dns-prefetch\" href=\"//img10.360buyimg.com\">']\n",
      "1\n",
      "**************************************************\n",
      "['<link rel=\"dns-prefetch\" href=\"//static.360buyimg.com\">', '<link rel=\"dns-prefetch\" href=\"//misc.360buyimg.com\">', '<link rel=\"dns-prefetch\" href=\"//img10.360buyimg.com\">']\n",
      "3\n"
     ]
    }
   ],
   "source": [
    "s = \"\"\" \n",
    "    <link rel=\"dns-prefetch\" href=\"//static.360buyimg.com\">\n",
    "    <link rel=\"dns-prefetch\" href=\"//misc.360buyimg.com\">\n",
    "    <link rel=\"dns-prefetch\" href=\"//img10.360buyimg.com\">\n",
    "    \"\"\"\n",
    "# 因为.无法匹配换行符(\\n)， 所以这里会有3个匹配结果\n",
    "ret = re.findall(\"<.*>\", s)\n",
    "print(ret)\n",
    "print(len(ret))\n",
    "# ---------------------\n",
    "print(\"-\" * 50)\n",
    "\n",
    "# 贪婪模式，会一次性匹配所有结果，所有返回1个\n",
    "ret = re.findall('<.*>', s, re.S)\n",
    "print(ret)\n",
    "print(len(ret))\n",
    "\n",
    "\n",
    "#------------\n",
    "print(\"*\" * 50)\n",
    "\n",
    "# 非贪婪模式, 非贪婪模式下会有3个结果\n",
    "ret = re.findall(\"<.*?>\", s, re.S)\n",
    "print(ret)\n",
    "print(len(ret))"
   ]
  },
  {
   "cell_type": "markdown",
   "metadata": {},
   "source": [
    "## `re.sub(pattern, repl, string, count=0, flag=0)`"
   ]
  },
  {
   "cell_type": "code",
   "execution_count": null,
   "metadata": {},
   "outputs": [],
   "source": [
    "ret = re"
   ]
  }
 ],
 "metadata": {
  "kernelspec": {
   "display_name": "Python 3",
   "language": "python",
   "name": "python3"
  },
  "language_info": {
   "codemirror_mode": {
    "name": "ipython",
    "version": 3
   },
   "file_extension": ".py",
   "mimetype": "text/x-python",
   "name": "python",
   "nbconvert_exporter": "python",
   "pygments_lexer": "ipython3",
   "version": "3.7.3"
  }
 },
 "nbformat": 4,
 "nbformat_minor": 2
}
