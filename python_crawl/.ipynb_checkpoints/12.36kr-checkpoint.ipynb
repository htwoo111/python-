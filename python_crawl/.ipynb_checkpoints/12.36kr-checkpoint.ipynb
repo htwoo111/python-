{
 "cells": [
  {
   "cell_type": "code",
   "execution_count": 11,
   "metadata": {},
   "outputs": [],
   "source": [
    "import json\n",
    "import re\n",
    "from ten_requests_skills import parse_url\n",
    "\n",
    "url = \"https://36kr.com/\"\n",
    "\n",
    "html_str = parse_url(url)\n",
    "ret = re.findall(r\"<script>window.initialState=(.*?)</script>\", html_str)[0]\n",
    "\n",
    "\n",
    "with open(\"../crawl_file/012.36kr_crawl.json\", \"w\", encoding=\"utf-8\") as f:\n",
    "    f.write(ret)\n",
    "\n",
    "# ret = json.loads(ret)\n",
    "\n",
    "# print(ret)"
   ]
  },
  {
   "cell_type": "code",
   "execution_count": 25,
   "metadata": {},
   "outputs": [],
   "source": [
    "ret1 = json.dumps(ret, ensure_ascii=False, indent=4)\n",
    "with open(\"../crawl_file/012.36kr_crawl.json\", \"w\", encoding=\"utf-8\") as f:\n",
    "    f.write(ret1)"
   ]
  }
 ],
 "metadata": {
  "kernelspec": {
   "display_name": "Python 3",
   "language": "python",
   "name": "python3"
  },
  "language_info": {
   "codemirror_mode": {
    "name": "ipython",
    "version": 3
   },
   "file_extension": ".py",
   "mimetype": "text/x-python",
   "name": "python",
   "nbconvert_exporter": "python",
   "pygments_lexer": "ipython3",
   "version": "3.7.3"
  }
 },
 "nbformat": 4,
 "nbformat_minor": 2
}
