{
 "cells": [
  {
   "cell_type": "code",
   "execution_count": null,
   "metadata": {},
   "outputs": [],
   "source": [
    "import requests\n",
    "\n",
    "response = requests.get('https://www.baidu.com')\n",
    "\n",
    "# 使用response.text 会出现乱码，因为解码方式不一样\n",
    "print(response.encoding)\n",
    "\n",
    "# 可以指定解码方式\n",
    "response.encoding = \"utf-8\"\n",
    "\n",
    "print(response.text)\n",
    "# --------------------------------------\n",
    "# 也可以用response.content 来获取爬取到的文件内容\n",
    "# response.content 返回的是一个二进制编码内容\n",
    "# 可以用 response.content.decode(\"xxx\") 进行解码\n",
    "print(response.content)\n",
    "print(response.content.decode(\"utf-8\"))\n"
   ]
  }
 ],
 "metadata": {
  "kernelspec": {
   "display_name": "Python 3",
   "language": "python",
   "name": "python3"
  },
  "language_info": {
   "codemirror_mode": {
    "name": "ipython",
    "version": 3
   },
   "file_extension": ".py",
   "mimetype": "text/x-python",
   "name": "python",
   "nbconvert_exporter": "python",
   "pygments_lexer": "ipython3",
   "version": "3.7.3"
  }
 },
 "nbformat": 4,
 "nbformat_minor": 2
}
