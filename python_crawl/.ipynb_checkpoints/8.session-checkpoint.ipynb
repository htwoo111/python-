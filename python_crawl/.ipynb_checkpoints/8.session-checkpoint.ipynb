{
 "cells": [
  {
   "cell_type": "code",
   "execution_count": 8,
   "metadata": {},
   "outputs": [],
   "source": [
    "import requests\n",
    "\n",
    "# 实例化session模块\n",
    "session = requests.session() \n",
    "post_url = \"http://www.renren.com/PLogin.do\"\n",
    "post_data = {\"email\":\"15622971239\", \"password\":\"a6810300\"}\n",
    "headers= {\"User-Agent\": \"Mozilla/5.0 (Windows NT 10.0; Win64; x64) AppleWebKit/537.36 (KHTML, like Gecko) Chrome/76.0.3809.132 Safari/537.36\"}\n",
    "\n",
    "# 使用session发送post请求， 会把cookie也保存在其中\n",
    "# 相当于登录\n",
    "session.post(post_url, data=post_data,headers=headers)\n",
    "\n",
    "# 再使用session 进行请求登录之后，才能访问网站\n",
    "r = session.get(\"http://www.renren.com/972226806/profile\", headers=headers)\n",
    "\n",
    "with open(\"../crawl_file/renren.html\", \"w\", encoding='utf-8') as f:\n",
    "    f.write(r.content.decode())"
   ]
  },
  {
   "cell_type": "code",
   "execution_count": null,
   "metadata": {},
   "outputs": [],
   "source": []
  }
 ],
 "metadata": {
  "kernelspec": {
   "display_name": "Python 3",
   "language": "python",
   "name": "python3"
  },
  "language_info": {
   "codemirror_mode": {
    "name": "ipython",
    "version": 3
   },
   "file_extension": ".py",
   "mimetype": "text/x-python",
   "name": "python",
   "nbconvert_exporter": "python",
   "pygments_lexer": "ipython3",
   "version": "3.7.3"
  }
 },
 "nbformat": 4,
 "nbformat_minor": 2
}
