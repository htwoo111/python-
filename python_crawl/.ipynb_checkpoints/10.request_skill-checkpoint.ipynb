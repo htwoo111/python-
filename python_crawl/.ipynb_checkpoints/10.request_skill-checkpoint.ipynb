{
 "cells": [
  {
   "attachments": {},
   "cell_type": "markdown",
   "metadata": {},
   "source": [
    "+ 1.reqeusts.util.dict_from_cookiejar  把cookie对象转化为字典\n",
    "  + 1.1. requests.get(url,cookies={})\n",
    "+ 2、请求 SSL证书验证\n",
    "        response = requests.get(\"https://www.12306.cn/mormhweb/ \", verify=False)\n",
    "+ 3、设置超时\n",
    "        response = requests.get(url,1)\n",
    "+ 4、配合状态码判断是否请求成功\n",
    "       assert response.status_code == 200\n",
    "下面我们通过一个例子整体来看一下以上4点的用法\n"
   ]
  },
  {
   "cell_type": "markdown",
   "metadata": {},
   "source": [
    "# 安装第三方库\n",
    "1. `pip install ...`\n",
    "2. 下载源代码， 进入解压目录，然后用`python set_up.py install`\n",
    "3. `pip install xxx.whl`"
   ]
  },
  {
   "cell_type": "code",
   "execution_count": null,
   "metadata": {},
   "outputs": [],
   "source": []
  }
 ],
 "metadata": {
  "kernelspec": {
   "display_name": "Python 3",
   "language": "python",
   "name": "python3"
  },
  "language_info": {
   "codemirror_mode": {
    "name": "ipython",
    "version": 3
   },
   "file_extension": ".py",
   "mimetype": "text/x-python",
   "name": "python",
   "nbconvert_exporter": "python",
   "pygments_lexer": "ipython3",
   "version": "3.7.3"
  }
 },
 "nbformat": 4,
 "nbformat_minor": 2
}
