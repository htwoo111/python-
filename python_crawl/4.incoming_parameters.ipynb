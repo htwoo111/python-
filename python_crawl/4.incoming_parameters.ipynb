{
 "cells": [
  {
   "cell_type": "code",
   "execution_count": 9,
   "metadata": {},
   "outputs": [
    {
     "name": "stdout",
     "output_type": "stream",
     "text": [
      "https://www.baidu.com/s?wd=csdn\n",
      "https://www.baidu.com/s?wd=csdn\n",
      "utf-8\n",
      "200\n"
     ]
    }
   ],
   "source": [
    "import requests\n",
    "\n",
    "# 最后面的问好？看情况而定\n",
    "url = \"https://www.baidu.com/s?\"\n",
    "headers = {\"User-Agent\":\"Mozilla/5.0 (Windows NT 10.0; Win64; x64) AppleWebKit/537.36 (KHTML, like Gecko) Chrome/76.0.3809.132 Safari/537.36\"}\n",
    "\n",
    "# params 接收一个字典或者字符串的查询参数，字典类型自动转换为url编码，不需要urlencode()\n",
    "p = {'wd':'csdn'}\n",
    "\n",
    "response = requests.get(url,headers=headers,params=p)\n",
    "\n",
    "# print(response.content.decode())\n",
    "print(response.url)\n",
    "print(response.request.url)\n",
    "\n",
    "# 查看响应头部字符编码\n",
    "print (response.encoding)\n",
    "\n",
    "# 查看响应码\n",
    "print (response.status_code)"
   ]
  },
  {
   "cell_type": "markdown",
   "metadata": {},
   "source": [
    "__也可以这样传入参数__"
   ]
  },
  {
   "cell_type": "code",
   "execution_count": 12,
   "metadata": {},
   "outputs": [
    {
     "name": "stdout",
     "output_type": "stream",
     "text": [
      "https://www.baidu.com/s?wd=%E4%BC%A0%E6%99%BA%E6%92%AD%E5%AE%A2&User-Agent=Mozilla%2F5.0+%28Windows+NT+10.0%3B+Win64%3B+x64%29+AppleWebKit%2F537.36+%28KHTML%2C+like+Gecko%29+Chrome%2F76.0.3809.132+Safari%2F537.36\n"
     ]
    }
   ],
   "source": [
    "parameter = \"传智播客\"\n",
    "url2 = \"https://www.baidu.com/s?wd={}\".format(parameter)\n",
    "\n",
    "response2 = requests.get(url2,headers)\n",
    "\n",
    "# 因为浏览器会对其进行编码，所以发送过来的数据是经过编码的\n",
    "print(response2.url)"
   ]
  }
 ],
 "metadata": {
  "kernelspec": {
   "display_name": "Python 3",
   "language": "python",
   "name": "python3"
  },
  "language_info": {
   "codemirror_mode": {
    "name": "ipython",
    "version": 3
   },
   "file_extension": ".py",
   "mimetype": "text/x-python",
   "name": "python",
   "nbconvert_exporter": "python",
   "pygments_lexer": "ipython3",
   "version": "3.7.3"
  }
 },
 "nbformat": 4,
 "nbformat_minor": 2
}
