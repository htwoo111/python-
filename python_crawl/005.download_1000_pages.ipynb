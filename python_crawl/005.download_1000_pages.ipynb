{
 "cells": [
  {
   "cell_type": "code",
   "execution_count": 5,
   "metadata": {},
   "outputs": [],
   "source": [
    "import requests\n",
    "# https://tieba.baidu.com/f?kw=%E6%9D%8E%E6%AF%85&ie=utf-8&pn=0\n",
    "\n",
    "headers = {\"User-Agent\":\"Mozilla/5.0 (Windows NT 10.0; Win64; x64) AppleWebKit/537.36 (KHTML, like Gecko) Chrome/76.0.3809.132 Safari/537.36\"}\n",
    "\n",
    "for i in range(10):\n",
    "    url = \"https://tieba.baidu.com/f?kw=李毅&ie=utf-8&pn={}\".format(i * 50)\n",
    "    response = requests.get(url, headers=headers)\n",
    "    file = \"../crawl_file/tieba{}\".format(i)\n",
    "    with open(file, \"wb\") as f:\n",
    "        f.write(response.content)"
   ]
  },
  {
   "cell_type": "markdown",
   "metadata": {},
   "source": [
    "## 面向对象实现"
   ]
  },
  {
   "cell_type": "code",
   "execution_count": 18,
   "metadata": {},
   "outputs": [
    {
     "name": "stdout",
     "output_type": "stream",
     "text": [
      "https://tieba.baidu.com/f?kw=LOL&ie=utf-8&pn=0\n",
      "https://tieba.baidu.com/f?kw=LOL&ie=utf-8&pn=50\n",
      "https://tieba.baidu.com/f?kw=LOL&ie=utf-8&pn=100\n",
      "https://tieba.baidu.com/f?kw=LOL&ie=utf-8&pn=150\n",
      "https://tieba.baidu.com/f?kw=LOL&ie=utf-8&pn=200\n"
     ]
    }
   ],
   "source": [
    "class TiebaSpider(object):\n",
    "    def __init__(self, name, times):\n",
    "        self.name = name\n",
    "        self.times = times\n",
    "        self.headers =  {\"User-Agent\":\"Mozilla/5.0 (Windows NT 10.0; Win64; x64) AppleWebKit/537.36 (KHTML, like Gecko) Chrome/76.0.3809.132 Safari/537.36\"}\n",
    "        \n",
    "        \n",
    "    def create_url_list(self):\n",
    "        url = \"https://tieba.baidu.com/f?kw=\" + self.name +  \"&ie=utf-8&pn={}\"\n",
    "        url_list = [url.format(i*50) for i in range(self.times)]\n",
    "        return url_list\n",
    "    \n",
    "    \n",
    "    def parse_url(self, url):\n",
    "        print(url)\n",
    "        response = requests.get(url, headers=self.headers)\n",
    "        return response.content.decode()\n",
    "    \n",
    "    \n",
    "    def save_page(self, html_str, page):\n",
    "        # 保存到../crawl_file/name_第i页.html\n",
    "        file_path = \"../crawl_file/{}_第{}页.html\".format(self.name, page)\n",
    "        with open(file_path, 'w', encoding='utf-8') as f:\n",
    "            f.write(html_str)\n",
    "    \n",
    "    \n",
    "    def run(self):\n",
    "        # 1.获取生成url列表\n",
    "        url_list = self.create_url_list()\n",
    "        \n",
    "        # 2.遍历，发送请求，获取响应\n",
    "        for url in url_list:\n",
    "            html_str = self.parse_url(url)  # 解析url\n",
    "            # 3.保存\n",
    "            page = url_list.index(url) + 1\n",
    "            self.save_page(html_str, page)\n",
    "\n",
    "    \n",
    "if __name__ == \"__main__\":\n",
    "    tieba_spider = TiebaSpider('LOL', 5)\n",
    "    tieba_spider.run()"
   ]
  }
 ],
 "metadata": {
  "kernelspec": {
   "display_name": "Python 3",
   "language": "python",
   "name": "python3"
  },
  "language_info": {
   "codemirror_mode": {
    "name": "ipython",
    "version": 3
   },
   "file_extension": ".py",
   "mimetype": "text/x-python",
   "name": "python",
   "nbconvert_exporter": "python",
   "pygments_lexer": "ipython3",
   "version": "3.7.3"
  }
 },
 "nbformat": 4,
 "nbformat_minor": 2
}
