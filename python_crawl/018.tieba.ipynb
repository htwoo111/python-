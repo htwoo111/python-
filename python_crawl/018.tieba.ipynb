{
 "cells": [
  {
   "cell_type": "code",
   "execution_count": 119,
   "metadata": {},
   "outputs": [
    {
     "name": "stdout",
     "output_type": "stream",
     "text": [
      "https://tieba.baidu.com/f?kw=%E4%B8%AD%E7%A7%8B%E8%8A%82&pn=0&\n",
      "保存成功\n",
      "https://tieba.baidu.com/f?kw=%E4%B8%AD%E7%A7%8B%E8%8A%82&pn=30&\n"
     ]
    },
    {
     "ename": "ValueError",
     "evalue": "'        我Z要的飞Y翔' is not in list",
     "output_type": "error",
     "traceback": [
      "\u001b[1;31m---------------------------------------------------------------------------\u001b[0m",
      "\u001b[1;31mValueError\u001b[0m                                Traceback (most recent call last)",
      "\u001b[1;32m<ipython-input-119-981ac97ac788>\u001b[0m in \u001b[0;36m<module>\u001b[1;34m\u001b[0m\n\u001b[0;32m     66\u001b[0m \u001b[1;32mif\u001b[0m \u001b[0m__name__\u001b[0m \u001b[1;33m==\u001b[0m \u001b[1;34m\"__main__\"\u001b[0m\u001b[1;33m:\u001b[0m\u001b[1;33m\u001b[0m\u001b[1;33m\u001b[0m\u001b[0m\n\u001b[0;32m     67\u001b[0m     \u001b[0mtieba_spider\u001b[0m \u001b[1;33m=\u001b[0m \u001b[0mTiebaSpider\u001b[0m\u001b[1;33m(\u001b[0m\u001b[1;33m)\u001b[0m\u001b[1;33m\u001b[0m\u001b[1;33m\u001b[0m\u001b[0m\n\u001b[1;32m---> 68\u001b[1;33m     \u001b[0mhtml_str\u001b[0m \u001b[1;33m=\u001b[0m \u001b[0mtieba_spider\u001b[0m\u001b[1;33m.\u001b[0m\u001b[0mrun\u001b[0m\u001b[1;33m(\u001b[0m\u001b[1;33m)\u001b[0m\u001b[1;33m\u001b[0m\u001b[1;33m\u001b[0m\u001b[0m\n\u001b[0m\u001b[0;32m     69\u001b[0m \u001b[1;33m\u001b[0m\u001b[0m\n",
      "\u001b[1;32m<ipython-input-119-981ac97ac788>\u001b[0m in \u001b[0;36mrun\u001b[1;34m(self)\u001b[0m\n\u001b[0;32m     57\u001b[0m             \u001b[0mhtml_str\u001b[0m \u001b[1;33m=\u001b[0m \u001b[0mself\u001b[0m\u001b[1;33m.\u001b[0m\u001b[0mparse_url\u001b[0m\u001b[1;33m(\u001b[0m\u001b[0murl\u001b[0m\u001b[1;33m)\u001b[0m\u001b[1;33m\u001b[0m\u001b[1;33m\u001b[0m\u001b[0m\n\u001b[0;32m     58\u001b[0m             \u001b[1;31m# 2.数据处理，lxml解析\u001b[0m\u001b[1;33m\u001b[0m\u001b[1;33m\u001b[0m\u001b[1;33m\u001b[0m\u001b[0m\n\u001b[1;32m---> 59\u001b[1;33m             \u001b[0minfo\u001b[0m \u001b[1;33m=\u001b[0m \u001b[0mself\u001b[0m\u001b[1;33m.\u001b[0m\u001b[0mdata_analysis\u001b[0m\u001b[1;33m(\u001b[0m\u001b[0mhtml_str\u001b[0m\u001b[1;33m)\u001b[0m\u001b[1;33m\u001b[0m\u001b[1;33m\u001b[0m\u001b[0m\n\u001b[0m\u001b[0;32m     60\u001b[0m             \u001b[1;31m# 3.保存\u001b[0m\u001b[1;33m\u001b[0m\u001b[1;33m\u001b[0m\u001b[1;33m\u001b[0m\u001b[0m\n\u001b[0;32m     61\u001b[0m             \u001b[0mself\u001b[0m\u001b[1;33m.\u001b[0m\u001b[0msave\u001b[0m\u001b[1;33m(\u001b[0m\u001b[0minfo\u001b[0m\u001b[1;33m)\u001b[0m\u001b[1;33m\u001b[0m\u001b[1;33m\u001b[0m\u001b[0m\n",
      "\u001b[1;32m<ipython-input-119-981ac97ac788>\u001b[0m in \u001b[0;36mdata_analysis\u001b[1;34m(self, html_str)\u001b[0m\n\u001b[0;32m     34\u001b[0m             \u001b[0mitem\u001b[0m \u001b[1;33m=\u001b[0m \u001b[1;33m{\u001b[0m\u001b[1;33m}\u001b[0m\u001b[1;33m\u001b[0m\u001b[1;33m\u001b[0m\u001b[0m\n\u001b[0;32m     35\u001b[0m             \u001b[0mitem\u001b[0m\u001b[1;33m[\u001b[0m\u001b[1;34m'author'\u001b[0m\u001b[1;33m]\u001b[0m \u001b[1;33m=\u001b[0m \u001b[0mauthors\u001b[0m\u001b[1;33m[\u001b[0m\u001b[0mcontents\u001b[0m\u001b[1;33m.\u001b[0m\u001b[0mindex\u001b[0m\u001b[1;33m(\u001b[0m\u001b[0mcontent\u001b[0m\u001b[1;33m)\u001b[0m\u001b[1;33m]\u001b[0m \u001b[1;32mif\u001b[0m \u001b[0mlen\u001b[0m\u001b[1;33m(\u001b[0m\u001b[0mauthors\u001b[0m\u001b[1;33m[\u001b[0m\u001b[0mcontents\u001b[0m\u001b[1;33m.\u001b[0m\u001b[0mindex\u001b[0m\u001b[1;33m(\u001b[0m\u001b[0mcontent\u001b[0m\u001b[1;33m)\u001b[0m\u001b[1;33m]\u001b[0m\u001b[1;33m)\u001b[0m \u001b[1;32melse\u001b[0m \u001b[1;32mNone\u001b[0m\u001b[1;33m\u001b[0m\u001b[1;33m\u001b[0m\u001b[0m\n\u001b[1;32m---> 36\u001b[1;33m             \u001b[0mitem\u001b[0m\u001b[1;33m[\u001b[0m\u001b[1;34m'href'\u001b[0m\u001b[1;33m]\u001b[0m \u001b[1;33m=\u001b[0m \u001b[1;34m\"https://tieba.baidu.com\"\u001b[0m\u001b[1;33m+\u001b[0m\u001b[0mhrefs\u001b[0m\u001b[1;33m[\u001b[0m\u001b[0mauthors\u001b[0m\u001b[1;33m.\u001b[0m\u001b[0mindex\u001b[0m\u001b[1;33m(\u001b[0m\u001b[0mauthor\u001b[0m\u001b[1;33m)\u001b[0m\u001b[1;33m]\u001b[0m \u001b[1;32mif\u001b[0m \u001b[0mlen\u001b[0m\u001b[1;33m(\u001b[0m\u001b[0mhrefs\u001b[0m\u001b[1;33m[\u001b[0m\u001b[0mauthors\u001b[0m\u001b[1;33m.\u001b[0m\u001b[0mindex\u001b[0m\u001b[1;33m(\u001b[0m\u001b[0mauthor\u001b[0m\u001b[1;33m)\u001b[0m\u001b[1;33m]\u001b[0m\u001b[1;33m)\u001b[0m \u001b[1;32melse\u001b[0m \u001b[1;32mNone\u001b[0m\u001b[1;33m\u001b[0m\u001b[1;33m\u001b[0m\u001b[0m\n\u001b[0m\u001b[0;32m     37\u001b[0m             \u001b[0minfo\u001b[0m\u001b[1;33m.\u001b[0m\u001b[0mappend\u001b[0m\u001b[1;33m(\u001b[0m\u001b[0mitem\u001b[0m\u001b[1;33m)\u001b[0m\u001b[1;33m\u001b[0m\u001b[1;33m\u001b[0m\u001b[0m\n\u001b[0;32m     38\u001b[0m         \u001b[1;32mreturn\u001b[0m \u001b[0minfo\u001b[0m\u001b[1;33m\u001b[0m\u001b[1;33m\u001b[0m\u001b[0m\n",
      "\u001b[1;31mValueError\u001b[0m: '        我Z要的飞Y翔' is not in list"
     ]
    }
   ],
   "source": [
    "import requests\n",
    "from lxml import etree\n",
    "\n",
    "\n",
    "class TiebaSpider(object):\n",
    "    def __init__(self):\n",
    "        self.url = \"https://tieba.baidu.com/f?kw=%E4%B8%AD%E7%A7%8B%E8%8A%82&pn={}&\"\n",
    "        self.headers = {\n",
    "            \"User-Agent\": \"Mozilla/5.0 (iPhone; CPU iPhone OS 11_0 like Mac OS X) AppleWebKit/604.1.38 (KHTML, like Gecko) Version/11.0 Mobile/15A372 Safari/604.1\",\n",
    "            \"Referer\": \"https://tieba.baidu.com/\",\n",
    "            \"Cookie\": \"BAIDUID=433DB4AAED0290A1196E65E26551F041:FG=1; BIDUPSID=433DB4AAED0290A1196E65E26551F041; PSTM=1560467964; BDUSS=dnfn5zZnE3eHNlMkMwdjlLR3dUVH56WDR1OHhVQWY1UTBZZjFrSUhhMm9WM3RkRVFBQUFBJCQAAAAAAAAAAAEAAADTpYnPaHR3b28yMjIAAAAAAAAAAAAAAAAAAAAAAAAAAAAAAAAAAAAAAAAAAAAAAAAAAAAAAAAAAAAAAAAAAAAAAAAAAKjKU12oylNdVT; H_WISE_SIDS=133994_124610_100805_135462_135311_134551_128065_133680_120155_135322_132909_131246_132439_130763_132378_131518_118882_118865_118855_118830_118798_107312_132783_134391_133352_132553_129655_132250_127025_134854_128967_133838_133847_132551_133287_134463_134320_129643_131423_135336_135552_134600_134489_110085_127969_131754_131951_135672_135458_127417_135045_135036_134383_135503_134353; TIEBAUID=8def7439658107cd1106f38b; STOKEN=ffce0822077b028660923867c7aec6d035e7a63adf151b67759a76671085058f; TIEBA_USERTYPE=744b29c1d10868fb821f4b1b; locale=zh; BDORZ=B490B5EBF6F3CD402E515D22BCDA1598; yjs_js_security_passport=a27501ef9cdf21a57df86398c6685bdc89b800a4_1568592847_js; H_PS_PSSID=29654_1423_21087_29523_29521_29720_29567_29220_26350_22158; BDRCVFR[feWj1Vr5u3D]=I67x6TjHwwYf0; delPer=0; PSINO=7; Hm_lvt_98b9d8c2fd6608d564bf2ac2ae642948=1568117660,1568605001,1568605020,1568605215; 3481904595_FRSVideoUploadTip=1; wise_device=0; SEENKW=%E4%B8%AD%E7%A7%8B%E8%8A%82; IS_NEW_USER=13f77af84c1af1678ec28563; BAIDU_WISE_UID=wapp_1568616371161_183; USER_JUMP=-1; Hm_lpvt_98b9d8c2fd6608d564bf2ac2ae642948=1568616372; CLIENTWIDTH=375; CLIENTHEIGHT=812; LASW=375\"\n",
    "        }\n",
    "        \n",
    "        self.proxies = {\n",
    "            \"https\":\"https://182.116.234.216:9999\"\n",
    "#             \"https\":\"https://115.210.82.231:8118\",\n",
    "#             \"https\":\"https://222.240.184.126:8086\"\n",
    "        }\n",
    "        \n",
    "    def parse_url(self, url):\n",
    "        \"\"\"获取网站信息\"\"\"\n",
    "        print(url)\n",
    "        r = requests.get(url, headers=self.headers)#, proxies=self.proxies)\n",
    "        return r.content.decode()\n",
    "        \n",
    "    def data_analysis(self, html_str):\n",
    "        \"\"\"对获取到的数据，进行xpath解析\"\"\"\n",
    "        html = etree.HTML(html_str)\n",
    "#         authors = html.xpath('//li[@class=\"tl_shadow tl_shadow_new \"]//span[contains(@class,\"ti_author\")]/text()[1]')\n",
    "#         contents = html.xpath('//li[@class=\"tl_shadow tl_shadow_new \"]//div[@class=\"ti_title\"]/span//text()')\n",
    "#         hrefs = html.xpath('//li[@class=\"tl_shadow tl_shadow_new \"]//a[@class=\"j_common ti_item \"]/@href')\n",
    "        info = []\n",
    "        for content in contents:\n",
    "            item = {}\n",
    "#             item['author'] = authors[contents.index(content)] if len(authors[contents.index(content)]) else None\n",
    "#             item['href'] = \"https://tieba.baidu.com\"+hrefs[authors.index(author)] if len(hrefs[authors.index(author)]) else None\n",
    "            item[\"author\"] = html[]\n",
    "            info.append(item)\n",
    "        return info\n",
    "    \n",
    "    def save(self, info):\n",
    "        \"\"\"对获取到的info(list)进行保存\"\"\"\n",
    "        with open(\"../crawl_file/018.tieba.txt\", 'a', encoding='utf-8') as f:\n",
    "            for i in info:  # 遍历info列表，获取每一条信息\n",
    "                content = json.dumps(i, ensure_ascii=False)  # 转换成str\n",
    "                f.write(content)\n",
    "                f.write('\\n')\n",
    "            print('保存成功')\n",
    "    \n",
    "    \n",
    "    def run(self):\n",
    "        \"\"\"实现主程序\"\"\"\n",
    "        current_page = 0\n",
    "        # 0.获取url\n",
    "        while True:\n",
    "            url = self.url.format(current_page)\n",
    "            # 1.发送请求，获取数据\n",
    "            html_str = self.parse_url(url)\n",
    "            # 2.数据处理，lxml解析\n",
    "            info = self.data_analysis(html_str)\n",
    "            # 3.保存\n",
    "            self.save(info)\n",
    "            if current_page >= 3000:\n",
    "                break\n",
    "            current_page += 30\n",
    "\n",
    "if __name__ == \"__main__\":\n",
    "    tieba_spider = TiebaSpider()\n",
    "    html_str = tieba_spider.run()\n",
    "    "
   ]
  },
  {
   "cell_type": "code",
   "execution_count": 104,
   "metadata": {},
   "outputs": [],
   "source": [
    "# print(html_str)\n",
    "html = etree.HTML(html_str)\n",
    "authors = html.xpath('//li[@class=\"tl_shadow tl_shadow_new \"]//span[contains(@class,\"ti_author\")]/text()[1]')\n",
    "\n",
    "contents = html.xpath('//li[@class=\"tl_shadow tl_shadow_new \"]//div[@class=\"ti_title\"]/span//text()')\n",
    "\n",
    "hrefs = html.xpath('//li[@class=\"tl_shadow tl_shadow_new \"]//a[@class=\"j_common ti_item \"]/@href')\n",
    "\n",
    "info = []\n",
    "for author in authors:\n",
    "    item = {}\n",
    "    item['author'] = author\n",
    "    item['content'] = content[authors.index(author)] if len(content[authors.index(author)]) else None\n",
    "    item['href'] = \"https://tieba.baidu.com\"+hrefs[authors.index(author)] if len(hrefs[authors.index(author)]) else None\n",
    "    info.append(item)\n"
   ]
  },
  {
   "cell_type": "code",
   "execution_count": 105,
   "metadata": {},
   "outputs": [],
   "source": [
    "import json\n",
    "with open(\"../crawl_file/018.tieba.txt\", 'a', encoding='utf-8') as f:\n",
    "    for i in info:\n",
    "        inf = json.dumps(i, ensure_ascii=False)\n",
    "        f.write(inf)\n",
    "        f.write('\\n')\n",
    "    \n"
   ]
  }
 ],
 "metadata": {
  "kernelspec": {
   "display_name": "Python 3",
   "language": "python",
   "name": "python3"
  },
  "language_info": {
   "codemirror_mode": {
    "name": "ipython",
    "version": 3
   },
   "file_extension": ".py",
   "mimetype": "text/x-python",
   "name": "python",
   "nbconvert_exporter": "python",
   "pygments_lexer": "ipython3",
   "version": "3.7.3"
  }
 },
 "nbformat": 4,
 "nbformat_minor": 2
}
