{
 "cells": [
  {
   "cell_type": "code",
   "execution_count": 15,
   "metadata": {},
   "outputs": [],
   "source": [
    "# 使用cookie进行登录\n",
    "\n",
    "import requests\n",
    "\n",
    "headers= {\n",
    "    \"User-Agent\": \"Mozilla/5.0 (Windows NT 10.0; Win64; x64) AppleWebKit/537.36 (KHTML, like Gecko) Chrome/76.0.3809.132 Safari/537.36\",\n",
    "    \"Cookie\":\"anonymid=k0g46ao4-9in165; depovince=GW; _r01_=1; JSESSIONID=abc2hkudDsy9z7g9JCJ0w; ick_login=e727375e-889b-4cdf-9ba8-c238fe60dc27; ick=4b96861a-6a28-4ff7-91a0-eac8729c5552; XNESSESSIONID=a555c8d621ee; jebe_key=a52705ae-563c-4962-a999-0807785652ba%7Cad014a7ef6dfe9bf44949cd561542883%7C1568258017513%7C1%7C1568258017627; jebe_key=a52705ae-563c-4962-a999-0807785652ba%7Cad014a7ef6dfe9bf44949cd561542883%7C1568258017513%7C1%7C1568258017631; wp_fold=0; first_login_flag=1; ln_uact=15622971239; ln_hurl=http://head.xiaonei.com/photos/0/0/men_main.gif; _de=F93652EAFE0EF51A2B0DF8B67AF8DF30; id=972226806; ver=7.0; jebecookies=17a1b54e-0261-45e8-9d43-7d3d770a63b0|||||; p=ade68c96c23b6a1b509d83d8439236c66; t=7b40e28088783dd21ab660836fbf92fe6; societyguester=7b40e28088783dd21ab660836fbf92fe6; xnsid=dc685c56; loginfrom=syshome\"\n",
    "}\n",
    "proxies = {\n",
    "    \"http\":\"http://123.206.204.51:8118\"\n",
    "}\n",
    "\n",
    "\n",
    "url = \"http://www.renren.com/972226806/profile\"\n",
    "\n",
    "r = requests.get(url, headers=headers)\n",
    "\n",
    "with open(\"../crawl_file/renren2.html\",\"w\",encoding='utf-8') as f:\n",
    "    f.write(r.content.decode())\n",
    "\n",
    "# print(r.status_code)\n",
    "\n",
    "# print(r.content.decode())"
   ]
  }
 ],
 "metadata": {
  "kernelspec": {
   "display_name": "Python 3",
   "language": "python",
   "name": "python3"
  },
  "language_info": {
   "codemirror_mode": {
    "name": "ipython",
    "version": 3
   },
   "file_extension": ".py",
   "mimetype": "text/x-python",
   "name": "python",
   "nbconvert_exporter": "python",
   "pygments_lexer": "ipython3",
   "version": "3.7.3"
  }
 },
 "nbformat": 4,
 "nbformat_minor": 2
}
