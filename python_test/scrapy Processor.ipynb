{
 "cells": [
  {
   "cell_type": "markdown",
   "metadata": {},
   "source": [
    "### TakeFirst\n",
    "\n",
    "返回列表的第一个非空值"
   ]
  },
  {
   "cell_type": "code",
   "execution_count": 5,
   "metadata": {
    "ExecuteTime": {
     "end_time": "2019-10-04T11:25:45.033931Z",
     "start_time": "2019-10-04T11:25:45.026221Z"
    }
   },
   "outputs": [
    {
     "name": "stdout",
     "output_type": "stream",
     "text": [
      "1\n"
     ]
    }
   ],
   "source": [
    "from scrapy.loader.processors import TakeFirst\n",
    "\n",
    "processor = TakeFirst()\n",
    "print(processor(['', 1, 2, 3]))"
   ]
  },
  {
   "cell_type": "markdown",
   "metadata": {},
   "source": [
    "### Join\n"
   ]
  },
  {
   "cell_type": "code",
   "execution_count": 7,
   "metadata": {
    "ExecuteTime": {
     "end_time": "2019-10-04T11:27:33.148753Z",
     "start_time": "2019-10-04T11:27:33.142225Z"
    }
   },
   "outputs": [
    {
     "name": "stdout",
     "output_type": "stream",
     "text": [
      "one  two three\n"
     ]
    }
   ],
   "source": [
    "from scrapy.loader.processors import Join\n",
    "\n",
    "processor = Join()  # 默认以一个空格隔开，也可以自定义\n",
    "print(processor(['one', ' two', 'three']))"
   ]
  },
  {
   "cell_type": "markdown",
   "metadata": {},
   "source": [
    "### Compose\n",
    "类似于管道"
   ]
  },
  {
   "cell_type": "code",
   "execution_count": 14,
   "metadata": {
    "ExecuteTime": {
     "end_time": "2019-10-04T11:31:46.834963Z",
     "start_time": "2019-10-04T11:31:46.826701Z"
    }
   },
   "outputs": [
    {
     "name": "stdout",
     "output_type": "stream",
     "text": [
      "HELLO WORLD\n",
      "HELLO WORLD\n"
     ]
    }
   ],
   "source": [
    "from scrapy.loader.processors import Compose\n",
    "\n",
    "processor = Compose(str.upper, lambda s:s.strip())\n",
    "print(processor(' hello world'))\n",
    "\n",
    "processor2 = Compose(lambda s:s.upper, lambda s: s.strip())\n",
    "# print(processor([' hello world', 'World']))\n",
    "print(processor(' hello world'))\n"
   ]
  },
  {
   "cell_type": "markdown",
   "metadata": {},
   "source": [
    "### MapCompose\n",
    "与Compose类似，但可以迭代处理一个列表输入值"
   ]
  },
  {
   "cell_type": "code",
   "execution_count": 28,
   "metadata": {
    "ExecuteTime": {
     "end_time": "2019-10-04T11:37:05.052957Z",
     "start_time": "2019-10-04T11:37:05.041928Z"
    }
   },
   "outputs": [
    {
     "name": "stdout",
     "output_type": "stream",
     "text": [
      "['HELLO', 'WORLD']\n",
      "['HELLO WORLD']\n",
      "['HELLO', 'WORLD']\n"
     ]
    }
   ],
   "source": [
    "from scrapy.loader.processors import MapCompose\n",
    "processor = MapCompose(str.upper, lambda s:s.strip())\n",
    "print(processor(['helLO', ' world']))\n",
    "print(processor(' hello world'))\n",
    "\n",
    "processor = MapCompose(lambda s:s.upper(), lambda s:s.strip())\n",
    "print(processor(['helLO', ' world']))\n"
   ]
  },
  {
   "cell_type": "code",
   "execution_count": null,
   "metadata": {},
   "outputs": [],
   "source": []
  }
 ],
 "metadata": {
  "kernelspec": {
   "display_name": "Python 3",
   "language": "python",
   "name": "python3"
  },
  "language_info": {
   "codemirror_mode": {
    "name": "ipython",
    "version": 3
   },
   "file_extension": ".py",
   "mimetype": "text/x-python",
   "name": "python",
   "nbconvert_exporter": "python",
   "pygments_lexer": "ipython3",
   "version": "3.7.3"
  },
  "toc": {
   "base_numbering": 1,
   "nav_menu": {},
   "number_sections": true,
   "sideBar": true,
   "skip_h1_title": false,
   "title_cell": "Table of Contents",
   "title_sidebar": "Contents",
   "toc_cell": false,
   "toc_position": {},
   "toc_section_display": true,
   "toc_window_display": false
  },
  "varInspector": {
   "cols": {
    "lenName": 16,
    "lenType": 16,
    "lenVar": 40
   },
   "kernels_config": {
    "python": {
     "delete_cmd_postfix": "",
     "delete_cmd_prefix": "del ",
     "library": "var_list.py",
     "varRefreshCmd": "print(var_dic_list())"
    },
    "r": {
     "delete_cmd_postfix": ") ",
     "delete_cmd_prefix": "rm(",
     "library": "var_list.r",
     "varRefreshCmd": "cat(var_dic_list()) "
    }
   },
   "types_to_exclude": [
    "module",
    "function",
    "builtin_function_or_method",
    "instance",
    "_Feature"
   ],
   "window_display": false
  }
 },
 "nbformat": 4,
 "nbformat_minor": 2
}
