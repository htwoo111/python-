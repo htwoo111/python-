{
 "cells": [
  {
   "cell_type": "markdown",
   "metadata": {},
   "source": [
    "1：找出字符串s=\"aaabbbccceeefff111144444\"中，字符出现次数最多的字符\n"
   ]
  },
  {
   "cell_type": "code",
   "execution_count": 1,
   "metadata": {},
   "outputs": [
    {
     "name": "stdout",
     "output_type": "stream",
     "text": [
      "{'4', 'w', 'f', 'e', 'b', 'c', '1', 'a'}\n",
      "{'w': 7, '1': 7}\n"
     ]
    }
   ],
   "source": [
    "s=\"aaabbbccceeewwwwwwwfff111111144444\"\n",
    "\n",
    "s_set = set(s)\n",
    "print(s_set)\n",
    "\n",
    "count = 0\n",
    "dic = dict()\n",
    "for i in s_set:\n",
    "    if s.count(i) > count:\n",
    "        count = s.count(i)\n",
    "        string = i\n",
    "        dic.clear()\n",
    "        dic[i] = count\n",
    "    elif s.count(i) == count:\n",
    "        string = i\n",
    "        dic[i] = s.count(i)\n",
    "    # elif s.count(i) == count:\n",
    "    #     string = i\n",
    "\n",
    "\n",
    "print(dic)\n"
   ]
  },
  {
   "cell_type": "markdown",
   "metadata": {},
   "source": [
    "2.有四个数字：1、2、3、4，能组成多少个互不相同且无重复数字的三位数？各是多少？\n"
   ]
  },
  {
   "cell_type": "code",
   "execution_count": 2,
   "metadata": {},
   "outputs": [
    {
     "name": "stdout",
     "output_type": "stream",
     "text": [
      "['123', '124', '132', '134', '142', '143', '213', '214', '231', '234', '241', '243', '312', '314', '321', '324', '341', '342', '412', '413', '421', '423', '431', '432']\n",
      "24 [123, 124, 132, 134, 142, 143, 213, 214, 231, 234, 241, 243, 312, 314, 321, 324, 341, 342, 412, 413, 421, 423, 431, 432]\n"
     ]
    }
   ],
   "source": [
    "nums = ['1', '2', '3', '4']\n",
    "lyst = []\n",
    "for i in nums:\n",
    "    for j in nums:\n",
    "        if i!= j:\n",
    "            for k in nums:\n",
    "                if j != k and i != k:\n",
    "                    num_str = i+j+k\n",
    "                    lyst.append(num_str)\n",
    "print(lyst)\n",
    "# print(len(lyst))\n",
    "# print(len(set(lyst)))\n",
    "\n",
    "arr = []\n",
    "for i in range(1,5):\n",
    "    for j in range(1,5):\n",
    "        for k in range(1,5):\n",
    "            num = 100*i+10*j+k\n",
    "            if i!=j and j!=k and i!=k and num not in arr:# 互不相同且无重复数字的三位数\n",
    "                arr.append(num)\n",
    "print(len(arr),arr)"
   ]
  },
  {
   "cell_type": "code",
   "execution_count": 3,
   "metadata": {},
   "outputs": [
    {
     "name": "stdout",
     "output_type": "stream",
     "text": [
      "[123, 124, 132, 134, 142, 143, 213, 214, 231, 234, 241, 243, 312, 314, 321, 324, 341, 342, 412, 413, 421, 423, 431, 432]\n"
     ]
    }
   ],
   "source": [
    "num = [i*100+j*10+k for i in range(1,5)\n",
    "                    for j in range(1,5)\n",
    "                    for k in range(1,5)\n",
    "                    if i != k and i != j and k != j]\n",
    "\n",
    "print(num)\n",
    "# print(len(set(num)))"
   ]
  },
  {
   "cell_type": "code",
   "execution_count": 4,
   "metadata": {},
   "outputs": [
    {
     "name": "stdout",
     "output_type": "stream",
     "text": [
      "[(1, 2, 3), (1, 2, 4), (1, 3, 2), (1, 3, 4), (1, 4, 2), (1, 4, 3), (2, 1, 3), (2, 1, 4), (2, 3, 1), (2, 3, 4), (2, 4, 1), (2, 4, 3), (3, 1, 2), (3, 1, 4), (3, 2, 1), (3, 2, 4), (3, 4, 1), (3, 4, 2), (4, 1, 2), (4, 1, 3), (4, 2, 1), (4, 2, 3), (4, 3, 1), (4, 3, 2)]\n"
     ]
    }
   ],
   "source": [
    "import itertools\n",
    "temp_str = list(itertools.permutations([1,2,3,4],3))\n",
    "print(temp_str)"
   ]
  },
  {
   "cell_type": "markdown",
   "metadata": {},
   "source": []
  },
  {
   "cell_type": "markdown",
   "metadata": {},
   "source": [
    "题目002：企业发放的奖金根据利润(I)的多少来提成：\n",
    "低于或等于10万元时，奖金可提10%；\n",
    "利润高于10万元，低于20万元时，低于10万元的部分按10%提成，高于10万元的部分，可提成7.5%；\n",
    "20万到40万之间时，高于20万元的部分，可提成5%；\n",
    "40万到60万之间时高于40万元的部分，可提成3%；\n",
    "60万到100万之间时，高于60万元的部分，可提成1.5%；\n",
    "高于100万元时，超过100万元的部分按1%提成。\n",
    "从键盘输入当月利润I，求应发放奖金总数？\n"
   ]
  },
  {
   "cell_type": "code",
   "execution_count": 5,
   "metadata": {},
   "outputs": [
    {
     "name": "stdout",
     "output_type": "stream",
     "text": [
      "请输入利润：100\n",
      "3.95\n"
     ]
    }
   ],
   "source": [
    "bonus = 0\n",
    "profit = [100, 60, 40, 20, 10, 0]\n",
    "rate = [0.01, 0.015, 0.03, 0.05, 0.075, 0.1]\n",
    "reward = int(input(\"请输入利润：\"))\n",
    "for i in range(len(profit)):\n",
    "    if reward >= profit[i]:\n",
    "        bonus += (reward - profit[i]) * rate[i]\n",
    "        reward = profit[i]\n",
    "\n",
    "\n",
    "print(bonus)"
   ]
  },
  {
   "cell_type": "markdown",
   "metadata": {},
   "source": [
    "<br>"
   ]
  },
  {
   "cell_type": "markdown",
   "metadata": {},
   "source": [
    "题目003：一个整数，它加上100后是一个完全平方数，再加上168又是一个完全平方数，请问该数是多少？\n"
   ]
  },
  {
   "cell_type": "code",
   "execution_count": 6,
   "metadata": {},
   "outputs": [
    {
     "name": "stdout",
     "output_type": "stream",
     "text": [
      "-96.0\n",
      "384.0\n",
      "1344.0\n",
      "6624.0\n"
     ]
    }
   ],
   "source": [
    "import math \n",
    "for i in range(2, 85, 2):\n",
    "    if 168 % i == 0:\n",
    "        j = 168 /i\n",
    "        if i>j and (j+i)%2 ==0 and (i-j)%2==0:\n",
    "            m = (i+j)\n",
    "            n = (i-j)\n",
    "            print(n**2 -100)"
   ]
  },
  {
   "cell_type": "markdown",
   "metadata": {},
   "source": [
    "题目004：输入某年某月某日，判断这一天是这一年的第几天？\n",
    "\n",
    "\n",
    "    '''\n",
    "    【个人备注】：知道python有时间元组这一概念，这道题完全不需要计算。\n",
    "    时间元组包含九个属性\n",
    "    tm_year     年\n",
    "    tm_mon      月(1~12)\n",
    "    tm_mday     日(1~31)\n",
    "    tm_hour     时(0~23)\n",
    "    tm_min      分(0~59)\n",
    "    tm_sec      秒(0~61, 60或61是闰秒)\n",
    "    tm_wday     星期(0~6, 0是周一)\n",
    "    tm_yday     第几天(1~366, 366是儒略历)\n",
    "    tm_isdst    夏令时(平时用不到)\n",
    "    '''"
   ]
  },
  {
   "cell_type": "code",
   "execution_count": 7,
   "metadata": {},
   "outputs": [
    {
     "name": "stdout",
     "output_type": "stream",
     "text": [
      "请输入时间（例如2018-01-01）:2018-01-02\n",
      "2\n"
     ]
    }
   ],
   "source": [
    "import time\n",
    "date = input('请输入时间（例如2018-01-01）:')\n",
    "st = time.strptime(date, '%Y-%m-%d')\n",
    "num = st.tm_yday\n",
    "print(num)"
   ]
  },
  {
   "cell_type": "markdown",
   "metadata": {},
   "source": [
    "题目005：输入三个整数x,y,z，请把这三个数由小到大输出。\n"
   ]
  },
  {
   "cell_type": "code",
   "execution_count": 8,
   "metadata": {},
   "outputs": [
    {
     "name": "stdout",
     "output_type": "stream",
     "text": [
      "请输入第一个数：7\n",
      "请输入第一个数：2\n",
      "请输入第一个数：1\n",
      "[7, 2, 1]\n",
      "1\n",
      "2\n",
      "7\n",
      "1--2--7\n"
     ]
    }
   ],
   "source": [
    "x = int(input('请输入第一个数：'))\n",
    "y = int(input('请输入第一个数：'))\n",
    "z = int(input('请输入第一个数：'))\n",
    "\n",
    "lyst = [x,y,z]\n",
    "print(lyst)\n",
    "lyst.sort()\n",
    "for i in range(3):\n",
    "    print(lyst[i])\n",
    "    \n",
    "# -----------------------------------------------------\n",
    "if x < y:\n",
    "    x, y = y,x\n",
    "if x < z:\n",
    "    x, z = z, x\n",
    "if y < z:\n",
    "    y, z = z, y\n",
    "# else x<z:\n",
    "print(str(z)+\"--\"+str(y)+\"--\"+str(x))\n"
   ]
  },
  {
   "cell_type": "markdown",
   "metadata": {},
   "source": [
    "题目006：斐波那契数列。\n"
   ]
  },
  {
   "cell_type": "code",
   "execution_count": null,
   "metadata": {},
   "outputs": [
    {
     "name": "stdout",
     "output_type": "stream",
     "text": [
      "请输入fib数列的长度:8\n",
      "[0, 1, 1, 2, 3, 5, 8, 13]\n"
     ]
    }
   ],
   "source": [
    "def fib(length):\n",
    "    fib_list = []\n",
    "    current_length = 0\n",
    "    a, b = 0, 1\n",
    "    while current_length < length:\n",
    "        fib_list.append(a)\n",
    "        current_length += 1\n",
    "        a, b = b, a + b\n",
    "    return fib_list\n",
    "\n",
    "if __name__ == '__main__':\n",
    "    length = int(input('请输入fib数列的长度:'))\n",
    "    print(fib(length))\n",
    "    \n",
    "    "
   ]
  },
  {
   "cell_type": "markdown",
   "metadata": {},
   "source": [
    "题目007：将一个列表的数据复制到另一个列表中。\n"
   ]
  },
  {
   "cell_type": "code",
   "execution_count": null,
   "metadata": {},
   "outputs": [
    {
     "name": "stdout",
     "output_type": "stream",
     "text": [
      "deque([1, 2, 3, 'ads', 23, 'fdsf', '小明'])\n",
      "----------------------------------\n",
      "[1, 2, 3, 4, '233', '话']\n",
      "[1, 2, 3, 4, '233', '话']\n",
      "1992710665224 1992711500424 1992711667080\n"
     ]
    }
   ],
   "source": [
    "import copy\n",
    "import collections\n",
    "lyst = [1,2,3,'ads',23,'fdsf','小明']\n",
    "lyst2 = collections.deque()\n",
    "for i in range(len(lyst)):\n",
    "    lyst2.appendleft(lyst.pop())\n",
    "    \n",
    "print(lyst2)\n",
    "\n",
    "\n",
    "# --------------------------------------------------\n",
    "print('----------------------------------')\n",
    "\n",
    "lyst = [1,2,3,4,'233','话']\n",
    "print(lyst)\n",
    "lyst2 = lyst[:]\n",
    "lyst3 = copy.deepcopy(lyst)\n",
    "print(lyst3)\n",
    "print(id(lyst), id(lyst2), id(lyst3))"
   ]
  },
  {
   "cell_type": "markdown",
   "metadata": {},
   "source": [
    "\n",
    "题目011：古典问题：\n",
    "有一对兔子，\n",
    "从出生后第3个月起每个月都生一对兔子，\n",
    "小兔子长到第三个月后每个月又生一对兔子。\n",
    "假如兔子都不死。\n",
    "问每个月的兔子总数为多少？\n"
   ]
  },
  {
   "cell_type": "code",
   "execution_count": null,
   "metadata": {},
   "outputs": [
    {
     "name": "stdout",
     "output_type": "stream",
     "text": [
      "请输入过了几个月:8\n",
      "21\n"
     ]
    }
   ],
   "source": [
    "pass_month = int(input('请输入过了几个月:'))\n",
    "one = 0\n",
    "two = 0\n",
    "pregnant = 1\n",
    "for i in range(3, pass_month + 1):\n",
    "    pregnant += two\n",
    "    two = one\n",
    "    one = pregnant\n",
    "    all_rabbit = one + two + pregnant\n",
    "# all_rabbit = one + two + three\n",
    "\n",
    "print(all_rabbit)\n",
    "\n"
   ]
  },
  {
   "cell_type": "markdown",
   "metadata": {},
   "source": [
    "题目014：将一个正整数分解质因数。例如：输入90,打印出90=2*3*3*5。"
   ]
  },
  {
   "cell_type": "code",
   "execution_count": 2,
   "metadata": {},
   "outputs": [
    {
     "name": "stdout",
     "output_type": "stream",
     "text": [
      "输入一个整数:10\n",
      "[2, 5]\n"
     ]
    }
   ],
   "source": [
    "def tm014():\n",
    "    '''\n",
    "    【个人备注】：拆到拆不动为止，类似012题。\n",
    "    '''\n",
    "    import math\n",
    "    num = int(input('输入一个整数:'))\n",
    "    arr = []\n",
    "    while num>1:\n",
    "        for i in range(2,int(math.sqrt(num))+1): # 因为题目是一个没写范围正整数，开方可以有效减少该值过大时候的计算量\n",
    "            if num%i==0:\n",
    "                arr.append(i)\n",
    "                num = num//i \n",
    "                break\n",
    "        else:\n",
    "            arr.append(num)\n",
    "            break\n",
    "    print(arr)\n",
    "\n",
    "tm014()"
   ]
  },
  {
   "cell_type": "markdown",
   "metadata": {},
   "source": [
    "题目015：利用条件运算符的嵌套来完成此题：学习成绩>=90分的同学用A表示，60-89分之间的用B表示，60分以下的用C表示。\n"
   ]
  },
  {
   "cell_type": "markdown",
   "metadata": {},
   "source": [
    " "
   ]
  },
  {
   "cell_type": "code",
   "execution_count": 8,
   "metadata": {},
   "outputs": [
    {
     "name": "stdout",
     "output_type": "stream",
     "text": [
      "请输入成绩：59\n",
      "C\n"
     ]
    }
   ],
   "source": [
    "score = int(input('请输入成绩：'))\n",
    "\n",
    "if score >= 90:\n",
    "    grade = 'A'\n",
    "elif score >= 60:\n",
    "    grade = 'B'\n",
    "else:\n",
    "    grade = 'C'\n",
    "    \n",
    "print(grade)"
   ]
  },
  {
   "cell_type": "markdown",
   "metadata": {},
   "source": [
    "题目016：输出指定格式的日期。\n"
   ]
  },
  {
   "cell_type": "markdown",
   "metadata": {},
   "source": [
    " \n",
    " "
   ]
  },
  {
   "cell_type": "code",
   "execution_count": 2,
   "metadata": {},
   "outputs": [
    {
     "name": "stdout",
     "output_type": "stream",
     "text": [
      "1567348892.6041665\n",
      "time.struct_time(tm_year=2019, tm_mon=9, tm_mday=1, tm_hour=22, tm_min=41, tm_sec=32, tm_wday=6, tm_yday=244, tm_isdst=0)\n",
      "Sun Sep  1 22:41:32 2019\n",
      "2019-09-01 22:41:32\n"
     ]
    }
   ],
   "source": [
    "import time\n",
    "\n",
    "print(time.time()) # return timestamp\n",
    "# you can get anyone type time you want by indexing\n",
    "print(time.localtime()) # return time-tuple time.struct_time(tm_year=2019, tm_mon=9, tm_mday=1, tm_hour=13, tm_min=4, tm_sec=6, tm_wday=6, tm_yday=244, tm_isdst=0)\n",
    "\n",
    "print(time.asctime()) # str\n",
    "print(time.strftime(\"%Y-%m-%d %H:%M:%S\", time.localtime()))\n"
   ]
  },
  {
   "cell_type": "markdown",
   "metadata": {},
   "source": [
    "题目018：求s=a+aa+aaa+aaaa+aa...a的值，其中a是一个数字。例如2+22+222+2222+22222(此时共有5个数相加)，几个数相加由键盘控制。\n"
   ]
  },
  {
   "cell_type": "code",
   "execution_count": 1,
   "metadata": {},
   "outputs": [
    {
     "name": "stdout",
     "output_type": "stream",
     "text": [
      "请输入数字(a):1\n",
      "请输入最大的长度(n):1\n",
      "1\n"
     ]
    }
   ],
   "source": [
    "snum = input('请输入数字(a):')\n",
    "n = int(input('请输入最大的长度(n):'))\n",
    "sum_all_num = 0\n",
    "for i in range(1, n+1):\n",
    "    num = int(i * snum)\n",
    "    sum_all_num += num\n",
    "#     print(num)\n",
    "print(sum_all_num)\n"
   ]
  },
  {
   "cell_type": "markdown",
   "metadata": {},
   "source": [
    "题目019：一个数如果恰好等于它的因子之和，这个数就称为\"完数\"。例如6=1＋2＋3.编程找出1000以内的所有完数。\n"
   ]
  },
  {
   "cell_type": "markdown",
   "metadata": {},
   "source": [
    " "
   ]
  },
  {
   "cell_type": "code",
   "execution_count": null,
   "metadata": {},
   "outputs": [],
   "source": [
    "def get_factor(num):\n",
    "    factor_list = []\n",
    "    for i in range(1,num):\n",
    "        if num % i == 0:\n",
    "            factor_list.append(i)\n",
    "    return factor_list\n",
    "\n",
    "for num in range(2,1000):\n",
    "    factor = get_factor(num)\n",
    "    if num == sum(factor):\n",
    "        print(\"%d is a perfect num\"%num)"
   ]
  },
  {
   "cell_type": "code",
   "execution_count": 7,
   "metadata": {},
   "outputs": [
    {
     "data": {
      "text/plain": [
       "100"
      ]
     },
     "execution_count": 7,
     "metadata": {},
     "output_type": "execute_result"
    }
   ],
   "source": []
  }
 ],
 "metadata": {
  "kernelspec": {
   "display_name": "Python 3",
   "language": "python",
   "name": "python3"
  },
  "language_info": {
   "codemirror_mode": {
    "name": "ipython",
    "version": 3
   },
   "file_extension": ".py",
   "mimetype": "text/x-python",
   "name": "python",
   "nbconvert_exporter": "python",
   "pygments_lexer": "ipython3",
   "version": "3.7.3"
  }
 },
 "nbformat": 4,
 "nbformat_minor": 2
}
