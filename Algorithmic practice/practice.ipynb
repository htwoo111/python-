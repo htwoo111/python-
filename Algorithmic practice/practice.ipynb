{
 "cells": [
  {
   "cell_type": "markdown",
   "metadata": {},
   "source": [
    "1：找出字符串s=\"aaabbbccceeefff111144444\"中，字符出现次数最多的字符\n"
   ]
  },
  {
   "cell_type": "code",
   "execution_count": 2,
   "metadata": {},
   "outputs": [
    {
     "name": "stdout",
     "output_type": "stream",
     "text": [
      "{'e', 'b', 'w', '4', 'c', 'f', 'a', '1'}\n",
      "{'w': 7, '1': 7}\n"
     ]
    }
   ],
   "source": [
    "s=\"aaabbbccceeewwwwwwwfff111111144444\"\n",
    "\n",
    "s_set = set(s)\n",
    "print(s_set)\n",
    "\n",
    "count = 0\n",
    "dic = dict()\n",
    "for i in s_set:\n",
    "    if s.count(i) > count:\n",
    "        count = s.count(i)\n",
    "        string = i\n",
    "        dic.clear()\n",
    "        dic[i] = count\n",
    "    elif s.count(i) == count:\n",
    "        string = i\n",
    "        dic[i] = s.count(i)\n",
    "    # elif s.count(i) == count:\n",
    "    #     string = i\n",
    "\n",
    "\n",
    "print(dic)\n"
   ]
  },
  {
   "cell_type": "markdown",
   "metadata": {},
   "source": [
    "2.有四个数字：1、2、3、4，能组成多少个互不相同且无重复数字的三位数？各是多少？\n"
   ]
  },
  {
   "cell_type": "code",
   "execution_count": 13,
   "metadata": {},
   "outputs": [
    {
     "name": "stdout",
     "output_type": "stream",
     "text": [
      "['123', '124', '132', '134', '142', '143', '213', '214', '231', '234', '241', '243', '312', '314', '321', '324', '341', '342', '412', '413', '421', '423', '431', '432']\n",
      "24 [123, 124, 132, 134, 142, 143, 213, 214, 231, 234, 241, 243, 312, 314, 321, 324, 341, 342, 412, 413, 421, 423, 431, 432]\n"
     ]
    }
   ],
   "source": [
    "nums = ['1', '2', '3', '4']\n",
    "lyst = []\n",
    "for i in nums:\n",
    "    for j in nums:\n",
    "        if i!= j:\n",
    "            for k in nums:\n",
    "                if j != k and i != k:\n",
    "                    num_str = i+j+k\n",
    "                    lyst.append(num_str)\n",
    "print(lyst)\n",
    "# print(len(lyst))\n",
    "# print(len(set(lyst)))\n",
    "\n",
    "arr = []\n",
    "for i in range(1,5):\n",
    "    for j in range(1,5):\n",
    "        for k in range(1,5):\n",
    "            num = 100*i+10*j+k\n",
    "            if i!=j and j!=k and i!=k and num not in arr:# 互不相同且无重复数字的三位数\n",
    "                arr.append(num)\n",
    "print(len(arr),arr)"
   ]
  },
  {
   "cell_type": "code",
   "execution_count": 24,
   "metadata": {},
   "outputs": [
    {
     "name": "stdout",
     "output_type": "stream",
     "text": [
      "[123, 124, 132, 134, 142, 143, 213, 214, 231, 234, 241, 243, 312, 314, 321, 324, 341, 342, 412, 413, 421, 423, 431, 432]\n"
     ]
    }
   ],
   "source": [
    "num = [i*100+j*10+k for i in range(1,5)\n",
    "                    for j in range(1,5)\n",
    "                    for k in range(1,5)\n",
    "                    if i != k and i != j and k != j]\n",
    "\n",
    "print(num)\n",
    "# print(len(set(num)))"
   ]
  },
  {
   "cell_type": "code",
   "execution_count": 4,
   "metadata": {},
   "outputs": [
    {
     "name": "stdout",
     "output_type": "stream",
     "text": [
      "[(1, 2, 3), (1, 2, 4), (1, 3, 2), (1, 3, 4), (1, 4, 2), (1, 4, 3), (2, 1, 3), (2, 1, 4), (2, 3, 1), (2, 3, 4), (2, 4, 1), (2, 4, 3), (3, 1, 2), (3, 1, 4), (3, 2, 1), (3, 2, 4), (3, 4, 1), (3, 4, 2), (4, 1, 2), (4, 1, 3), (4, 2, 1), (4, 2, 3), (4, 3, 1), (4, 3, 2)]\n"
     ]
    }
   ],
   "source": [
    "import itertools\n",
    "temp_str = list(itertools.permutations([1,2,3,4],3))\n",
    "print(temp_str)"
   ]
  },
  {
   "cell_type": "markdown",
   "metadata": {},
   "source": []
  },
  {
   "cell_type": "markdown",
   "metadata": {},
   "source": [
    "题目002：企业发放的奖金根据利润(I)的多少来提成：\n",
    "低于或等于10万元时，奖金可提10%；\n",
    "利润高于10万元，低于20万元时，低于10万元的部分按10%提成，高于10万元的部分，可提成7.5%；\n",
    "20万到40万之间时，高于20万元的部分，可提成5%；\n",
    "40万到60万之间时高于40万元的部分，可提成3%；\n",
    "60万到100万之间时，高于60万元的部分，可提成1.5%；\n",
    "高于100万元时，超过100万元的部分按1%提成。\n",
    "从键盘输入当月利润I，求应发放奖金总数？\n"
   ]
  },
  {
   "cell_type": "code",
   "execution_count": 10,
   "metadata": {},
   "outputs": [
    {
     "name": "stdout",
     "output_type": "stream",
     "text": [
      "请输入利润：101\n",
      "3.96\n"
     ]
    }
   ],
   "source": [
    "bonus = 0\n",
    "profit = [100, 60, 40, 20, 10, 0]\n",
    "rate = [0.01, 0.015, 0.03, 0.05, 0.075, 0.1]\n",
    "reward = int(input(\"请输入利润：\"))\n",
    "for i in range(len(profit)):\n",
    "    if reward >= profit[i]:\n",
    "        bonus += (reward - profit[i]) * rate[i]\n",
    "        reward = profit[i]\n",
    "\n",
    "\n",
    "print(bonus)"
   ]
  },
  {
   "cell_type": "markdown",
   "metadata": {},
   "source": [
    "<br>"
   ]
  },
  {
   "cell_type": "markdown",
   "metadata": {},
   "source": [
    "题目003：一个整数，它加上100后是一个完全平方数，再加上168又是一个完全平方数，请问该数是多少？\n"
   ]
  },
  {
   "cell_type": "code",
   "execution_count": 12,
   "metadata": {},
   "outputs": [
    {
     "name": "stdout",
     "output_type": "stream",
     "text": [
      "-96.0\n",
      "384.0\n",
      "1344.0\n",
      "6624.0\n"
     ]
    }
   ],
   "source": [
    "import math \n",
    "for i in range(2, 85, 2):\n",
    "    if 168 % i == 0:\n",
    "        j = 168 /i\n",
    "        if i>j and (j+i)%2 ==0 and (i-j)%2==0:\n",
    "            m = (i+j)\n",
    "            n = (i-j)\n",
    "            print(n**2 -100)"
   ]
  }
 ],
 "metadata": {
  "kernelspec": {
   "display_name": "Python 3",
   "language": "python",
   "name": "python3"
  },
  "language_info": {
   "codemirror_mode": {
    "name": "ipython",
    "version": 3
   },
   "file_extension": ".py",
   "mimetype": "text/x-python",
   "name": "python",
   "nbconvert_exporter": "python",
   "pygments_lexer": "ipython3",
   "version": "3.7.3"
  }
 },
 "nbformat": 4,
 "nbformat_minor": 2
}
