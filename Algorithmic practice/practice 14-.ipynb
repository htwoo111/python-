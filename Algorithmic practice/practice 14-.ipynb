{
 "cells": [
  {
   "cell_type": "code",
   "execution_count": 2,
   "metadata": {},
   "outputs": [
    {
     "name": "stdout",
     "output_type": "stream",
     "text": [
      "输入一个整数:100\n",
      "[2, 2, 5, 5]\n"
     ]
    }
   ],
   "source": [
    "def tm014():\n",
    "    '''\n",
    "    【个人备注】：拆到拆不动为止，类似012题。\n",
    "    '''\n",
    "    import math\n",
    "    num = int(input('输入一个整数:'))\n",
    "    arr = []\n",
    "    while num>1:\n",
    "        for i in range(2,int(math.sqrt(num))+1): # 因为题目是一个没写范围正整数，开方可以有效减少该值过大时候的计算量\n",
    "            if num%i==0:\n",
    "                arr.append(i)\n",
    "                num = num//i \n",
    "                break\n",
    "        else:\n",
    "            arr.append(num)\n",
    "            break\n",
    "    print(arr)\n",
    "\n",
    "tm014()"
   ]
  },
  {
   "cell_type": "code",
   "execution_count": null,
   "metadata": {},
   "outputs": [],
   "source": []
  }
 ],
 "metadata": {
  "kernelspec": {
   "display_name": "Python 3",
   "language": "python",
   "name": "python3"
  },
  "language_info": {
   "codemirror_mode": {
    "name": "ipython",
    "version": 3
   },
   "file_extension": ".py",
   "mimetype": "text/x-python",
   "name": "python",
   "nbconvert_exporter": "python",
   "pygments_lexer": "ipython3",
   "version": "3.7.3"
  }
 },
 "nbformat": 4,
 "nbformat_minor": 2
}
