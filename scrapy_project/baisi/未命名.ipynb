{
 "cells": [
  {
   "cell_type": "code",
   "execution_count": 5,
   "metadata": {},
   "outputs": [
    {
     "data": {
      "text/plain": [
       "{'_id': ObjectId('5d90a43b1c7e740115bb23ff'),\n",
       " 'user_name': 'aaaaa ',\n",
       " 'title': '哈哈哈我每天的健身方式又被发现了',\n",
       " 'pubilsh_time': '2019-09-05 21:20:01',\n",
       " 'href': 'http://budejie.com/detail-29750568.html'}"
      ]
     },
     "execution_count": 5,
     "metadata": {},
     "output_type": "execute_result"
    }
   ],
   "source": [
    "from pymongo import MongoClient\n",
    "client = MongoClient()\n",
    "collection = client['baisibudejie']['baisi1']\n",
    "\n",
    "item = {\n",
    " 'user_name': 'aaaaa ',\n",
    " 'title': '哈哈哈我每天的健身方式又被发现了',\n",
    " 'pubilsh_time': '2019-09-05 21:20:01',\n",
    " 'href': 'http://budejie.com/detail-29750568.html'}\n",
    "\n",
    "href = \"http://budejie.com/detail-29750568.html\"\n",
    "collection.find_one({'href':href})\n",
    "collection.update_one({'href':href}, {\"$set\":item})\n",
    "collection.find_one({'href':href})\n"
   ]
  }
 ],
 "metadata": {
  "kernelspec": {
   "display_name": "Python 3",
   "language": "python",
   "name": "python3"
  },
  "language_info": {
   "codemirror_mode": {
    "name": "ipython",
    "version": 3
   },
   "file_extension": ".py",
   "mimetype": "text/x-python",
   "name": "python",
   "nbconvert_exporter": "python",
   "pygments_lexer": "ipython3",
   "version": "3.7.4"
  }
 },
 "nbformat": 4,
 "nbformat_minor": 2
}
