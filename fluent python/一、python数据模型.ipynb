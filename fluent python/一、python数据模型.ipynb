{
 "cells": [
  {
   "cell_type": "markdown",
   "metadata": {},
   "source": [
    "# 一.python 数据模型"
   ]
  },
  {
   "cell_type": "markdown",
   "metadata": {},
   "source": [
    "# 1.1 python风格的纸牌"
   ]
  },
  {
   "cell_type": "code",
   "execution_count": 9,
   "metadata": {},
   "outputs": [],
   "source": [
    "import collections\n",
    "\n",
    "# 自定义具名元组\n",
    "# 具名元组需要两个参数\n",
    "# collections.namedtuple('name', iterable) \n",
    "# iterable 可以是由空格分隔开的字段名组成的字符串\n",
    "\n",
    "Card = collections.namedtuple('Card', ['rank', 'suit'])\n"
   ]
  },
  {
   "cell_type": "code",
   "execution_count": 12,
   "metadata": {},
   "outputs": [],
   "source": [
    "class FrenchDeck:\n",
    "    # 创建扑克牌rank\n",
    "    ranks = [str(n) for n in range(2, 11)] + list(\"JQKA\")\n",
    "#     print(ranks)\n",
    "    # 创建扑克牌suit\n",
    "    suits = 'spades diamonds clubs hearts'.split()\n",
    "#     print(suits)\n",
    "    \n",
    "    def __init__(self):\n",
    "        self._cards = [Card(rank, suit) for suit in self.suits\n",
    "                                        for rank in self.ranks]\n",
    "    \n",
    "    def __len__(self):\n",
    "        return len(self._cards)\n",
    "    \n",
    "    def __getitem__(self, position):\n",
    "        return self._cards[position]\n",
    "    "
   ]
  },
  {
   "cell_type": "code",
   "execution_count": 16,
   "metadata": {},
   "outputs": [
    {
     "name": "stdout",
     "output_type": "stream",
     "text": [
      "Card(rank='7', suit='diamonds')\n"
     ]
    }
   ],
   "source": [
    "# 创建一张纸牌\n",
    "beer_card = Card('7', 'diamonds')\n",
    "print(beer_card)"
   ]
  },
  {
   "cell_type": "code",
   "execution_count": 18,
   "metadata": {},
   "outputs": [
    {
     "data": {
      "text/plain": [
       "52"
      ]
     },
     "execution_count": 18,
     "metadata": {},
     "output_type": "execute_result"
    }
   ],
   "source": [
    "# 创建一副纸牌，并打印纸牌的牌数\n",
    "deck = FrenchDeck()\n",
    "len(deck)"
   ]
  },
  {
   "cell_type": "code",
   "execution_count": 20,
   "metadata": {},
   "outputs": [
    {
     "data": {
      "text/plain": [
       "Card(rank='2', suit='spades')"
      ]
     },
     "execution_count": 20,
     "metadata": {},
     "output_type": "execute_result"
    }
   ],
   "source": [
    "# 获取最后一张牌\n",
    "deck[0]"
   ]
  },
  {
   "cell_type": "markdown",
   "metadata": {},
   "source": [
    "## 1.2如何使用特殊方法"
   ]
  },
  {
   "cell_type": "markdown",
   "metadata": {},
   "source": [
    ">很多时候， 特殊方法的调用是隐式的， 比如 for i in x: 这个语句， 背后其实用的是\n",
    "iter(x)， 而这个函数的背后则是 x.__iter__() 方法。 "
   ]
  },
  {
   "cell_type": "markdown",
   "metadata": {},
   "source": [
    "### 1.2.1 模拟数值类型"
   ]
  },
  {
   "cell_type": "markdown",
   "metadata": {},
   "source": [
    "示例 1-2 一个简单的二维向量类"
   ]
  },
  {
   "cell_type": "code",
   "execution_count": 22,
   "metadata": {},
   "outputs": [],
   "source": [
    "from math import hypot\n",
    "# math.hypot(x,y) --> return sqrt(x**2, y**2)\n",
    "\n",
    "class Vector:\n",
    "    def __init__(self, x=0, y=0):\n",
    "        self.x = x\n",
    "        self.y = y\n",
    "        \n",
    "    def __repr__(self):\n",
    "        return 'Vector(%r, %r)' % (self.x, self.y)\n",
    "    \n",
    "    def __abs__(self):\n",
    "        return hypot(self.x, self.y)\n",
    "    \n",
    "    def __bool__(self):\n",
    "        return bool(abs(self))\n",
    "    \n",
    "    def __add__(self, other):\n",
    "        x = self.x + other.x\n",
    "        y = self.y + other.y\n",
    "        return Vector(x, y)\n",
    "    \n",
    "    def __mul__(self, scalar):\n",
    "        return Vector(self.x * scalar, self.y *scalar)\n",
    "    "
   ]
  },
  {
   "cell_type": "markdown",
   "metadata": {},
   "source": [
    "### 1.22字符串表示形式\n"
   ]
  },
  {
   "cell_type": "markdown",
   "metadata": {},
   "source": [
    ">Python 有一个内置的函数叫 repr， 它能把一个对象用字符串的形式表达出来以便辨认，\n",
    "这就是“字符串表示形式”。<br>\n",
    "repr 就是通过 __repr__ 这个特殊方法来得到一个对象的字\n",
    "符串表示形式的。 如果没有实现 __repr__， 当我们在控制台里打印一个向量的实例时，\n",
    "得到的字符串可能会是 <Vector object at 0x10e100070>。<br>\n",
    "__repr__ 和 __str__ 的区别在于， 后者是在 str() 函数被使用， 或是在用 print 函数\n",
    "打印一个对象的时候才被调用的， 并且它返回的字符串对终端用户更友好。\n",
    "如果你只想实现这两个特殊方法中的一个， __repr__ 是更好的选择， 因为如果一个对象\n",
    "没有 __str__ 函数， 而 Python 又需要调用它的时候， 解释器会用 __repr__ 作为替代。"
   ]
  },
  {
   "cell_type": "markdown",
   "metadata": {},
   "source": [
    "### 1.2.4 自定义的布尔值\n"
   ]
  },
  {
   "cell_type": "markdown",
   "metadata": {},
   "source": [
    ">默认情况下， 我们自己定义的类的实例总被认为是真的， 除非这个类对 __bool__ 或者\n",
    "__len__ 函数有自己的实现。 bool(x) 的背后是调用 x.__bool__() 的结果； 如果不存\n",
    "在 __bool__ 方法， 那么 bool(x) 会尝试调用 x.__len__()。 若返回 0， 则 bool 会返回\n",
    "False； 否则返回 True"
   ]
  }
 ],
 "metadata": {
  "kernelspec": {
   "display_name": "Python 3",
   "language": "python",
   "name": "python3"
  },
  "language_info": {
   "codemirror_mode": {
    "name": "ipython",
    "version": 3
   },
   "file_extension": ".py",
   "mimetype": "text/x-python",
   "name": "python",
   "nbconvert_exporter": "python",
   "pygments_lexer": "ipython3",
   "version": "3.7.3"
  }
 },
 "nbformat": 4,
 "nbformat_minor": 2
}
