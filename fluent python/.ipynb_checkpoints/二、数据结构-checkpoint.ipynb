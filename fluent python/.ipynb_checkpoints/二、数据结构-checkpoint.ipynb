{
 "cells": [
  {
   "cell_type": "markdown",
   "metadata": {},
   "source": [
    "# 2.序列构成的数组"
   ]
  },
  {
   "cell_type": "markdown",
   "metadata": {},
   "source": [
    "## 2.1内置序列类型概览"
   ]
  },
  {
   "cell_type": "markdown",
   "metadata": {},
   "source": [
    "一、<br>\n",
    "1. 容器序列<br>\n",
    "     list、 tuple 和 collections.deque 这些序列能`存放不同类型的数据`。\n",
    "2. 扁平序列<br>\n",
    "     str、 bytes、 bytearray、 memoryview 和 array.array， 这类序列`只能容纳一种\n",
    "类型`。"
   ]
  },
  {
   "cell_type": "markdown",
   "metadata": {},
   "source": [
    "二、<br>\n",
    "1. 可变序列<br>\n",
    "        list、 bytearray、 array.array、 collections.deque 和 memoryview。\n",
    "2. 不可变序列<br>\n",
    "    tuple、 str 和 bytes。\n"
   ]
  },
  {
   "cell_type": "markdown",
   "metadata": {},
   "source": [
    "## 2.2 列表推导式和生成器表达式 !\n"
   ]
  },
  {
   "cell_type": "markdown",
   "metadata": {},
   "source": [
    "列表推导是构建列表（list） 的快捷方式， 而生成器表达式则可以用来创建其他任何类\n",
    "型的序列。 "
   ]
  },
  {
   "cell_type": "markdown",
   "metadata": {},
   "source": [
    "### 2.2.1 列表推导式"
   ]
  },
  {
   "cell_type": "code",
   "execution_count": 4,
   "metadata": {},
   "outputs": [
    {
     "name": "stdout",
     "output_type": "stream",
     "text": [
      "['a', 'b', 'c', 'd', 'e']\n"
     ]
    }
   ],
   "source": [
    "strings = \"abcde\"\n",
    "lyst = [string for string in strings]\n",
    "print(lyst)"
   ]
  },
  {
   "cell_type": "markdown",
   "metadata": {},
   "source": [
    "### 2.2.2 列表推导式过滤器(filter)"
   ]
  },
  {
   "cell_type": "code",
   "execution_count": 8,
   "metadata": {},
   "outputs": [
    {
     "name": "stdout",
     "output_type": "stream",
     "text": [
      "['4', '5', '6', '7', '8', '9']\n"
     ]
    }
   ],
   "source": [
    "nums = \"123456789\"\n",
    "num_list = [num for num in nums if int(num)>3]\n",
    "print(num_list)"
   ]
  },
  {
   "cell_type": "markdown",
   "metadata": {},
   "source": [
    "### 2.2.3 笛卡儿积(R × S）行×列\n",
    "\n",
    "![dikaerji](http://image.baidu.com/search/detail?ct=503316480&z=undefined&tn=baiduimagedetail&ipn=d&word=%E7%AC%9B%E5%8D%A1%E5%B0%94%E7%A7%AF&step_word=&ie=utf-8&in=&cl=2&lm=-1&st=undefined&hd=undefined&latest=undefined&copyright=undefined&cs=3018326062,191040516&os=1295202828,1934420031&simid=0,0&pn=3&rn=1&di=7700&ln=114&fr=&fmq=1566549577613_R&fm=&ic=undefined&s=undefined&se=&sme=&tab=0&width=undefined&height=undefined&face=undefined&is=0,0&istype=0&ist=&jit=&bdtype=0&spn=0&pi=0&gsm=0&objurl=http%3A%2F%2Fuser-gold-cdn.xitu.io%2F2017%2F4%2F5%2Fabf45816c0851698362db8058d235dcc.PNG%3FimageView2%2F0%2Fw%2F1280%2Fh%2F960%2Fignore-error%2F1&rpstart=0&rpnum=0&adpicid=0&force=undefined)\n",
    "\n",
    ">如前所述， 用列表推导可以生成两个或以上的可迭代类型的笛卡儿积。 笛卡儿积是一个列\n",
    "表， 列表里的元素是由输入的可迭代类型的元素对构成的元组， 因此笛卡儿积列表的长度\n",
    "等于输入变量的长度的乘积，\n"
   ]
  },
  {
   "cell_type": "markdown",
   "metadata": {},
   "source": [
    "eg:如果你需要一个列表， 列表里是 3 种不同尺寸的 T 恤衫， 每个尺寸都有 2 个颜色"
   ]
  },
  {
   "cell_type": "code",
   "execution_count": 10,
   "metadata": {},
   "outputs": [
    {
     "name": "stdout",
     "output_type": "stream",
     "text": [
      "[('black', 'S'), ('black', 'M'), ('black', 'L'), ('white', 'S'), ('white', 'M'), ('white', 'L')]\n"
     ]
    }
   ],
   "source": [
    "# color × size\n",
    "colors = ['black', 'white']\n",
    "sizes = ['S','M','L']\n",
    "tshirts = [(color, size) for color in colors\n",
    "                         for size in sizes]\n",
    "print(tshirts)"
   ]
  },
  {
   "cell_type": "code",
   "execution_count": 13,
   "metadata": {},
   "outputs": [
    {
     "name": "stdout",
     "output_type": "stream",
     "text": [
      "('black', 'S')\n",
      "('black', 'M')\n",
      "('black', 'L')\n",
      "('white', 'S')\n",
      "('white', 'M')\n",
      "('white', 'L')\n"
     ]
    }
   ],
   "source": [
    "# 上面代码相当于下面的\n",
    "for color in colors:\n",
    "    for size in sizes:\n",
    "        print((color,size))"
   ]
  },
  {
   "cell_type": "markdown",
   "metadata": {},
   "source": [
    "------\n"
   ]
  },
  {
   "cell_type": "code",
   "execution_count": 15,
   "metadata": {},
   "outputs": [
    {
     "name": "stdout",
     "output_type": "stream",
     "text": [
      "[('black', 'S'), ('white', 'S'), ('black', 'M'), ('white', 'M'), ('black', 'L'), ('white', 'L')]\n"
     ]
    }
   ],
   "source": [
    "# size × color\n",
    "tshirts = [(color, size) for size in sizes\n",
    "                         for color in colors]\n",
    "print(tshirts)"
   ]
  },
  {
   "cell_type": "markdown",
   "metadata": {},
   "source": [
    "### 2.2.4 生成器表达式\n",
    "    生成器表达式的语法跟列表推导式差不多，只是把[]换成`()`"
   ]
  },
  {
   "cell_type": "code",
   "execution_count": 22,
   "metadata": {},
   "outputs": [
    {
     "name": "stdout",
     "output_type": "stream",
     "text": [
      "<generator object <genexpr> at 0x000001313D2435E8>\n",
      "(36, 162, 163, 165, 8364, 164)\n"
     ]
    },
    {
     "data": {
      "text/plain": [
       "array('I', [36, 162, 163, 165, 8364, 164])"
      ]
     },
     "execution_count": 22,
     "metadata": {},
     "output_type": "execute_result"
    }
   ],
   "source": [
    "# 示例-5 用生成器表达式初始化元组和数组\n",
    "symbols = '$¢£¥€¤'\n",
    "tuple_quote = (ord(symbol) for symbol in symbols)\n",
    "# 生成一个元组，并返回引用\n",
    "print(tuple_quote)\n",
    "print(tuple(tuple_quote))\n",
    "\n",
    "# -----------------------------\n",
    "import array\n",
    "array.array('I', (ord(symbol) for symbol in symbols))"
   ]
  },
  {
   "cell_type": "markdown",
   "metadata": {},
   "source": [
    ">生成器的优点在于：生成器表达式会在每次for循环时才生成一个组合，可以在没有调用之前节省资源"
   ]
  },
  {
   "cell_type": "code",
   "execution_count": 26,
   "metadata": {},
   "outputs": [
    {
     "name": "stdout",
     "output_type": "stream",
     "text": [
      "<generator object <genexpr> at 0x000001313D243CF0>\n",
      "white M\n",
      "white S\n",
      "white L\n",
      "black M\n",
      "black S\n",
      "black L\n"
     ]
    }
   ],
   "source": [
    "# 示例2-6 用生成器表达式计算笛卡尔积\n",
    "colors = ['white','black']\n",
    "sizes = ['M','S','L']\n",
    "color_size = ((color, size) for color in colors\n",
    "                            for size in sizes)\n",
    "# 返回引用\n",
    "print(color_size)\n",
    "\n",
    "for color, size in color_size:\n",
    "    print(color, size)"
   ]
  },
  {
   "cell_type": "markdown",
   "metadata": {},
   "source": [
    "## 2.3元组不仅仅是不可变列表\n",
    "1. 不可变列表\n",
    "2. 用于没有字段名的记录"
   ]
  },
  {
   "cell_type": "markdown",
   "metadata": {},
   "source": [
    "### 2.3.1元组和记录\n",
    "元组其实是对数据的记录： 元组中的每个元素都存放了记录中一个字段的数据， 外加这个\n",
    "字段的位置。 正是这个位置信息给数据赋予了意义"
   ]
  },
  {
   "cell_type": "code",
   "execution_count": 29,
   "metadata": {},
   "outputs": [
    {
     "name": "stdout",
     "output_type": "stream",
     "text": [
      "BRA/CE342567\n",
      "ESP/XDA205856\n",
      "USA/31195855\n",
      "USA\n",
      "BRA\n",
      "ESP\n"
     ]
    }
   ],
   "source": [
    "# 示例2-7 把元组用作记录\n",
    "lax_coordinates = (33.9425, -118.408056)\n",
    "city, year, pop, chg, area = ('Tokyo', 2003, 32450, 0.66, 8014)\n",
    "traveler_ids = [('USA', '31195855'), ('BRA', 'CE342567'),('ESP', 'XDA205856')]\n",
    "for passport in sorted(traveler_ids):\n",
    "    print('%s/%s' % passport)\n",
    "    \n",
    "# _用于占位\n",
    "for country,_ in traveler_ids:\n",
    "    print(country)"
   ]
  },
  {
   "cell_type": "markdown",
   "metadata": {},
   "source": [
    "### 2.3.2元组拆包\n",
    "元组拆包可以应用到任何可迭代对象上， 唯一的硬性要求是， `被可迭代对象中\n",
    "的元素数量必须要跟接受这些元素的元组的空档数一致`。 除非我们用 * 来表示忽略\n",
    "多余的元素"
   ]
  },
  {
   "cell_type": "code",
   "execution_count": 33,
   "metadata": {},
   "outputs": [
    {
     "name": "stdout",
     "output_type": "stream",
     "text": [
      "33.9425\n",
      "-118.408056\n"
     ]
    }
   ],
   "source": [
    "lax_coordinates = (33.9425, -118.408056)\n",
    "latitude, longitude = lax_coordinates\n",
    "\n",
    "print(latitude)\n",
    "print(longitude)"
   ]
  },
  {
   "cell_type": "code",
   "execution_count": 34,
   "metadata": {},
   "outputs": [],
   "source": [
    "# 交换变量\n",
    "# a, b = b, a"
   ]
  },
  {
   "cell_type": "code",
   "execution_count": 36,
   "metadata": {},
   "outputs": [
    {
     "name": "stdout",
     "output_type": "stream",
     "text": [
      "(2, 4)\n"
     ]
    },
    {
     "data": {
      "text/plain": [
       "(2, 4)"
      ]
     },
     "execution_count": 36,
     "metadata": {},
     "output_type": "execute_result"
    }
   ],
   "source": [
    "# 可以用 * 运算符把一个可迭代对象拆开作为函数的参数\n",
    "# divmod(x, y) Return the tuple (x//y, x%y)\n",
    "\n",
    "print(divmod(20, 8))\n",
    "t = (20, 8)\n",
    "print(divmod(*t))\n"
   ]
  },
  {
   "cell_type": "code",
   "execution_count": 40,
   "metadata": {},
   "outputs": [
    {
     "name": "stdout",
     "output_type": "stream",
     "text": [
      "0 1 [2, 3, 4]\n",
      "0 1 []\n",
      "0 [1, 2, 3, 4, 5, 6, 7] 8 9\n"
     ]
    }
   ],
   "source": [
    "# 用*来处理剩下的元素\n",
    "# 类似于(*args, **kwargs)\n",
    "\n",
    "a, b, *rest = range(5)\n",
    "print(a, b, rest)\n",
    "\n",
    "a, b, *rest = range(2)\n",
    "print(a, b, rest)\n",
    "\n",
    "# 在平行赋值中， * 前缀只能用在一个变量名前面， 但是这个变量可以出现在赋值表达式的\n",
    "# 任意位置：\n",
    "\n",
    "a, *body, c, d = range(10)\n",
    "print(a, body, c, d)"
   ]
  },
  {
   "cell_type": "markdown",
   "metadata": {},
   "source": [
    "### 2.3.3嵌套元组拆包\n",
    "接受表达式的元组可以是嵌套式的， 例如 (a, b, (c, d))"
   ]
  },
  {
   "cell_type": "code",
   "execution_count": 42,
   "metadata": {},
   "outputs": [
    {
     "name": "stdout",
     "output_type": "stream",
     "text": [
      "                |   lat.    |   long.  \n",
      "Mexico City     |  19.4333  | -99.1333 \n",
      "New York-Newark |  40.8086  | -74.0204 \n",
      "Sao Paulo       | -23.5478  | -46.6358 \n"
     ]
    }
   ],
   "source": [
    "# 示例2-8 用嵌套元组来获取经度\n",
    "metro_areas = [\n",
    "('Tokyo','JP',36.933,(35.689722,139.691667)),\n",
    "('Delhi NCR', 'IN', 21.935, (28.613889, 77.208889)),\n",
    "('Mexico City', 'MX', 20.142, (19.433333, -99.133333)),\n",
    "('New York-Newark', 'US', 20.104, (40.808611, -74.020386)),\n",
    "('Sao Paulo', 'BR', 19.649, (-23.547778, -46.635833)),\n",
    "]\n",
    "\n",
    "print('{:15} | {:^9} | {:^9}'.format('', 'lat.', 'long.'))\n",
    "fmt = '{:15} | {:^9.4f} | {:^9.4f}'\n",
    "for name, cc, pop, (latitude, longitude) in metro_areas:\n",
    "    if longitude <= 0:\n",
    "        print(fmt.format(name, latitude, longitude))"
   ]
  },
  {
   "cell_type": "markdown",
   "metadata": {},
   "source": [
    "### 2.3.4 具名元组\n",
    "collections.namedtuple 是一个工厂函数， 它可以用来构建一个带字段名的元组和一\n",
    "个有名字的类——这个带名字的类对调试程序有很大帮助\n",
    "\n",
    "/*创建一个具名元组需要两个参数， 一个是类名， 另一个是类的各个字段的名字。 后者\n",
    "可以是由数个字符串组成的可迭代对象， 或者是由空格分隔开的字段名组成的字符串.*/"
   ]
  },
  {
   "cell_type": "code",
   "execution_count": 55,
   "metadata": {},
   "outputs": [
    {
     "name": "stdout",
     "output_type": "stream",
     "text": [
      "City(name='Tokyo', country='JP', population=36.933, coodinates=(35.689722, 139.691667))\n",
      "(35.689722, 139.691667)\n"
     ]
    }
   ],
   "source": [
    "# 示例2-9 定义和使用具名元组\n",
    "from collections import namedtuple\n",
    "\n",
    "# reference = namedtuple('name', '字段名1 字段名2 ...') 字段之间必须用空格隔开\n",
    "# --> name(字段名1='', 字段名2='' ...)\n",
    "\n",
    "City = namedtuple('City', 'name country population coodinates')\n",
    "tokyo = City('Tokyo', 'JP', 36.933, (35.689722, 139.691667))\n",
    "\n",
    "print(tokyo)\n",
    "print(tokyo.coodinates)\n"
   ]
  },
  {
   "cell_type": "code",
   "execution_count": 62,
   "metadata": {},
   "outputs": [
    {
     "name": "stdout",
     "output_type": "stream",
     "text": [
      "OrderedDict([('name', 'Delhi NCR'), ('country', 'IN'), ('population', 21.935), ('coodinates', LatLong(lat=28.613889, long=77.208889))])\n",
      "name: Delhi NCR\n",
      "country: IN\n",
      "population: 21.935\n",
      "coodinates: LatLong(lat=28.613889, long=77.208889)\n"
     ]
    }
   ],
   "source": [
    "# 除了从普通元组那里继承来的属性之外， 具名元组还有一些自己专有的属性。 示例 2-10\n",
    "# 中就展示了几个最有用的： _fields 类属性、 类方法 _make(iterable) 和实例方法\n",
    "# _asdict()\n",
    "City._fields\n",
    "\n",
    "LatLong = namedtuple('LatLong', 'lat long')\n",
    "delhi_data = ('Delhi NCR', 'IN', 21.935, LatLong(28.613889, 77.208889))\n",
    "delhi = City._make(delhi_data) # 相当于 City(*delhi_data)\n",
    "# print(delhi)\n",
    "print(delhi._asdict())\n",
    "\n",
    "for key, value in delhi._asdict().items():\n",
    "    print(key + \":\", value)"
   ]
  },
  {
   "cell_type": "markdown",
   "metadata": {},
   "source": [
    "### 2.4.2 对对象进行切片\n"
   ]
  },
  {
   "cell_type": "code",
   "execution_count": 6,
   "metadata": {},
   "outputs": [
    {
     "ename": "TypeError",
     "evalue": "__getitem__() takes exactly one argument (0 given)",
     "output_type": "error",
     "traceback": [
      "\u001b[1;31m---------------------------------------------------------------------------\u001b[0m",
      "\u001b[1;31mTypeError\u001b[0m                                 Traceback (most recent call last)",
      "\u001b[1;32m<ipython-input-6-a6c0e099e67b>\u001b[0m in \u001b[0;36m<module>\u001b[1;34m\u001b[0m\n\u001b[1;32m----> 1\u001b[1;33m \u001b[1;33m[\u001b[0m\u001b[1;33m]\u001b[0m\u001b[1;33m.\u001b[0m\u001b[0m__getitem__\u001b[0m\u001b[1;33m(\u001b[0m\u001b[1;33m)\u001b[0m\u001b[1;33m.\u001b[0m\u001b[0m__doc__\u001b[0m\u001b[1;33m\u001b[0m\u001b[1;33m\u001b[0m\u001b[0m\n\u001b[0m",
      "\u001b[1;31mTypeError\u001b[0m: __getitem__() takes exactly one argument (0 given)"
     ]
    }
   ],
   "source": [
    "[].__getitem__().__doc__"
   ]
  }
 ],
 "metadata": {
  "kernelspec": {
   "display_name": "Python 3",
   "language": "python",
   "name": "python3"
  },
  "language_info": {
   "codemirror_mode": {
    "name": "ipython",
    "version": 3
   },
   "file_extension": ".py",
   "mimetype": "text/x-python",
   "name": "python",
   "nbconvert_exporter": "python",
   "pygments_lexer": "ipython3",
   "version": "3.7.3"
  }
 },
 "nbformat": 4,
 "nbformat_minor": 2
}
