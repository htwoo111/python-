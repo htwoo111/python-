{
 "cells": [
  {
   "cell_type": "markdown",
   "metadata": {},
   "source": [
    "## 元类：创建类的类\n",
    "在python中可以用type()创建一个类\n",
    "eg：type('类名', (父类, ), {属性/方法})"
   ]
  },
  {
   "cell_type": "code",
   "execution_count": 9,
   "metadata": {},
   "outputs": [
    {
     "name": "stdout",
     "output_type": "stream",
     "text": [
      "<class '__main__.Test'>\n",
      "<class '__main__.Test2'>\n"
     ]
    }
   ],
   "source": [
    "class Test(object):\n",
    "    pass\n",
    "test1 = Test()\n",
    "print(type(test1))\n",
    "\n",
    "# =====等于======\n",
    "Test2 = type('Test2', (object,), {})\n",
    "test2 = Test2()\n",
    "print(type(test2))\n"
   ]
  },
  {
   "cell_type": "code",
   "execution_count": 12,
   "metadata": {},
   "outputs": [
    {
     "name": "stdout",
     "output_type": "stream",
     "text": [
      "xiaoming\n"
     ]
    }
   ],
   "source": [
    "# type创建带属性的类\n",
    "Test3 = type('Test3', (), {'name':'xiaoming'})\n",
    "test3 = Test3()\n",
    "print(test3.name)"
   ]
  },
  {
   "cell_type": "code",
   "execution_count": 17,
   "metadata": {},
   "outputs": [
    {
     "name": "stdout",
     "output_type": "stream",
     "text": [
      "xiaoming is running\n"
     ]
    }
   ],
   "source": [
    "# type 创建带方法的类\n",
    "def __init__(self, name):\n",
    "    self.name = name\n",
    "    \n",
    "def run(self):\n",
    "    print(\"%s is running\" % self.name)\n",
    "    \n",
    "\n",
    "Test4 = type('Test4', (), {'__init__': __init__, 'run':run})\n",
    "# ========等于==========\n",
    "# class Test4():\n",
    "#     def __init__(self, name):\n",
    "#     self.name = name\n",
    "    \n",
    "#     def run(self):\n",
    "#         print(\"%s is running\" % self.name)\n",
    "\n",
    "# ======================\n",
    "\n",
    "test4 = Test4('xiaoming')\n",
    "test4.run()\n"
   ]
  },
  {
   "cell_type": "markdown",
   "metadata": {},
   "source": [
    "## `__metaclass__`属性"
   ]
  },
  {
   "cell_type": "markdown",
   "metadata": {},
   "source": [
    "你可以在定义一个类的时候为其添加__metaclass__属性。\n",
    "```python\n",
    "class Foo(object):\n",
    "    __metaclass__ = something…\n",
    "#     ...省略...\n",
    "```\n",
    "\n",
    "如果你这么做了，Python就会用元类来创建类Foo。小心点，这里面有些技巧。你首先写下class Foo(object)，但是类Foo还没有在内存中创建。Python会在类的定义中寻找__metaclass__属性，如果找到了，Python就会用它来创建类Foo，如果没有找到，就会用内建的type来创建这个类"
   ]
  },
  {
   "cell_type": "markdown",
   "metadata": {},
   "source": [
    "当执行如下的代码时：\n",
    "```python\n",
    "class Foo(bar):\n",
    "    pass\n",
    "```\n",
    "Python做了如下的操作：\n",
    "\n",
    "1. Foo中有__metaclass__这个属性吗？如果是，Python会通过__metaclass__创建一个名字为Foo的类(对象)\n",
    "2. 如果Python没有找到__metaclass__，它会继续在Bar（父类）中寻找__metaclass__属性，并尝试做和前面同样的操作。\n",
    "3. 如果Python在任何父类中都找不到__metaclass__，它就会在模块层次中去寻找__metaclass__，并尝试做同样的操作。\n",
    "4. 如果还是找不到__metaclass__,Python就会用内置的type来创建这个类对象。\n",
    "现在的问题就是，你可以在__metaclass__中放置些什么代码呢？答案就是：可以创建一个类的东西。那么什么可以用来创建一个类呢？type，或者任何使用到type或者子类化type的东东都可以。"
   ]
  },
  {
   "cell_type": "markdown",
   "metadata": {},
   "source": [
    "<BR><BR><BR>"
   ]
  },
  {
   "cell_type": "markdown",
   "metadata": {},
   "source": [
    "## 自定义元类"
   ]
  },
  {
   "cell_type": "markdown",
   "metadata": {},
   "source": [
    "假想一个很傻的例子，你决定在你的模块里所有的类的属性都应该是大写形式。有好几种方法可以办到，但其中一种就是通过在模块级别设定__metaclass__。采用这种方法，这个模块中的所有类都会通过这个元类来创建，我们只需要告诉元类把所有的属性都改成大写形式就万事大吉了。\n",
    "\n",
    "幸运的是，__metaclass__实际上可以被任意调用，它并不需要是一个正式的类。所以，我们这里就先以一个简单的函数作为例子开始。"
   ]
  },
  {
   "cell_type": "code",
   "execution_count": 21,
   "metadata": {},
   "outputs": [
    {
     "name": "stdout",
     "output_type": "stream",
     "text": [
      "True\n"
     ]
    }
   ],
   "source": [
    "# 用函数实现\n",
    "\n",
    "\n",
    "# 根据自定的元类创建类时，python解释器会把('类名', (父类元组,), {属性字典}) 传入到当前函数\n",
    "def ToUpperCase(class_name, class_parent, class_attr):  \n",
    "    new_attr = {}\n",
    "    for key, value in class_attr.items():\n",
    "        if not key.startswith(\"__\"):  # 把__开头的私有属性/方法(如：__init__)排除，避免误伤\n",
    "            new_attr[key.upper()] = value\n",
    "    return type(class_name, class_parent, new_attr)  # 返回必须是一个元类\n",
    "\n",
    "\n",
    "class Foo(object, metaclass=ToUpperCase):  # 在创建类时，如果参数中有metaclass='元类'时， python解释器会根据传入的元类来创建当前的类\n",
    "    bar = 'bar'\n",
    "\n",
    "    \n",
    "print(hasattr(Foo, 'BAR'))"
   ]
  },
  {
   "cell_type": "code",
   "execution_count": 20,
   "metadata": {},
   "outputs": [
    {
     "data": {
      "text/plain": [
       "True"
      ]
     },
     "execution_count": 20,
     "metadata": {},
     "output_type": "execute_result"
    }
   ],
   "source": [
    "# 用类实现\n",
    "\n",
    "class ToUpperCase(type):\n",
    "    def __new__(cls, class_name, class_parents, class_attr):  # 创建类时，python解释器会调用__new__()方法为对象分配空间\n",
    "        new_attr = {}\n",
    "        for key, value in class_attr.items():\n",
    "            if not key.startswith(\"__\"):\n",
    "                new_attr[key.upper()] = value\n",
    "        return type(class_name, class_parents, new_attr)\n",
    "\n",
    "    \n",
    "class Foo(object,metaclass=ToUpperCase):\n",
    "    foo = 'ok'\n",
    "\n",
    "\n",
    "foo1 = Foo()\n",
    "hasattr(Foo, 'FOO')"
   ]
  },
  {
   "cell_type": "markdown",
   "metadata": {},
   "source": [
    "<BR><BR>\n",
    "## 元类的作用可以总结为以下几点：\n",
    "1. 拦截类的创建\n",
    "2. 修改拦截的类\n",
    "3. 返回修改后的类\n",
    "---\n",
    "根据以上的特性，元类可以用来实现ORM（Object Relational Mapping)\n",
    "    \n",
    "    "
   ]
  },
  {
   "cell_type": "code",
   "execution_count": 23,
   "metadata": {},
   "outputs": [
    {
     "name": "stdout",
     "output_type": "stream",
     "text": [
      "Found mapping: uid ==> ('uid', 'int unsigned')\n",
      "Found mapping: name ==> ('username', 'varchar(30)')\n",
      "Found mapping: email ==> ('email', 'varchar(30)')\n",
      "Found mapping: password ==> ('password', 'varchar(30)')\n",
      "SQL: insert into User (uid,username,email,password) values (12345,'Michael','test@orm.org','my-pwd')\n"
     ]
    }
   ],
   "source": [
    "# 通过元类简单实现ORM中的insert功能\n",
    "\n",
    "\n",
    "class ModelMetaclass(type):\n",
    "    def __new__(cls, name, bases, attrs):\n",
    "        mappings = dict()\n",
    "        # 判断是否需要保存\n",
    "        for k, v in attrs.items():\n",
    "            # 判断是否是指定的StringField或者IntegerField的实例对象\n",
    "            if isinstance(v, tuple):\n",
    "                print('Found mapping: %s ==> %s' % (k, v))\n",
    "                mappings[k] = v\n",
    "\n",
    "        # 删除这些已经在字典中存储的属性\n",
    "        for k in mappings.keys():\n",
    "            attrs.pop(k)\n",
    "\n",
    "        # 将之前的uid/name/email/password以及对应的对象引用、类名字\n",
    "        attrs['__mappings__'] = mappings  # 保存属性和列的映射关系\n",
    "        attrs['__table__'] = name  # 假设表名和类名一致\n",
    "        return type.__new__(cls, name, bases, attrs)\n",
    "\n",
    "\n",
    "class User(metaclass=ModelMetaclass):\n",
    "    uid = ('uid', \"int unsigned\")\n",
    "    name = ('username', \"varchar(30)\")\n",
    "    email = ('email', \"varchar(30)\")\n",
    "    password = ('password', \"varchar(30)\")\n",
    "    # 当指定元类之后，以上的类属性将不在类中，而是在__mappings__属性指定的字典中存储\n",
    "    # 以上User类中有 \n",
    "    # __mappings__ = {\n",
    "    #     \"uid\": ('uid', \"int unsigned\")\n",
    "    #     \"name\": ('username', \"varchar(30)\")\n",
    "    #     \"email\": ('email', \"varchar(30)\")\n",
    "    #     \"password\": ('password', \"varchar(30)\")\n",
    "    # }\n",
    "    # __table__ = \"User\"\n",
    "    def __init__(self, **kwargs):\n",
    "        for name, value in kwargs.items():\n",
    "            setattr(self, name, value)\n",
    "\n",
    "    def save(self):\n",
    "        fields = []\n",
    "        args = []\n",
    "        for k, v in self.__mappings__.items():\n",
    "            fields.append(v[0])\n",
    "            args.append(getattr(self, k, None))\n",
    "\n",
    "        args_temp = list()\n",
    "        for temp in args:\n",
    "            # 判断入如果是数字类型\n",
    "            if isinstance(temp, int):\n",
    "                args_temp.append(str(temp))\n",
    "            elif isinstance(temp, str):\n",
    "                args_temp.append(\"\"\"'%s'\"\"\" % temp)\n",
    "        sql = 'insert into %s (%s) values (%s)' % (self.__table__, ','.join(fields), ','.join(args_temp))\n",
    "        print('SQL: %s' % sql)\n",
    "\n",
    "\n",
    "u = User(uid=12345, name='Michael', email='test@orm.org', password='my-pwd')\n",
    "# print(u.__dict__)\n",
    "u.save()"
   ]
  },
  {
   "cell_type": "code",
   "execution_count": 24,
   "metadata": {},
   "outputs": [
    {
     "name": "stdout",
     "output_type": "stream",
     "text": [
      "Found model: User\n",
      "Found mapping: id ==> <IntegerField:id>\n",
      "Found mapping: name ==> <StringField:username>\n",
      "Found mapping: email ==> <StringField:email>\n",
      "Found mapping: password ==> <StringField:password>\n",
      "SQL: insert into User (id,username,email,password) values (?,?,?,?)\n",
      "ARGS: [12345, 'Michael', 'test@orm.org', 'my-pwd']\n"
     ]
    }
   ],
   "source": [
    "#!/usr/bin/env python3\n",
    "# -*- coding: utf-8 -*-\n",
    "\n",
    "' Simple ORM using metaclass '\n",
    "\n",
    "class Field(object):\n",
    "\n",
    "    def __init__(self, name, column_type):\n",
    "        self.name = name\n",
    "        self.column_type = column_type\n",
    "\n",
    "    def __str__(self):\n",
    "        return '<%s:%s>' % (self.__class__.__name__, self.name)\n",
    "\n",
    "class StringField(Field):\n",
    "\n",
    "    def __init__(self, name):\n",
    "        super(StringField, self).__init__(name, 'varchar(100)')\n",
    "\n",
    "class IntegerField(Field):\n",
    "\n",
    "    def __init__(self, name):\n",
    "        super(IntegerField, self).__init__(name, 'bigint')\n",
    "\n",
    "class ModelMetaclass(type):\n",
    "\n",
    "    def __new__(cls, name, bases, attrs):\n",
    "        if name=='Model':\n",
    "            return type.__new__(cls, name, bases, attrs)\n",
    "        print('Found model: %s' % name)\n",
    "        mappings = dict()\n",
    "        for k, v in attrs.items():\n",
    "            if isinstance(v, Field):\n",
    "                print('Found mapping: %s ==> %s' % (k, v))\n",
    "                mappings[k] = v\n",
    "        for k in mappings.keys():\n",
    "            attrs.pop(k)\n",
    "        attrs['__mappings__'] = mappings # 保存属性和列的映射关系\n",
    "        attrs['__table__'] = name # 假设表名和类名一致\n",
    "        return type.__new__(cls, name, bases, attrs)\n",
    "\n",
    "class Model(dict, metaclass=ModelMetaclass):\n",
    "\n",
    "    def __init__(self, **kw):\n",
    "        super(Model, self).__init__(**kw)\n",
    "\n",
    "    def __getattr__(self, key):\n",
    "        try:\n",
    "            return self[key]\n",
    "        except KeyError:\n",
    "            raise AttributeError(r\"'Model' object has no attribute '%s'\" % key)\n",
    "\n",
    "    def __setattr__(self, key, value):\n",
    "        self[key] = value\n",
    "\n",
    "    def save(self):\n",
    "        fields = []\n",
    "        params = []\n",
    "        args = []\n",
    "        for k, v in self.__mappings__.items():\n",
    "            fields.append(v.name)\n",
    "            params.append('?')\n",
    "            args.append(getattr(self, k, None))\n",
    "        sql = 'insert into %s (%s) values (%s)' % (self.__table__, ','.join(fields), ','.join(params))\n",
    "        print('SQL: %s' % sql)\n",
    "        print('ARGS: %s' % str(args))\n",
    "\n",
    "# testing code:\n",
    "\n",
    "class User(Model):\n",
    "    id = IntegerField('id')\n",
    "    name = StringField('username')\n",
    "    email = StringField('email')\n",
    "    password = StringField('password')\n",
    "\n",
    "u = User(id=12345, name='Michael', email='test@orm.org', password='my-pwd')\n",
    "u.save()"
   ]
  },
  {
   "cell_type": "code",
   "execution_count": 26,
   "metadata": {},
   "outputs": [
    {
     "name": "stderr",
     "output_type": "stream",
     "text": [
      "E\n",
      "======================================================================\n",
      "ERROR: C:\\Users\\htwoo\\AppData\\Roaming\\jupyter\\runtime\\kernel-9905fd5b-2806-433c-ad60-814891d09a1f (unittest.loader._FailedTest)\n",
      "----------------------------------------------------------------------\n",
      "AttributeError: module '__main__' has no attribute 'C:\\Users\\htwoo\\AppData\\Roaming\\jupyter\\runtime\\kernel-9905fd5b-2806-433c-ad60-814891d09a1f'\n",
      "\n",
      "----------------------------------------------------------------------\n",
      "Ran 1 test in 0.001s\n",
      "\n",
      "FAILED (errors=1)\n"
     ]
    },
    {
     "ename": "SystemExit",
     "evalue": "True",
     "output_type": "error",
     "traceback": [
      "An exception has occurred, use %tb to see the full traceback.\n",
      "\u001b[1;31mSystemExit\u001b[0m\u001b[1;31m:\u001b[0m True\n"
     ]
    },
    {
     "name": "stderr",
     "output_type": "stream",
     "text": [
      "D:\\anaconda\\lib\\site-packages\\IPython\\core\\interactiveshell.py:3304: UserWarning: To exit: use 'exit', 'quit', or Ctrl-D.\n",
      "  warn(\"To exit: use 'exit', 'quit', or Ctrl-D.\", stacklevel=1)\n"
     ]
    }
   ],
   "source": [
    "import unittest\n",
    "\n",
    "class TestStudent(unittest.TestCase):\n",
    "\n",
    "    def test_80_to_100(self):\n",
    "        s1 = Student('Bart', 80)\n",
    "        s2 = Student('Lisa', 100)\n",
    "        self.assertEqual(s1.get_grade(), 'A')\n",
    "        self.assertEqual(s2.get_grade(), 'A')\n",
    "\n",
    "    def test_60_to_80(self):\n",
    "        s1 = Student('Bart', 60)\n",
    "        s2 = Student('Lisa', 79)\n",
    "        self.assertEqual(s1.get_grade(), 'B')\n",
    "        self.assertEqual(s2.get_grade(), 'B')\n",
    "\n",
    "    def test_0_to_60(self):\n",
    "        s1 = Student('Bart', 0)\n",
    "        s2 = Student('Lisa', 59)\n",
    "        self.assertEqual(s1.get_grade(), 'C')\n",
    "        self.assertEqual(s2.get_grade(), 'C')\n",
    "\n",
    "    def test_invalid(self):\n",
    "        s1 = Student('Bart', -1)\n",
    "        s2 = Student('Lisa', 101)\n",
    "        with self.assertRaises(ValueError):\n",
    "            s1.get_grade()\n",
    "        with self.assertRaises(ValueError):\n",
    "            s2.get_grade()\n",
    "\n",
    "if __name__ == '__main__':\n",
    "    unittest.main()"
   ]
  },
  {
   "cell_type": "code",
   "execution_count": null,
   "metadata": {},
   "outputs": [],
   "source": []
  }
 ],
 "metadata": {
  "kernelspec": {
   "display_name": "Python 3",
   "language": "python",
   "name": "python3"
  },
  "language_info": {
   "codemirror_mode": {
    "name": "ipython",
    "version": 3
   },
   "file_extension": ".py",
   "mimetype": "text/x-python",
   "name": "python",
   "nbconvert_exporter": "python",
   "pygments_lexer": "ipython3",
   "version": "3.7.3"
  }
 },
 "nbformat": 4,
 "nbformat_minor": 2
}
