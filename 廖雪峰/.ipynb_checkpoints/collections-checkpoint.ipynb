{
 "cells": [
  {
   "cell_type": "markdown",
   "metadata": {},
   "source": [
    "# collections"
   ]
  },
  {
   "cell_type": "markdown",
   "metadata": {},
   "source": [
    "## 一、namedtuple\n",
    "具名元组 -- 定义具名元组后，可以用name.attr 访问，而不需要用索引\n",
    "\n",
    "> arg_name = namedtuple('name', ['x', 'y', 'z', attr_list]) <br>\n",
    "   a = arg_name(1,2,3)<br>\n",
    "   output: name(x=1,y=2,z=3)<br>\n",
    "   可以通过arg_name.x访问， 也可以用索引访问"
   ]
  },
  {
   "cell_type": "code",
   "execution_count": 5,
   "metadata": {},
   "outputs": [
    {
     "name": "stdout",
     "output_type": "stream",
     "text": [
      "Point(x=1, y=2)\n",
      "1\n",
      "2\n"
     ]
    }
   ],
   "source": [
    "from collections import namedtuple\n",
    "\n",
    "Point = namedtuple('Point', ['x', 'y'])  # class type\n",
    "\n",
    "p = Point(1,2)  # Point(x=1, y=2) 获得一个具名元组\n",
    "print(p)\n",
    "print(p.x)\n",
    "print(p[1])"
   ]
  },
  {
   "cell_type": "code",
   "execution_count": 8,
   "metadata": {},
   "outputs": [
    {
     "name": "stdout",
     "output_type": "stream",
     "text": [
      "Circle(x=1, y=2, r=3)\n"
     ]
    }
   ],
   "source": [
    "Circle = namedtuple('Circle', ['x', 'y', 'r'])  # 用坐标，半径定义一个圆\n",
    "\n",
    "c = Circle(1,2,3)\n",
    "print(c)\n"
   ]
  },
  {
   "cell_type": "markdown",
   "metadata": {},
   "source": [
    "## 二、deque\n",
    "使用list存储数据时，按索引访问元素很快，但是插入和删除元素就很慢了，因为list是线性存储，数据量大的时候，插入和删除效率很低。\n",
    "\n",
    "deque是为了高效实现插入和删除操作的双向列表，适合用于队列和栈：__可以实现先进先出，先进后出__\n"
   ]
  },
  {
   "cell_type": "code",
   "execution_count": 15,
   "metadata": {},
   "outputs": [
    {
     "name": "stdout",
     "output_type": "stream",
     "text": [
      "deque([1, 2, 3, 4, 5, 10])\n",
      "deque([0, 1, 2, 3, 4, 5, 10])\n",
      "deque([0, 1, 2, 3, 4, 5])\n",
      "deque([1, 2, 3, 4, 5])\n"
     ]
    }
   ],
   "source": [
    "from collections import deque\n",
    "\n",
    "lyst = deque([1,2,3,4,5])  # define a list\n",
    "# print(lyst)  deque([1, 2, 3, 4, 5])\n",
    "\n",
    "lyst.append(10)\n",
    "print(lyst)\n",
    "\n",
    "lyst.appendleft(0)\n",
    "print(lyst)\n",
    "\n",
    "lyst.pop()\n",
    "print(lyst)\n",
    "\n",
    "lyst.popleft()\n",
    "print(lyst)"
   ]
  },
  {
   "cell_type": "markdown",
   "metadata": {},
   "source": [
    "## 三、defaultdict\n",
    "使用dict时，如果引用的Key不存在，就会抛出KeyError。如果希望key不存在时，__返回一个默认值__，就可以用defaultdict：\n",
    "\n"
   ]
  },
  {
   "cell_type": "code",
   "execution_count": 19,
   "metadata": {},
   "outputs": [
    {
     "name": "stdout",
     "output_type": "stream",
     "text": [
      "xiaoming\n",
      "this is default value\n"
     ]
    }
   ],
   "source": [
    "from collections import defaultdict\n",
    "\n",
    "ddict = defaultdict(lambda:'this is default value')\n",
    "\n",
    "ddict['name'] = 'xiaoming'\n",
    "print(ddict['name'])\n",
    "\n",
    "print(ddict['age'])  # age not existence"
   ]
  },
  {
   "cell_type": "markdown",
   "metadata": {},
   "source": [
    "## 四、OrderedDict\n",
    "使用dict时，Key是无序的。在对dict做迭代时，我们无法确定Key的顺序。\n",
    "\n",
    "如果要保持Key的顺序，可以用OrderedDict："
   ]
  },
  {
   "cell_type": "code",
   "execution_count": 26,
   "metadata": {},
   "outputs": [
    {
     "name": "stdout",
     "output_type": "stream",
     "text": [
      "{'a': 1, 'b': 2, 'd': 4, 'c': 5}\n",
      "OrderedDict([('a', 1), ('b', 2), ('d', 4), ('c', 5)])\n"
     ]
    }
   ],
   "source": [
    "from collections import OrderedDict\n",
    "lyst = [('a', 1),\n",
    "        ('b', 2),\n",
    "        ('d', 4),\n",
    "        ('c', 5)]\n",
    "\n",
    "ud = dict(lyst)\n",
    "print(ud)\n",
    "# ud[1]  KeyError\n",
    "\n",
    "od = OrderedDict(lyst)\n",
    "print(od)\n",
    "\n"
   ]
  },
  {
   "cell_type": "code",
   "execution_count": 33,
   "metadata": {},
   "outputs": [
    {
     "name": "stdout",
     "output_type": "stream",
     "text": [
      "OrderedDict([('z', 1), ('y', 2), ('x', 3)])\n",
      "['z', 'y', 'x']\n",
      "{'z': 1, 'y': 2, 'x': 3}\n",
      "['z', 'y', 'x']\n"
     ]
    }
   ],
   "source": [
    "# 注意，OrderedDict的Key会按照插入的顺序排列，不是Key本身排序：\n",
    "\n",
    "od2 = OrderedDict()\n",
    "od2['z'] = 1\n",
    "od2['y'] = 2\n",
    "od2['x'] = 3\n",
    "print(od2)\n",
    "od2_list = list(od2.keys())\n",
    "print(od2_list)\n",
    "\n",
    "# --------------------------------------\n",
    "ud2 = dict()\n",
    "ud2['z'] = 1\n",
    "ud2['y'] = 2\n",
    "ud2['x'] = 3\n",
    "print(ud2)\n",
    "ud2_list = list(ud2.keys())\n",
    "print(ud2_list)"
   ]
  },
  {
   "cell_type": "code",
   "execution_count": 49,
   "metadata": {},
   "outputs": [
    {
     "name": "stdout",
     "output_type": "stream",
     "text": [
      "add: ('a', 1)\n",
      "add: ('b', 2)\n",
      "remove: ('a', 1)\n",
      "add: ('c', 3)\n"
     ]
    }
   ],
   "source": [
    "#  OrderedDict可以实现一个FIFO（先进先出）的dict，当容量超出限制时，先删除最早添加的Key：\n",
    "\n",
    "class LastUpdatedOrderedDict(OrderedDict):\n",
    "\n",
    "    def __init__(self, capacity):\n",
    "        super(LastUpdatedOrderedDict, self).__init__()\n",
    "        self._capacity = capacity\n",
    "\n",
    "    def __setitem__(self, key, value):\n",
    "        containsKey = 1 if key in self else 0\n",
    "        if len(self) - containsKey >= self._capacity:\n",
    "            last = self.popitem(last=False)\n",
    "            print('remove:', last)\n",
    "        if containsKey:\n",
    "            del self[key]\n",
    "            print('set:', (key, value))\n",
    "        else:\n",
    "            print('add:', (key, value))\n",
    "        OrderedDict.__setitem__(self, key, value)\n",
    "od = LastUpdatedOrderedDict(2)\n",
    "od['a'] = 1\n",
    "od['b'] = 2\n",
    "od['c'] = 3\n"
   ]
  },
  {
   "cell_type": "markdown",
   "metadata": {},
   "source": [
    "## 五、counter"
   ]
  },
  {
   "cell_type": "code",
   "execution_count": 63,
   "metadata": {},
   "outputs": [
    {
     "name": "stdout",
     "output_type": "stream",
     "text": [
      "Counter({'.': 4, 't': 3, 'e': 2, 'c': 1, 'o': 1, 'u': 1, 'n': 1, 'r': 1, ' ': 1, 's': 1})\n",
      "c --- 1\n",
      "o --- 1\n",
      "u --- 1\n",
      "n --- 1\n",
      "t --- 3\n",
      "e --- 2\n",
      "r --- 1\n",
      "  --- 1\n",
      "s --- 1\n",
      ". --- 4\n"
     ]
    }
   ],
   "source": [
    "from collections import Counter\n",
    "\n",
    "c = Counter()\n",
    "for ch in 'counter test....':\n",
    "    c[ch] = c[ch] + 1\n",
    "print(c)\n",
    "for k,v in list(c.items()):\n",
    "    print(k,\"---\",v)"
   ]
  },
  {
   "cell_type": "markdown",
   "metadata": {},
   "source": [
    "## 六、itertools\n"
   ]
  },
  {
   "cell_type": "markdown",
   "metadata": {},
   "source": [
    "### 首先，我们看看itertools提供的几个“无限”迭代器"
   ]
  },
  {
   "cell_type": "code",
   "execution_count": null,
   "metadata": {},
   "outputs": [],
   "source": [
    "import itertools\n",
    "natuals = itertools.count(1)\n",
    "for n in natuals:\n",
    "    print(n)\n",
    "    if n > 10:\n",
    "        break\n",
    "# 如果不设置退出条件的话，会无限循环\n"
   ]
  },
  {
   "cell_type": "code",
   "execution_count": 75,
   "metadata": {},
   "outputs": [
    {
     "name": "stdout",
     "output_type": "stream",
     "text": [
      "a\n",
      "b\n",
      "c\n",
      "a\n",
      "b\n",
      "c\n",
      "a\n",
      "b\n",
      "c\n",
      "a\n"
     ]
    }
   ],
   "source": [
    "# cycle： 把传入的一个序列进行无限循环\n",
    "\n",
    "cs = itertools.cycle('abc')  # 字符串也是一种序列，\n",
    "count = 0\n",
    "for c in cs:\n",
    "    print(c)\n",
    "    count+=1\n",
    "    if count == 10:\n",
    "        break"
   ]
  },
  {
   "cell_type": "markdown",
   "metadata": {},
   "source": [
    "repeat()负责把一个元素无限重复下去，不过如果提供第二个参数就可以限定重复次数：\n",
    "\n"
   ]
  },
  {
   "cell_type": "code",
   "execution_count": 77,
   "metadata": {},
   "outputs": [
    {
     "name": "stdout",
     "output_type": "stream",
     "text": [
      "a\n",
      "a\n",
      "a\n",
      "a\n",
      "a\n"
     ]
    }
   ],
   "source": [
    "ns = itertools.repeat('a', 5)  # 重复5次\n",
    "for n in ns:\n",
    "    print(n)"
   ]
  },
  {
   "cell_type": "markdown",
   "metadata": {},
   "source": [
    "无限序列虽然可以无限迭代下去，但是通常我们会通过takewhile()等函数根据条件判断来截取出一个有限的序列：\n",
    "\n"
   ]
  },
  {
   "cell_type": "code",
   "execution_count": 79,
   "metadata": {},
   "outputs": [
    {
     "name": "stdout",
     "output_type": "stream",
     "text": [
      "[1, 3, 5, 7, 9]\n"
     ]
    }
   ],
   "source": [
    "natuals = itertools.count(1,step=2)\n",
    "ns = itertools.takewhile(lambda x : x<=10, natuals)\n",
    "print(list(ns))"
   ]
  },
  {
   "cell_type": "markdown",
   "metadata": {},
   "source": [
    "chain() ---- 把一组可迭代对象串联起来，形成更大的迭代器\n"
   ]
  },
  {
   "cell_type": "code",
   "execution_count": 85,
   "metadata": {},
   "outputs": [
    {
     "name": "stdout",
     "output_type": "stream",
     "text": [
      "['a', 'a', 'a', 'b', 'b', 'b', 'c', 'c', 'c']\n",
      "[0, 1, 2, 3, 4, 5, 6, 7, 8, 9, 10, 11, 12, 13, 14, 'a', 'b', 'c']\n",
      "a\n",
      "b\n",
      "c\n",
      "s\n",
      "s\n",
      "s\n"
     ]
    }
   ],
   "source": [
    "big_iter = itertools.chain('aaa','bbb','ccc')\n",
    "print(list(big_iter))\n",
    "\n",
    "big_iter2 = itertools.chain(range(10),range(10,15),'abc')\n",
    "print(list(big_iter2))\n",
    "\n",
    "for i in itertools.chain('abc','sss'):\n",
    "    print(i)\n"
   ]
  },
  {
   "cell_type": "markdown",
   "metadata": {},
   "source": [
    "groupby()<br>\n",
    "groupby()把迭代器中相邻的重复元素挑出来放在一起：\n",
    "\n"
   ]
  },
  {
   "cell_type": "code",
   "execution_count": 88,
   "metadata": {},
   "outputs": [
    {
     "name": "stdout",
     "output_type": "stream",
     "text": [
      "a ---- ['a', 'a']\n",
      "b ---- ['b', 'b']\n",
      "B ---- ['B']\n",
      "E ---- ['E']\n",
      "e ---- ['e', 'e']\n",
      "A ---- ['a', 'a', 'A']\n",
      "B ---- ['b', 'b', 'B']\n",
      "E ---- ['e', 'e', 'e']\n"
     ]
    }
   ],
   "source": [
    "for key,group in itertools.groupby('aabbBEee'):\n",
    "    print(key,'----', list(group))\n",
    "    \n",
    "# case insensitive\n",
    "for key, group in itertools.groupby('aaAbbBeee', lambda x:x.upper()):\n",
    "    print(key,'----', list(group))\n"
   ]
  },
  {
   "cell_type": "markdown",
   "metadata": {},
   "source": [
    "练习<br>\n",
    "计算圆周率可以根据公式：<br>\n",
    "\n",
    "利用Python提供的itertools模块，我们来计算这个序列的前N项和：<br>\n"
   ]
  },
  {
   "cell_type": "code",
   "execution_count": null,
   "metadata": {},
   "outputs": [],
   "source": [
    "def pi(N):\n",
    "    ' 计算pi的值 '\n",
    "    # step 1: 创建一个奇数序列: 1, 3, 5, 7, 9, ...\n",
    "    natuals_odd = itertools.count(1, step=2)\n",
    "\n",
    "    # step 2: 取该序列的前N项: 1, 3, 5, 7, 9, ..., 2*N-1.\n",
    "    odds = itertools.takewhile(lambda x:x <= 2*N-1, natuals_odd)\n",
    "    \n",
    "    # step 3: 添加正负符号并用4除: 4/1, -4/3, 4/5, -4/7, 4/9, ...\n",
    "    map_odds = map(lambda x:((-1)**(x//2)) * 4 / )\n",
    "    # step 4: 求和:\n",
    "    return 3.14\n"
   ]
  }
 ],
 "metadata": {
  "kernelspec": {
   "display_name": "Python 3",
   "language": "python",
   "name": "python3"
  },
  "language_info": {
   "codemirror_mode": {
    "name": "ipython",
    "version": 3
   },
   "file_extension": ".py",
   "mimetype": "text/x-python",
   "name": "python",
   "nbconvert_exporter": "python",
   "pygments_lexer": "ipython3",
   "version": "3.7.3"
  }
 },
 "nbformat": 4,
 "nbformat_minor": 2
}
