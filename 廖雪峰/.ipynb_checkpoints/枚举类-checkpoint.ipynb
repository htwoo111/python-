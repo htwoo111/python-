{
 "cells": [
  {
   "cell_type": "markdown",
   "metadata": {},
   "source": [
    "更好的方法是为这样的枚举类型定义一个class类型，然后，每个常量都是class的一个唯一实例。Python提供了Enum类来实现这个功能：\n",
    "\n"
   ]
  },
  {
   "cell_type": "code",
   "execution_count": 24,
   "metadata": {},
   "outputs": [
    {
     "name": "stdout",
     "output_type": "stream",
     "text": [
      "Jan => Month.Jan , 0\n",
      "Feb => Month.Feb , 1\n",
      "Mar => Month.Mar , 2\n",
      "Apr => Month.Apr , 3\n",
      "May => Month.May , 4\n",
      "Jun => Month.Jun , 5\n",
      "Jul => Month.Jul , 6\n",
      "Aug => Month.Aug , 7\n",
      "Sep => Month.Sep , 8\n",
      "Oct => Month.Oct , 9\n",
      "Nov => Month.Nov , 10\n",
      "Dec => Month.Dec , 11\n",
      "<enum 'Month'>\n",
      "2\n"
     ]
    }
   ],
   "source": [
    "from enum import Enum\n",
    "\n",
    "Month = Enum('Month', ('Jan', 'Feb', 'Mar', 'Apr', 'May', 'Jun', 'Jul', 'Aug', 'Sep', 'Oct', 'Nov', 'Dec'), start=0)\n",
    "# 相当于\n",
    "# class Month(Enum):\n",
    "#     Jan = 0\n",
    "#     Feb = 1\n",
    "#     ...\n",
    "#     member = value\n",
    "\n",
    "\n",
    "for name, member in Month.__members__.items():\n",
    "    print(name, '=>', member, ',', member.value)\n",
    "    \n",
    "print(Month)\n",
    "print(Month.Mar.value)"
   ]
  },
  {
   "cell_type": "markdown",
   "metadata": {},
   "source": [
    "value属性则是自动赋给成员的int常量，默认从1开始计数。\n",
    "\n",
    "如果需要更精确地控制枚举类型，可以从Enum派生出自定义类："
   ]
  },
  {
   "cell_type": "code",
   "execution_count": 23,
   "metadata": {},
   "outputs": [
    {
     "name": "stdout",
     "output_type": "stream",
     "text": [
      "Weekday.Mon\n"
     ]
    }
   ],
   "source": [
    "from enum import Enum, unique\n",
    "\n",
    "@unique  # @unique装饰器可以帮助我们检查保证没有重复值。\n",
    "class Weekday(Enum):\n",
    "    Sun = 0 # Sun的value被设定为0\n",
    "    Mon = 1\n",
    "    Tue = 2\n",
    "    Wed = 3\n",
    "    Thu = 4\n",
    "    Fri = 5\n",
    "    Sat = 6\n",
    "    \n",
    "# 访问枚举类型的方法\n",
    "day1 = Weekday.Mon\n",
    "print(day1)\n",
    "print(tpye(Weekday))\n",
    "\n",
    "for name, member in Weekday.__members__.items():\n",
    "    print(name, '=>', member, '=>', member.value)\n",
    "    "
   ]
  },
  {
   "cell_type": "markdown",
   "metadata": {},
   "source": [
    "<BR><BR>\n",
    "    练习\n",
    "把Student的gender属性改造为枚举类型，可以避免使用字符串："
   ]
  },
  {
   "cell_type": "code",
   "execution_count": 15,
   "metadata": {},
   "outputs": [
    {
     "name": "stdout",
     "output_type": "stream",
     "text": [
      "测试通过!\n"
     ]
    }
   ],
   "source": [
    "from enum import Enum, unique\n",
    "class Gender(Enum):\n",
    "    Male = 0\n",
    "    Female = 1\n",
    "\n",
    "# @unique\n",
    "class Student(object):\n",
    "    def __init__(self, name, gender):\n",
    "        self.name = name\n",
    "        self.gender = gender\n",
    "        \n",
    "\n",
    "        \n",
    "        \n",
    "# 测试:\n",
    "bart = Student('Bart', Gender.Male)\n",
    "if bart.gender == Gender.Male:\n",
    "    print('测试通过!')\n",
    "else:\n",
    "    print('测试失败!')"
   ]
  },
  {
   "cell_type": "code",
   "execution_count": null,
   "metadata": {},
   "outputs": [],
   "source": []
  }
 ],
 "metadata": {
  "kernelspec": {
   "display_name": "Python 3",
   "language": "python",
   "name": "python3"
  },
  "language_info": {
   "codemirror_mode": {
    "name": "ipython",
    "version": 3
   },
   "file_extension": ".py",
   "mimetype": "text/x-python",
   "name": "python",
   "nbconvert_exporter": "python",
   "pygments_lexer": "ipython3",
   "version": "3.7.3"
  }
 },
 "nbformat": 4,
 "nbformat_minor": 2
}
