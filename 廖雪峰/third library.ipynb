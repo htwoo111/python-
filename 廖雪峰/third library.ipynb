{
 "cells": [
  {
   "cell_type": "markdown",
   "metadata": {},
   "source": [
    "## 一、Pillow\n",
    "图像处理"
   ]
  },
  {
   "cell_type": "code",
   "execution_count": 8,
   "metadata": {},
   "outputs": [
    {
     "name": "stdout",
     "output_type": "stream",
     "text": [
      "Original image size: 1280x1737\n",
      "Resize image to: 640x868\n"
     ]
    }
   ],
   "source": [
    "from PIL import Image\n",
    "\n",
    "im = Image.open('C:/Users/htwoo/Desktop/guitar/斑马斑马1.jpg')\n",
    "\n",
    "w, h = im.size\n",
    "print('Original image size: %sx%s' % (w, h))\n",
    "im.thumbnail((w//2, h//2))\n",
    "\n",
    "print('Resize image to: %sx%s' % (w//2, h//2))\n",
    "# im.save('C:/Users/htwoo/Desktop/guitar/test.jpg', 'jpeg')"
   ]
  },
  {
   "cell_type": "code",
   "execution_count": 11,
   "metadata": {},
   "outputs": [],
   "source": [
    "from PIL import Image, ImageFilter\n",
    "\n",
    "# 打开一个jpg图像文件，注意是当前路径:\n",
    "im = Image.open('C:/Users/htwoo/Desktop/guitar/斑马斑马1.jpg')\n",
    "# 应用模糊滤镜:\n",
    "im2 = im.filter(ImageFilter.BLUR)\n",
    "# im2.save('C:/Users/htwoo/Desktop/guitar/test2.jpg', 'jpeg')"
   ]
  },
  {
   "cell_type": "code",
   "execution_count": 17,
   "metadata": {},
   "outputs": [
    {
     "name": "stdout",
     "output_type": "stream",
     "text": [
      "8\n",
      "4\n",
      "scputimes(user=4261.609375, system=2270.203125, idle=29612.343749999996, interrupt=206.671875, dpc=474.609375)\n",
      "[sdiskpart(device='C:\\\\', mountpoint='C:\\\\', fstype='NTFS', opts='rw,fixed'), sdiskpart(device='D:\\\\', mountpoint='D:\\\\', fstype='NTFS', opts='rw,fixed')]\n",
      "sdiskusage(total=413524815872, used=133625204736, free=279899611136, percent=32.3)\n"
     ]
    }
   ],
   "source": [
    "import psutil\n",
    "print(psutil.cpu_count())\n",
    "print(psutil.cpu_count(logical=False))\n",
    "print(psutil.cpu_times())\n",
    "print(psutil.disk_partitions())\n",
    "print(psutil.disk_usage('/'))"
   ]
  }
 ],
 "metadata": {
  "kernelspec": {
   "display_name": "Python 3",
   "language": "python",
   "name": "python3"
  },
  "language_info": {
   "codemirror_mode": {
    "name": "ipython",
    "version": 3
   },
   "file_extension": ".py",
   "mimetype": "text/x-python",
   "name": "python",
   "nbconvert_exporter": "python",
   "pygments_lexer": "ipython3",
   "version": "3.7.3"
  }
 },
 "nbformat": 4,
 "nbformat_minor": 2
}
