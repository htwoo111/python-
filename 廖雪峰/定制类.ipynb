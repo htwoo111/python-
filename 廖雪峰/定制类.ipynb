{
 "cells": [
  {
   "cell_type": "markdown",
   "metadata": {},
   "source": [
    "## _1.__str__ (显示打印时的内容)"
   ]
  },
  {
   "cell_type": "code",
   "execution_count": 1,
   "metadata": {},
   "outputs": [
    {
     "name": "stdout",
     "output_type": "stream",
     "text": [
      "<__main__.Student object at 0x000002A30F6EE438>\n"
     ]
    }
   ],
   "source": [
    "class Student(object):\n",
    "    def __init__(self, name):\n",
    "        self.name = name\n",
    "print(Student('Lihua'))    # <__main__.Student object at 0x000002A30F6EE438>  \n"
   ]
  },
  {
   "cell_type": "code",
   "execution_count": 2,
   "metadata": {},
   "outputs": [
    {
     "name": "stdout",
     "output_type": "stream",
     "text": [
      "Lihua is running\n"
     ]
    }
   ],
   "source": [
    "# 要想自定义打印的内容可以添加一个 __str__ 的方法\n",
    "class Student(object):\n",
    "    def __init__(self, name):\n",
    "        self.name = name \n",
    "    \n",
    "    def __str__(self):\n",
    "        return '%s is running' % self.name  # 返回要打印的内容\n",
    "        \n",
    "print(Student('Lihua'))  # Lihua is running"
   ]
  },
  {
   "cell_type": "markdown",
   "metadata": {},
   "source": [
    "s = Student('Lihua')\n",
    "s  # 输出 <__main__.Student at 0x2a30f714668>\n",
    "\n",
    "原因在于：用`print()` 调用的是class里面的`__str__()`方法， 而直接打印是调用class里面的`__repr__()`方法，返回的是机械语言，\n",
    "       主要给开发者看的，也就是说，`__repr__()`是用于调试的"
   ]
  },
  {
   "cell_type": "code",
   "execution_count": 8,
   "metadata": {},
   "outputs": [
    {
     "name": "stdout",
     "output_type": "stream",
     "text": [
      "Lihua is running\n"
     ]
    },
    {
     "data": {
      "text/plain": [
       "Lihua is running"
      ]
     },
     "execution_count": 8,
     "metadata": {},
     "output_type": "execute_result"
    }
   ],
   "source": [
    "# 处理方案：在class里面重写`__repr__`，但通常__str__ 与 __repr__ 代码一样，所以可以这样写\n",
    "\n",
    "class Student(object):\n",
    "    def __init__(self, name):\n",
    "        self.name = name \n",
    "    \n",
    "    def __str__(self):\n",
    "        return '%s is running' % self.name  # 返回要打印的内容\n",
    "    \n",
    "    __repr__ = __str__  # __repr__指向__str__， 即它们执行的内容相同\n",
    "\n",
    "s = Student('Lihua')\n",
    "print(s)  # Lihua is running\n",
    "s"
   ]
  },
  {
   "cell_type": "markdown",
   "metadata": {},
   "source": [
    "<br><br><br><br><br>"
   ]
  },
  {
   "cell_type": "markdown",
   "metadata": {},
   "source": [
    "## _2.___iter__ \n",
    "（如果一个类想被用于for ... in循环，类似list或tuple那样，就必须实现一个__iter__()方法，该方法返回一个迭代对象，然后，Python的for循环就会不断调用该迭代对象的__next__()方法拿到循环的下一个值，直到遇到StopIteration错误时退出循环。）"
   ]
  },
  {
   "cell_type": "code",
   "execution_count": 15,
   "metadata": {},
   "outputs": [
    {
     "name": "stdout",
     "output_type": "stream",
     "text": [
      "1\n",
      "1\n",
      "2\n",
      "3\n",
      "5\n",
      "8\n",
      "13\n",
      "21\n",
      "34\n",
      "55\n"
     ]
    }
   ],
   "source": [
    "# 以fibonacci函数为例\n",
    "class Fibonacci(object):\n",
    "    def __init__(self, length):\n",
    "        self.a = 0\n",
    "        self.b = 1\n",
    "        self.length = length\n",
    "        self.i = 0\n",
    "    \n",
    "    def __iter__(self):  # __iter__必须返回一个可迭代对象, (一个对象只有有__iter__方法就是一个可迭代对象)所以返回自身\n",
    "        return self\n",
    "    \n",
    "    def __next__(self):  # 调用for..in时，返回下一个循环\n",
    "        self.a, self.b = self.b, self.a + self.b\n",
    "        self.i += 1\n",
    "        if self.i > self.length:\n",
    "            raise StopIteration()\n",
    "        return self.a\n",
    "    \n",
    "\n",
    "fib = Fibonacci(10)\n",
    "\n",
    "for a in fib:\n",
    "    print(a)"
   ]
  },
  {
   "cell_type": "markdown",
   "metadata": {},
   "source": [
    "<br><br><br><br>"
   ]
  },
  {
   "cell_type": "markdown",
   "metadata": {},
   "source": [
    "## _3. __getitem__\n",
    "(实现索引)\n",
    "\n"
   ]
  },
  {
   "cell_type": "code",
   "execution_count": 21,
   "metadata": {},
   "outputs": [
    {
     "data": {
      "text/plain": [
       "0"
      ]
     },
     "execution_count": 21,
     "metadata": {},
     "output_type": "execute_result"
    }
   ],
   "source": [
    "class Fibonacci(object):\n",
    "    def __getitem__(self, n):\n",
    "        a, b = 0, 1\n",
    "        for x in range(n):\n",
    "            a, b = b, a + b\n",
    "        return a\n",
    "    \n",
    "f = Fibonacci()\n",
    "f[0]"
   ]
  },
  {
   "cell_type": "code",
   "execution_count": 27,
   "metadata": {},
   "outputs": [
    {
     "name": "stdout",
     "output_type": "stream",
     "text": [
      "[0, 1, 1, 2, 3]\n"
     ]
    }
   ],
   "source": [
    "# 实现切片\n",
    "class Fibonacci(object):\n",
    "    def __getitem__(self, n):\n",
    "        a, b = 0, 1\n",
    "        if isinstance(n, int):\n",
    "            for x in range(n):\n",
    "                a, b = b, a+b\n",
    "            return a\n",
    "        \n",
    "        if isinstance(n, slice):\n",
    "            start = n.start\n",
    "            stop = n.stop\n",
    "            lyst = []\n",
    "            if start is None:\n",
    "                start = 0\n",
    "            for x in range(stop):\n",
    "                if  x >= start:\n",
    "                    lyst.append(a)\n",
    "                a, b = b, a + b\n",
    "            return lyst\n",
    "\n",
    "f = Fibonacci()\n",
    "print(f[0:5])"
   ]
  },
  {
   "cell_type": "markdown",
   "metadata": {},
   "source": [
    "<br><br><br><br>"
   ]
  },
  {
   "cell_type": "markdown",
   "metadata": {},
   "source": [
    "## 4.`__getattr__`\n",
    "\n",
    "(获取属性)"
   ]
  },
  {
   "cell_type": "code",
   "execution_count": 37,
   "metadata": {},
   "outputs": [
    {
     "name": "stdout",
     "output_type": "stream",
     "text": [
      "Lihua\n"
     ]
    }
   ],
   "source": [
    "# 正常情况下，当我们调用类的方法或属性时，如果不存在，就会报错。比如定义Student类：\n",
    "class Student(object):\n",
    "    def __init__(self):\n",
    "        self.name = 'Lihua'\n",
    "xiaoming = Student()\n",
    "print(xiaoming.name)\n",
    "# print(xiaoming.score)  # AttributeError: 'Student' object has no attribute 'score'"
   ]
  },
  {
   "cell_type": "code",
   "execution_count": 41,
   "metadata": {},
   "outputs": [
    {
     "name": "stdout",
     "output_type": "stream",
     "text": [
      "has set an attr named score\n",
      "None\n"
     ]
    }
   ],
   "source": [
    "# 要避免这个错误，除了可以加上一个score属性外，Python还有另一个机制，那就是写一个__getattr__()方法，动态返回一个属性。修改如下：\n",
    "class Student(object):\n",
    "    def __init__(self):\n",
    "        self.name = 'Lihua'\n",
    "    \n",
    "    def __getattr__(self, attr):  # 当调用的属性不存在时，python解释器会调用__getattr__(), 如果属性已经存在，则不会调用\n",
    "        if attr == 'score':\n",
    "            return 'has set an attr named score'\n",
    "\n",
    "        \n",
    "xiaoming = Student()        \n",
    "print(xiaoming.score)\n",
    "print(xiaoming.age)  # 因为没__getattr__默认没有返回值"
   ]
  },
  {
   "cell_type": "code",
   "execution_count": 48,
   "metadata": {},
   "outputs": [],
   "source": [
    "# 此外，注意到任意调用如xiaoming.age都会返回None，这是因为我们定义的__getattr__默认返回就是None。\n",
    "# 要让class只响应特定的几个属性，我们就要按照约定，抛出AttributeError的错误：\n",
    "\n",
    "class Student(object):\n",
    "\n",
    "    def __getattr__(self, attr):\n",
    "        if attr=='age':\n",
    "            return lambda: 25\n",
    "        raise AttributeError('\\'Student\\' object has no attribute \\'%s\\'' % attr)\n",
    "        \n",
    "xiaoming = Student()\n",
    "# print(xiaoming.score)"
   ]
  },
  {
   "cell_type": "markdown",
   "metadata": {},
   "source": [
    ">这实际上可以把一个类的所有属性和方法调用全部动态化处理了，不需要任何特殊手段。<br>\n",
    "这种完全动态调用的特性有什么实际作用呢？作用就是，可以针对完全动态的情况作调用。<br>\n",
    "举个例子：<br>\n",
    "现在很多网站都搞REST API，比如新浪微博、豆瓣啥的，调用API的URL类似：<br>\n",
    "http://api.server/user/friends<br>\n",
    "http://api.server/user/timeline/list<br>\n",
    "如果要写SDK，给每个URL对应的API都写一个方法，那得累死，而且，API一旦改动，SDK也要改。<br>\n",
    "利用完全动态的__getattr__，我们可以写出一个链式调用："
   ]
  },
  {
   "cell_type": "code",
   "execution_count": 54,
   "metadata": {},
   "outputs": [
    {
     "name": "stdout",
     "output_type": "stream",
     "text": [
      "/user/htwoo\n"
     ]
    }
   ],
   "source": [
    "# 实现链式调用\n",
    "class Chain(object):\n",
    "    def __init__(self, path=''):\n",
    "        self._path = path \n",
    "    \n",
    "    \n",
    "    def __getattr__(self, path):\n",
    "        return Chain('%s/%s' % (self._path, path))\n",
    "    \n",
    "    def __str__(self):\n",
    "        return self._path\n",
    "    __repr__ = __str__\n",
    "    \n",
    "\n",
    "c = Chain()\n",
    "# print(c)\n",
    "print(c.user.htwoo)  # c.user.htwoo ==  c = Chain('/user') => Chain('/user').htwoo == Chain('/user/htwoo')\n",
    "\n",
    "# print(Chain('/user').htwoo)"
   ]
  },
  {
   "cell_type": "markdown",
   "metadata": {},
   "source": [
    "<br><br><br><br>"
   ]
  },
  {
   "cell_type": "markdown",
   "metadata": {},
   "source": [
    "## 5.`__call__`\n",
    "(直接调用实例)"
   ]
  },
  {
   "cell_type": "code",
   "execution_count": 60,
   "metadata": {},
   "outputs": [
    {
     "name": "stdout",
     "output_type": "stream",
     "text": [
      "transfer instance directly...\n",
      "incoming parameters I'm Lihua \n"
     ]
    }
   ],
   "source": [
    "# 一个对象实例可以有自己的属性和方法，当我们调用实例方法时，我们用instance.method()来调用。\n",
    "# 如果对象里面有__call__方法则可以实现instance()调用\n",
    "\n",
    "class Student(object):\n",
    "    def __init__(self, name='Lihua'):\n",
    "        self.name = name\n",
    "        \n",
    "    \n",
    "    def __call__(self, *args):\n",
    "        print('transfer instance directly...')\n",
    "        print('incoming parameters %s ' %args[0])\n",
    "\n",
    "Lihua = Student()\n",
    "Lihua(\"I'm Lihua\")"
   ]
  },
  {
   "cell_type": "markdown",
   "metadata": {},
   "source": [
    "<br><BR><BR><BR>"
   ]
  },
  {
   "cell_type": "code",
   "execution_count": null,
   "metadata": {},
   "outputs": [],
   "source": []
  }
 ],
 "metadata": {
  "kernelspec": {
   "display_name": "Python 3",
   "language": "python",
   "name": "python3"
  },
  "language_info": {
   "codemirror_mode": {
    "name": "ipython",
    "version": 3
   },
   "file_extension": ".py",
   "mimetype": "text/x-python",
   "name": "python",
   "nbconvert_exporter": "python",
   "pygments_lexer": "ipython3",
   "version": "3.7.3"
  }
 },
 "nbformat": 4,
 "nbformat_minor": 2
}
