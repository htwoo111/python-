{
 "cells": [
  {
   "cell_type": "code",
   "execution_count": 17,
   "metadata": {},
   "outputs": [
    {
     "name": "stdout",
     "output_type": "stream",
     "text": [
      "coding... 0 \n",
      "coding... 1 \n",
      "coding... 2 \n",
      "writing... 0 \n",
      "writing... 1 \n",
      "writing... 2 \n",
      "花费6.003387689590454 s\n"
     ]
    }
   ],
   "source": [
    "# 传统方式执行代码\n",
    "import time\n",
    "\n",
    "\n",
    "def coding():\n",
    "    for i in range(3):\n",
    "        print(\"coding... %s \" % i)\n",
    "        time.sleep(1)\n",
    "\n",
    "\n",
    "def writing():\n",
    "    for i in range(3):\n",
    "        print(\"writing... %s \" % i)\n",
    "        time.sleep(1)\n",
    "\n",
    "\n",
    "def main():\n",
    "    start = time.time()\n",
    "    coding()\n",
    "    writing()\n",
    "    end = time.time()\n",
    "    print('花费{} s'.format(end - start))\n",
    "\n",
    "\n",
    "main()"
   ]
  },
  {
   "cell_type": "markdown",
   "metadata": {},
   "source": [
    "### 多线程实现"
   ]
  },
  {
   "cell_type": "code",
   "execution_count": 21,
   "metadata": {},
   "outputs": [
    {
     "name": "stdout",
     "output_type": "stream",
     "text": [
      "coding... 0 \n",
      "writing... 0 \n",
      "coding... 1 \n",
      "writing... 1 \n",
      "coding... 2 \n",
      "writing... 2 \n",
      "花费3.010823965072632 s\n"
     ]
    }
   ],
   "source": [
    "import threading\n",
    "\n",
    "def main():\n",
    "    t1 = threading.Thread(target=coding)\n",
    "    t2 = threading.Thread(target=writing)\n",
    "    \n",
    "    start = time.time()\n",
    "    t1.start()\n",
    "    t2.start()\n",
    "    t1.join()\n",
    "    t2.join()\n",
    "    end = time.time()\n",
    "    print('花费%s s' %(end-start))\n",
    "    \n",
    "main()"
   ]
  },
  {
   "cell_type": "code",
   "execution_count": 39,
   "metadata": {},
   "outputs": [
    {
     "name": "stdout",
     "output_type": "stream",
     "text": [
      "writing... 0 writing... 0 \n",
      "\n",
      "writing... 1 writing... 1 \n",
      "\n",
      "writing... 2 writing... 2 \n",
      "\n",
      "coding... 0 coding... 0 \n",
      "\n",
      "coding... 1 coding... 1 \n",
      "\n",
      "coding... 2 \n",
      "coding... 2 \n"
     ]
    }
   ],
   "source": [
    "class Demo(object):\n",
    "    @staticmethod\n",
    "    def coding():\n",
    "        for i in range(3):\n",
    "            print(\"coding... %s \" %i)\n",
    "            time.sleep(1)\n",
    "    @staticmethod\n",
    "    def writing():\n",
    "        for i in range(3):\n",
    "            print(\"writing... %s \" %i)\n",
    "            time.sleep(1)\n",
    "    \n",
    "    def run(self):\n",
    "        self.writing()\n",
    "        self.coding()\n",
    "\n",
    "demo = Demo()\n",
    "t1 = threading.Thread(target=demo.run)\n",
    "t2 = threading.Thread(target=demo.run)\n",
    "\n",
    "t1.start()\n",
    "t2.start()"
   ]
  },
  {
   "cell_type": "markdown",
   "metadata": {},
   "source": [
    "### 通过类继承实现多线程"
   ]
  },
  {
   "cell_type": "code",
   "execution_count": 11,
   "metadata": {},
   "outputs": [
    {
     "name": "stdout",
     "output_type": "stream",
     "text": [
      "[<_MainThread(MainThread, started 13100)>, <Thread(Thread-4, started daemon 12148)>, <Heartbeat(Thread-5, started daemon 7900)>, <HistorySavingThread(IPythonHistorySavingThread, started 13524)>, <ParentPollerWindows(Thread-3, started daemon 1992)>, <Consumer(消费者:1, started 13548)>, <Producer(生产者:1, started 8736)>, <Consumer(消费者:0, started 5396)>, <Consumer(消费者:1, started 3768)>, <Consumer(消费者:2, started 17088)>, <Producer(生产者:1, started 16296)>, <Producer(生产者:2, started 13388)>, <Producer(生产者:3, started 1600)>, <Producer(生产者:4, started 4476)>, <Consumer(消费者:1, started 12064)>, <Consumer(消费者:2, started 15108)>]\n",
      "coding... 0 \n",
      "writing... 0 \n",
      "coding... 1 \n",
      "writing... 1 \n",
      "coding... 2 \n",
      "writing... 2 \n"
     ]
    }
   ],
   "source": [
    "import threading\n",
    "\n",
    "class Coding(threading.Thread):  # 继承threading模块的Thread类\n",
    "    @staticmethod\n",
    "    def coding():\n",
    "        for i in range(3):\n",
    "            print(\"coding... %s \" %i)\n",
    "            time.sleep(1)\n",
    "    \n",
    "    def run(self):  # 一定要重写run() 方法，然后在创建实例的时候就会自动创建一个线程\n",
    "        self.coding()\n",
    "        \n",
    "        \n",
    "class Writing(threading.Thread):\n",
    "    @staticmethod\n",
    "    def writing():\n",
    "        for i in range(3):\n",
    "            print(\"writing... %s \" %i)\n",
    "            time.sleep(1)\n",
    "    \n",
    "    def run(self):\n",
    "        self.writing()\n",
    "\n",
    "def main():\n",
    "    t1 = Coding()  # 创建线程\n",
    "    t2 = Writing()  # 创建线程\n",
    "    print(threading.enumerate())\n",
    "    \n",
    "    t1.start()\n",
    "    t2.start()\n",
    "\n",
    "main()"
   ]
  },
  {
   "cell_type": "markdown",
   "metadata": {},
   "source": [
    "### 多线程共享全局变量\n"
   ]
  },
  {
   "cell_type": "code",
   "execution_count": 86,
   "metadata": {},
   "outputs": [
    {
     "name": "stdout",
     "output_type": "stream",
     "text": [
      "value is 145958\n",
      "value is 152254\n"
     ]
    }
   ],
   "source": [
    "# 多线程共享全局变量有可能会带来意想不到的错误\n",
    "\n",
    "VALUE = 0\n",
    "\n",
    "\n",
    "def add():\n",
    "    global VALUE\n",
    "    for i in range(100000):\n",
    "        VALUE += 1\n",
    "    print(\"value is %d\" % VALUE)\n",
    "\n",
    "\n",
    "def main():\n",
    "    for i in range(2):\n",
    "        t = threading.Thread(target=add)\n",
    "        t.start()\n",
    "\n",
    "\n",
    "main()"
   ]
  },
  {
   "cell_type": "code",
   "execution_count": 87,
   "metadata": {},
   "outputs": [
    {
     "name": "stdout",
     "output_type": "stream",
     "text": [
      "value is 100000\n",
      "value is 200000\n"
     ]
    }
   ],
   "source": [
    "# 解决方案：上锁\n",
    "# 上锁的地方要在 那些修改全局变量的地方\n",
    "\n",
    "VALUE = 0\n",
    "g_lock = threading.Lock()  # 实例化一个锁\n",
    "\n",
    "\n",
    "def add():\n",
    "    global VALUE\n",
    "    g_lock.acquire()  # 上锁\n",
    "    for i in range(100000):\n",
    "        #         g_lock.acquire()\n",
    "        VALUE += 1\n",
    "    g_lock.release()  # 解锁\n",
    "    print(\"value is %d\" % VALUE)\n",
    "\n",
    "\n",
    "def main():\n",
    "    for i in range(2):\n",
    "        t = threading.Thread(target=add)\n",
    "        t.start()\n",
    "\n",
    "\n",
    "main()"
   ]
  },
  {
   "cell_type": "markdown",
   "metadata": {},
   "source": [
    "### Lock版生产者与消费者模式"
   ]
  },
  {
   "cell_type": "code",
   "execution_count": 7,
   "metadata": {},
   "outputs": [
    {
     "name": "stdout",
     "output_type": "stream",
     "text": [
      "<Consumer(消费者:0, started 2464)>:消费了721 元，还剩279 元\n",
      "<Consumer(消费者:1, started 4956)>准备消费652 元，金额不足。。。剩余279元。。。。。。。。。\n",
      "<Consumer(消费者:2, started 4456)>准备消费775 元，金额不足。。。剩余279元。。。。。。。。。\n",
      "<Producer(生产者:0, started 7256)>：生成了346 元，还剩625 元\n",
      "<Producer(生产者:1, started 15280)>：生成了183 元，还剩808 元\n",
      "<Producer(生产者:2, started 8048)>：生成了587 元，还剩1395 元\n",
      "<Producer(生产者:3, started 5812)>：生成了501 元，还剩1896 元\n",
      "<Producer(生产者:4, started 14656)>：生成了529 元，还剩2425 元\n",
      "<Consumer(消费者:0, started 2464)>:消费了520 元，还剩1905 元\n",
      "<Consumer(消费者:1, started 4956)>:消费了673 元，还剩1232 元\n",
      "<Consumer(消费者:2, started 4456)>:消费了221 元，还剩1011 元\n",
      "<Producer(生产者:1, started 15280)>：生成了855 元，还剩1866 元\n",
      "<Producer(生产者:0, started 7256)>：生成了653 元，还剩2519 元\n",
      "<Producer(生产者:3, started 5812)>：生成了337 元，还剩2856 元\n",
      "<Producer(生产者:2, started 8048)>：生成了928 元，还剩3784 元\n",
      "<Producer(生产者:4, started 14656)>：生成了603 元，还剩4387 元\n",
      "<Producer(生产者:0, started 7256)>：生成了825 元，还剩5212 元\n"
     ]
    }
   ],
   "source": [
    "import threading\n",
    "import random\n",
    "import time\n",
    "\n",
    "# G_MONEY：金库里面的钱\n",
    "G_MONEY = 1000\n",
    "# 创建一个全局锁\n",
    "g_lock = threading.Lock()\n",
    "G_TOTAL_TIME = 10\n",
    "g_time = 0\n",
    "\n",
    "\n",
    "class Producer(threading.Thread):\n",
    "    def run(self):\n",
    "        global G_MONEY\n",
    "        global g_time\n",
    "        while True:\n",
    "            money = random.randint(100, 1000)\n",
    "            g_lock.acquire()\n",
    "            if g_time > G_TOTAL_TIME:\n",
    "                g_lock.release()\n",
    "                break\n",
    "            G_MONEY += money\n",
    "            print(\"{}：生成了{} 元，还剩{} 元\".format(threading.current_thread(), money,\n",
    "                                             G_MONEY))\n",
    "            g_time += 1\n",
    "            g_lock.release()\n",
    "            time.sleep(1)\n",
    "\n",
    "\n",
    "class Consumer(threading.Thread):\n",
    "    def run(self):\n",
    "        global G_MONEY\n",
    "#         global g_time\n",
    "        while True:\n",
    "            money = random.randint(100, 1000)\n",
    "            g_lock.acquire()\n",
    "            if g_time >= G_TOTAL_TIME:\n",
    "                    g_lock.release()\n",
    "                    break\n",
    "                    \n",
    "            elif G_MONEY >= money:\n",
    "                G_MONEY -= money\n",
    "                print(\"{}:消费了{} 元，还剩{} 元\".format(threading.current_thread(),\n",
    "                                                 money, G_MONEY))\n",
    "            else:\n",
    "                print(\"{}准备消费{} 元，金额不足。。。剩余{}元。。。。。。。。。\".format(\n",
    "                    threading.current_thread(), money, G_MONEY))\n",
    "            g_lock.release()\n",
    "            time.sleep(1)\n",
    "\n",
    "\n",
    "def main():\n",
    "    # 实例化3个消费者线程\n",
    "    for i in range(3):\n",
    "        t = Consumer(name=\"消费者:{}\".format(i))\n",
    "        t.start()\n",
    "\n",
    "    # 实例化5个生产者线程\n",
    "    for i in range(5):\n",
    "        t = Producer(name='生产者:{}'.format(i))\n",
    "        t.start()\n",
    "\n",
    "\n",
    "if __name__ == \"__main__\":\n",
    "    main()"
   ]
  },
  {
   "cell_type": "code",
   "execution_count": 3,
   "metadata": {},
   "outputs": [],
   "source": [
    "# 重复上锁解锁浪费资源"
   ]
  },
  {
   "cell_type": "markdown",
   "metadata": {},
   "source": [
    "### condition版消费者和生产者"
   ]
  },
  {
   "cell_type": "code",
   "execution_count": 13,
   "metadata": {},
   "outputs": [
    {
     "name": "stdout",
     "output_type": "stream",
     "text": [
      "<Consumer(消费者:0, started 12144)>消费了951元， 剩余49 元\n",
      "d等待中....\n",
      "d等待中....\n",
      "<Producer(生产者:0, started 9624)>：生成了258 元，还剩307 元\n",
      "d等待中....\n",
      "d等待中....\n",
      "<Producer(生产者:1, started 8320)>：生成了810 元，还剩1117 元\n",
      "<Consumer(消费者:2, started 7688)>消费了921元， 剩余196 元\n",
      "d等待中....\n",
      "<Producer(生产者:2, started 16312)>：生成了554 元，还剩750 元\n",
      "d等待中....\n",
      "<Producer(生产者:3, started 16600)>：生成了634 元，还剩1384 元\n",
      "<Producer(生产者:4, started 1892)>：生成了897 元，还剩2281 元\n",
      "<Consumer(消费者:1, started 10804)>消费了993元， 剩余1288 元\n",
      "<Producer(生产者:0, started 11592)>：生成了359 元，还剩1647 元\n",
      "<Consumer(消费者:0, started 2224)>消费了948元， 剩余699 元\n",
      "<Producer(生产者:1, started 14896)>：生成了349 元，还剩1048 元\n",
      "<Consumer(消费者:1, started 12460)>消费了945元， 剩余103 元\n",
      "<Producer(生产者:2, started 1288)>：生成了716 元，还剩819 元\n",
      "<Producer(生产者:3, started 1420)>：生成了331 元，还剩1150 元\n",
      "<Producer(生产者:4, started 8472)>：生成了272 元，还剩1422 元\n",
      "<Consumer(消费者:2, started 10028)>消费了971元， 剩余451 元\n",
      "<Producer(生产者:0, started 9624)>：生成了649 元，还剩1100 元\n",
      "<Consumer(消费者:2, started 7688)>消费了979元， 剩余121 元\n"
     ]
    }
   ],
   "source": [
    "import threading\n",
    "import random\n",
    "import time\n",
    "\n",
    "# G_MONEY：金库里面的钱\n",
    "G_MONEY = 1000\n",
    "# 创建一个全局锁\n",
    "g_condition_lock = threading.Condition()\n",
    "G_TOTAL_TIME = 10\n",
    "g_time = 0\n",
    "\n",
    "\n",
    "class Producer(threading.Thread):\n",
    "    def run(self):\n",
    "        global G_MONEY\n",
    "        global g_time\n",
    "        while True:\n",
    "            money = random.randint(100, 1000)\n",
    "            g_condition_lock.acquire()\n",
    "            if g_time > G_TOTAL_TIME:\n",
    "                g_condition_lock.release()\n",
    "                break\n",
    "            G_MONEY += money\n",
    "            print(\"{}：生成了{} 元，还剩{} 元\".format(threading.current_thread(), money,\n",
    "                                             G_MONEY))\n",
    "            g_time += 1\n",
    "            g_condition_lock.notify_all()  # 同时偷偷换了锁的同志把锁换回来\n",
    "            g_condition_lock.release()\n",
    "            time.sleep(1)\n",
    "\n",
    "\n",
    "class Consumer(threading.Thread):\n",
    "    def run(self):\n",
    "        global G_MONEY\n",
    "        global g_time\n",
    "        while True:\n",
    "            money = random.randint(900, 1000)\n",
    "            g_condition_lock.acquire()\n",
    "            while G_MONEY <= money:\n",
    "                if g_time >= G_TOTAL_TIME:\n",
    "                    g_condition_lock.release()\n",
    "                    return \n",
    "                print(\"d等待中....\")\n",
    "                g_condition_lock.wait()  # 解开g_condition_lock 上了一把特殊的锁，如果有其他线程通知的话，会换回原来的锁\n",
    "            G_MONEY -= money\n",
    "            print(\"{}消费了{}元， 剩余{} 元\".format(threading.current_thread(), money, G_MONEY))\n",
    "            g_condition_lock.release()\n",
    "            time.sleep(1)\n",
    "\n",
    "\n",
    "def main():\n",
    "    # 实例化3个消费者线程\n",
    "    for i in range(3):\n",
    "        t = Consumer(name=\"消费者:{}\".format(i))\n",
    "        t.start()\n",
    "\n",
    "    # 实例化5个生产者线程\n",
    "    for i in range(5):\n",
    "        t = Producer(name='生产者:{}'.format(i))\n",
    "        t.start()\n",
    "\n",
    "\n",
    "if __name__ == \"__main__\":\n",
    "    main()"
   ]
  },
  {
   "cell_type": "markdown",
   "metadata": {},
   "source": [
    "### 队列\n",
    "+ 先进先出\n",
    "+ 要做就做完"
   ]
  },
  {
   "cell_type": "code",
   "execution_count": 2,
   "metadata": {},
   "outputs": [
    {
     "name": "stdout",
     "output_type": "stream",
     "text": [
      "4\n",
      "True\n",
      "False\n",
      "1\n",
      "2\n",
      "3\n",
      "4\n"
     ]
    }
   ],
   "source": [
    "from queue import Queue\n",
    "\n",
    "q = Queue(4)  # 实例化一个队列，并指定队列的大小\n",
    "q.put(1)  # 往队列里面添加数据\n",
    "q.put(2)\n",
    "for i in range(3,5):\n",
    "    q.put(i)\n",
    "\n",
    "print(q.qsize())  # q.qsize() 返回队列当前的大小\n",
    "\n",
    "print(q.full())  # 判断队列是否满了，如果满了返回True，不满返回False\n",
    "print(q.empty())  # 如果队列为空则返回True, 不为空则返回False\n",
    "\n",
    "for i in range(4):\n",
    "    print(q.get())  # 从队列中取出数据，按照先进先出原则"
   ]
  },
  {
   "cell_type": "markdown",
   "metadata": {},
   "source": [
    "`q.get(block=True)`  # 当队列为空时，如果还往队列里面取值，则会堵塞(默认堵塞)  \n",
    "`q.put(block=True)`  # 当队列满时，如果还往队列加数据，则会堵塞(默认堵塞)"
   ]
  },
  {
   "cell_type": "code",
   "execution_count": 2,
   "metadata": {},
   "outputs": [
    {
     "name": "stdout",
     "output_type": "stream",
     "text": [
      "准备睡觉\n",
      "0\n",
      "准备睡觉1\n",
      "\n",
      "准备睡觉2\n",
      "\n",
      "准备睡觉3\n",
      "\n",
      "准备睡觉4\n",
      "\n",
      "准备睡觉5\n",
      "\n",
      "准备睡觉6\n",
      "\n",
      "准备睡觉7\n",
      "\n",
      "准备睡觉8\n",
      "\n",
      "准备睡觉9\n",
      "\n",
      "准备睡觉10\n",
      "\n"
     ]
    }
   ],
   "source": [
    "from threading import Thread\n",
    "from queue import Queue\n",
    "import time\n",
    "index = 0\n",
    "\n",
    "\n",
    "def put_value(q):\n",
    "    global index\n",
    "    while index <= 10:\n",
    "        q.put(index)\n",
    "        index += 1\n",
    "        print(\"准备睡觉\")\n",
    "        time.sleep(1)\n",
    "        \n",
    "\n",
    "def get_value(q):\n",
    "    global index\n",
    "    while index<=10:\n",
    "        print(q.get())\n",
    "\n",
    "\n",
    "def main():\n",
    "    q = Queue(4)\n",
    "    t1 = Thread(target=put_value, args=(q, ))\n",
    "    t2 = Thread(target=get_value, args=(q, ))\n",
    "\n",
    "    t1.start()\n",
    "    t2.start()\n",
    "\n",
    "\n",
    "if __name__ == \"__main__\":\n",
    "    main()"
   ]
  },
  {
   "cell_type": "code",
   "execution_count": null,
   "metadata": {},
   "outputs": [],
   "source": []
  }
 ],
 "metadata": {
  "kernelspec": {
   "display_name": "Python 3",
   "language": "python",
   "name": "python3"
  },
  "language_info": {
   "codemirror_mode": {
    "name": "ipython",
    "version": 3
   },
   "file_extension": ".py",
   "mimetype": "text/x-python",
   "name": "python",
   "nbconvert_exporter": "python",
   "pygments_lexer": "ipython3",
   "version": "3.7.3"
  },
  "toc": {
   "base_numbering": 1,
   "nav_menu": {},
   "number_sections": true,
   "sideBar": true,
   "skip_h1_title": false,
   "title_cell": "Table of Contents",
   "title_sidebar": "Contents",
   "toc_cell": false,
   "toc_position": {},
   "toc_section_display": true,
   "toc_window_display": false
  }
 },
 "nbformat": 4,
 "nbformat_minor": 2
}
