{
 "cells": [
  {
   "cell_type": "code",
   "execution_count": 13,
   "metadata": {},
   "outputs": [
    {
     "name": "stdout",
     "output_type": "stream",
     "text": [
      "CPU : 8\n",
      "Child process name: Process-54 id: 12584\n",
      "Child process name: Process-53 id: 18848\n",
      "Child process name: Process-52 id: 18352\n",
      "Child process name: Process-55 id: 15320\n",
      "Child process name: Process-56 id: 15576\n",
      "process end\n"
     ]
    }
   ],
   "source": [
    "import multiprocessing\n",
    "import time\n",
    "\n",
    "\n",
    "def process(num):\n",
    "    time.sleep(num)\n",
    "    print('Process:', num)\n",
    "\n",
    "\n",
    "if __name__ == '__main__':\n",
    "    for i in range(5):\n",
    "        p = multiprocessing.Process(target=process, args=(i, ))\n",
    "        p.start()\n",
    "    print(\"CPU : \" + str(multiprocessing.cpu_count()))\n",
    "    for p in multiprocessing.active_children():\n",
    "        print('Child process name: ' + p.name + ' id: ' + str(p.pid))\n",
    "        \n",
    "    print('process end')"
   ]
  },
  {
   "cell_type": "code",
   "execution_count": 17,
   "metadata": {},
   "outputs": [],
   "source": [
    "from multiprocessing import Process\n",
    "import time\n",
    "\n",
    "class MyProcess(Process):\n",
    "    def __init__(self, loop, *args, **kwargs):\n",
    "        super().__init__(*args, **kwargs)\n",
    "        self.loop = loop\n",
    "        \n",
    "    def run(self):\n",
    "        for count in range(self.loop):\n",
    "            time.sleep(1)\n",
    "            print(\"PID: {} LoopCount: {}\".format(self.pid, count))\n",
    "            \n",
    "if __name__ == \"__main__\":\n",
    "    for i in range(5):\n",
    "        p = MyProcess(i)\n",
    "        p.start()\n",
    "        "
   ]
  },
  {
   "cell_type": "code",
   "execution_count": null,
   "metadata": {},
   "outputs": [],
   "source": []
  }
 ],
 "metadata": {
  "kernelspec": {
   "display_name": "Python 3",
   "language": "python",
   "name": "python3"
  },
  "language_info": {
   "codemirror_mode": {
    "name": "ipython",
    "version": 3
   },
   "file_extension": ".py",
   "mimetype": "text/x-python",
   "name": "python",
   "nbconvert_exporter": "python",
   "pygments_lexer": "ipython3",
   "version": "3.7.3"
  },
  "toc": {
   "base_numbering": 1,
   "nav_menu": {},
   "number_sections": true,
   "sideBar": true,
   "skip_h1_title": false,
   "title_cell": "Table of Contents",
   "title_sidebar": "Contents",
   "toc_cell": false,
   "toc_position": {},
   "toc_section_display": true,
   "toc_window_display": false
  }
 },
 "nbformat": 4,
 "nbformat_minor": 2
}
