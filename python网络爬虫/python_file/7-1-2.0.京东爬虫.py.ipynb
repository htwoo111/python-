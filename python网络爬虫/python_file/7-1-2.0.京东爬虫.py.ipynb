{
 "cells": [
  {
   "cell_type": "code",
   "execution_count": 3,
   "metadata": {
    "ExecuteTime": {
     "end_time": "2019-09-26T00:20:40.098379Z",
     "start_time": "2019-09-26T00:20:38.834716Z"
    }
   },
   "outputs": [],
   "source": [
    "import time\n",
    "from selenium import webdriver\n",
    "from selenium.webdriver.common.by import By\n",
    "from selenium.webdriver.common.keys import Keys\n",
    "from selenium.webdriver.support.wait import WebDriverWait\n",
    "from selenium.webdriver.support import expected_conditions as EC\n",
    "from selenium.common.exceptions import TimeoutException\n",
    "\n",
    "\n",
    "from urllib.parse import quote\n",
    "from pyquery import PyQuery as pq\n",
    "from pymongo import MongoClient"
   ]
  },
  {
   "cell_type": "code",
   "execution_count": 20,
   "metadata": {
    "ExecuteTime": {
     "end_time": "2019-09-26T00:32:06.752855Z",
     "start_time": "2019-09-26T00:32:01.903624Z"
    }
   },
   "outputs": [],
   "source": [
    "browser = webdriver.Chrome()\n",
    "browser.get('https://www.baidu.com')"
   ]
  },
  {
   "cell_type": "code",
   "execution_count": 23,
   "metadata": {
    "ExecuteTime": {
     "end_time": "2019-09-26T00:32:55.051077Z",
     "start_time": "2019-09-26T00:32:53.098618Z"
    }
   },
   "outputs": [],
   "source": [
    "wait = WebDriverWait(browser, 10)\n",
    "browser.get('https://www.jd.com/')"
   ]
  },
  {
   "cell_type": "code",
   "execution_count": 54,
   "metadata": {
    "ExecuteTime": {
     "end_time": "2019-09-26T00:49:40.172349Z",
     "start_time": "2019-09-26T00:49:26.270214Z"
    }
   },
   "outputs": [
    {
     "name": "stdout",
     "output_type": "stream",
     "text": [
      "正在获取第2页\n",
      "保存成功\n",
      "发送成功 2\n"
     ]
    }
   ],
   "source": [
    "def get_page_source():\n",
    "    try:\n",
    "        # 让滚动条滚到最下面获取所有的li\n",
    "        browser.execute_script('window.scrollTo(0, document.body.scrollHeight)')\n",
    "        time.sleep(3)\n",
    "        # 等待所有的li加载完成\n",
    "        wait.until(\n",
    "            EC.presence_of_all_elements_located((By.CSS_SELECTOR, '#J_goodsList ul'))\n",
    "        )\n",
    "        return browser.page_source\n",
    "    \n",
    "    except TimeoutException as e:\n",
    "        print('Time out')\n",
    "        get_page_source(page)\n",
    "    except Exception as e:\n",
    "        print(\"Error is {}\".format(e))\n",
    "        \n",
    "def parse_url(page_source):\n",
    "    \"\"\"解析网页，返回相关商品信息\"\"\"\n",
    "    print('开始解析')\n",
    "    doc = pq(page_source)\n",
    "    items = doc('#J_goodsList ul li').items()\n",
    "    product_list = []\n",
    "    items = doc('#J_goodsList .gl-warp .gl-item').items()\n",
    "    for item in items:\n",
    "        product_data = {}\n",
    "        product_data['title'] = item('.p-name a').attr('title')  # 获取商品描述\n",
    "        product_data['price'] = item('.p-price strong').text()\n",
    "        product_data['comment_count'] = item('.p-commit strong ').text()\n",
    "        product_data['shop'] = item('.p-shop .J_im_icon a').text()\n",
    "        product_data['href'] = item('.p-name a').attr('href')\n",
    "        print(product_data)\n",
    "        yield product_data\n",
    "\n",
    "def save_to_mongo(data):\n",
    "    for product_data in data:\n",
    "        try:\n",
    "            collection.insert_one(product_data)\n",
    "        except Exception as e:\n",
    "            print('error is {}'.format(e))\n",
    "    print('保存成功')\n",
    "\n",
    "def main(page):\n",
    "    print('正在获取第{}页'.format(page))\n",
    "    # 1.执行js，让滚动条滚到最下面，获取所有的li后，返回网页源代码\n",
    "    page_source = get_page_source()\n",
    "    # 2.对网页源代码进行解析\n",
    "    product_list = parse_url(page_source)\n",
    "    # 3.保存到数据库\n",
    "    save_to_mongo(data)\n",
    "    # 4.翻页，继续1，2，3\n",
    "    page_input = browser.find_element_by_css_selector('#J_bottomPage .input-txt')\n",
    "    submit_button = browser.find_element_by_css_selector('#J_bottomPage .btn')\n",
    "    page_input.clear()\n",
    "    page_input.send_keys(page)\n",
    "    print('发送成功 {}'.format(page))\n",
    "    submit_button.click()\n",
    "    \n",
    "if __name__ == \"__main__\":\n",
    "    client = MongoClient(host='localhost', port=27017)\n",
    "    collection = client['jd']['jd_product']\n",
    "    browser.get('https://www.jd.com')\n",
    "    keyword = \"手机\"\n",
    "    input_ = browser.find_element_by_css_selector('#key')\n",
    "    input_.send_keys(keyword)\n",
    "    input_.send_keys(Keys.ENTER)\n",
    "    time.sleep(1)\n",
    "\n",
    "    _ = main(2)"
   ]
  },
  {
   "cell_type": "code",
   "execution_count": 53,
   "metadata": {
    "ExecuteTime": {
     "end_time": "2019-09-26T00:48:28.284855Z",
     "start_time": "2019-09-26T00:48:28.239783Z"
    }
   },
   "outputs": [
    {
     "name": "stdout",
     "output_type": "stream",
     "text": [
      "<generator object parse_url at 0x00000174E13A65E8>\n"
     ]
    }
   ],
   "source": [
    "items = doc('#J_goodsList .gl-warp .gl-item').items()\n",
    "# for item in items:\n",
    "#     product_data = {}\n",
    "#     product_data['title'] = item('.p-name a').attr('title')  # 获取商品描述\n",
    "#     product_data['price'] = item('.p-price strong').text()\n",
    "#     product_data['comment_count'] = item('.p-commit strong ').text()\n",
    "#     product_data['shop'] = item('.p-shop .J_im_icon a').text()\n",
    "#     product_data['href'] = item('.p-name a').attr('href')\n",
    "#     print(product_data)\n",
    "# #     break\n",
    "for i in _:\n",
    "    print(i)"
   ]
  },
  {
   "cell_type": "code",
   "execution_count": 158,
   "metadata": {
    "ExecuteTime": {
     "end_time": "2019-09-26T00:06:21.984681Z",
     "start_time": "2019-09-26T00:06:21.919620Z"
    }
   },
   "outputs": [
    {
     "name": "stdout",
     "output_type": "stream",
     "text": [
      "864\n"
     ]
    }
   ],
   "source": [
    "\n",
    "client = MongoClient(host='localhost', port=27017)\n",
    "collection = client['jd']['jd_product']\n",
    "# print(collection)\n",
    "\n",
    "collection = client['douban']['tv']\n",
    "print(collection.count_documents({}))"
   ]
  }
 ],
 "metadata": {
  "kernelspec": {
   "display_name": "Python 3",
   "language": "python",
   "name": "python3"
  },
  "language_info": {
   "codemirror_mode": {
    "name": "ipython",
    "version": 3
   },
   "file_extension": ".py",
   "mimetype": "text/x-python",
   "name": "python",
   "nbconvert_exporter": "python",
   "pygments_lexer": "ipython3",
   "version": "3.7.3"
  },
  "toc": {
   "base_numbering": 1,
   "nav_menu": {},
   "number_sections": true,
   "sideBar": true,
   "skip_h1_title": false,
   "title_cell": "Table of Contents",
   "title_sidebar": "Contents",
   "toc_cell": false,
   "toc_position": {},
   "toc_section_display": true,
   "toc_window_display": false
  },
  "varInspector": {
   "cols": {
    "lenName": 16,
    "lenType": 16,
    "lenVar": 40
   },
   "kernels_config": {
    "python": {
     "delete_cmd_postfix": "",
     "delete_cmd_prefix": "del ",
     "library": "var_list.py",
     "varRefreshCmd": "print(var_dic_list())"
    },
    "r": {
     "delete_cmd_postfix": ") ",
     "delete_cmd_prefix": "rm(",
     "library": "var_list.r",
     "varRefreshCmd": "cat(var_dic_list()) "
    }
   },
   "types_to_exclude": [
    "module",
    "function",
    "builtin_function_or_method",
    "instance",
    "_Feature"
   ],
   "window_display": false
  }
 },
 "nbformat": 4,
 "nbformat_minor": 2
}
