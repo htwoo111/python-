{
 "cells": [
  {
   "cell_type": "code",
   "execution_count": 42,
   "metadata": {
    "ExecuteTime": {
     "end_time": "2019-09-25T08:49:43.443814Z",
     "start_time": "2019-09-25T08:49:43.435870Z"
    }
   },
   "outputs": [],
   "source": [
    "from selenium import webdriver\n",
    "from selenium.common.exceptions import TimeoutException\n",
    "from selenium.webdriver.common.by import By\n",
    "from selenium.webdriver.support import expected_conditions as EC\n",
    "from selenium.webdriver.support.wait import WebDriverWait\n",
    "from urllib.parse import quote\n",
    "from pyquery import PyQuery as pq\n",
    "import pymongo\n",
    "import time"
   ]
  },
  {
   "cell_type": "code",
   "execution_count": 44,
   "metadata": {
    "ExecuteTime": {
     "end_time": "2019-09-25T08:49:49.320606Z",
     "start_time": "2019-09-25T08:49:46.731246Z"
    }
   },
   "outputs": [],
   "source": [
    "\n",
    "def index_page(page):\n",
    "    \"\"\"\n",
    "    抓取索引页\n",
    "    ：param page :页码\n",
    "    \"\"\"\n",
    "    print('正在爬取第{} 页'.format(page))\n",
    "    try:\n",
    "        url = \"https://s.taobao.com/search?q=\" + quote(KEYWORD)\n",
    "        browser.get(url)\n",
    "        time.sleep(5)\n",
    "        if page > 1:\n",
    "            # 获取跳转页输入框\n",
    "            input_ = wait.until(\n",
    "                EC.presence_of_element_located((By.CSS_SELECTOR, \"#mainsrp-pager div.form > input\")))\n",
    "            # 获取跳转页确定框\n",
    "            submit = wait.until(\n",
    "                EC.presence_of_element_located(By.CSS_SELECTOR, \"#mainsrp-pager div.form > span.btn.J_Submit\"))\n",
    "            # 清空输入框的内容\n",
    "            input_.clear()\n",
    "            # 设置页码数\n",
    "            input_.send_keys(page)\n",
    "            submit.click()\n",
    "        # 等待验证高亮页面的标签是否为当前页\n",
    "        wait.until(\n",
    "            EC.text_to_be_present_in_element((By.CSS_SELECTOR, '#mainsrp-pager li.item.active > span'),\n",
    "            str(page)))\n",
    "        # 获取当前页面的内容\n",
    "        wait.until(EC.presence_of_element_located((By.CSS_SELECTOR, '.m-itemlist .items .item')))\n",
    "        get_products()\n",
    "    except TimeoutException as e:\n",
    "        # 超时重写请求\n",
    "        index_page(page)"
   ]
  },
  {
   "cell_type": "code",
   "execution_count": 45,
   "metadata": {
    "ExecuteTime": {
     "end_time": "2019-09-25T08:49:49.375459Z",
     "start_time": "2019-09-25T08:49:49.329389Z"
    }
   },
   "outputs": [],
   "source": [
    "def get_products():\n",
    "    \"\"\"获取商品数据\"\"\"\n",
    "    html = browser.page_source\n",
    "    doc = pq(html)\n",
    "    items = doc('#mainsrp-itemlist .items .item').items()\n",
    "    for item in items:\n",
    "        product = {\n",
    "            'image':item.find('.pic .img').attr('data-src'),\n",
    "            'price':item.find('.price').text(),\n",
    "            'deal': item.find('.deal-cnt').text(),\n",
    "            'title': item.find('.title').text(),\n",
    "            'shop':item.find('.shop').text(),\n",
    "            'location':item.find('.location').text()        \n",
    "        }\n",
    "        print(product)\n",
    "        save_to_mongo(product)"
   ]
  },
  {
   "cell_type": "code",
   "execution_count": 46,
   "metadata": {
    "ExecuteTime": {
     "end_time": "2019-09-25T08:49:49.414352Z",
     "start_time": "2019-09-25T08:49:49.387491Z"
    }
   },
   "outputs": [],
   "source": [
    "MONGO_DB = 'taobao'\n",
    "MONGO_COLLECTION = 'product'\n",
    "client = pymongo.MongoClient(host='localhost', port=27017)\n",
    "db = client[MONGO_DB]\n",
    "collection = db[MONGO_COLLECTION]\n",
    "def save_to_mongo(product):\n",
    "    try:\n",
    "        if collection.insert(product):\n",
    "            print('保存成功')\n",
    "    except Exception:\n",
    "        print('保存失败！！')"
   ]
  },
  {
   "cell_type": "code",
   "execution_count": 47,
   "metadata": {
    "ExecuteTime": {
     "end_time": "2019-09-25T08:49:49.436297Z",
     "start_time": "2019-09-25T08:49:49.422334Z"
    }
   },
   "outputs": [],
   "source": [
    "MAX_PAGE = 100\n",
    "def main():\n",
    "    for i in range(1, MAX_PAGE+1):\n",
    "        index_page(i)"
   ]
  },
  {
   "cell_type": "code",
   "execution_count": 51,
   "metadata": {
    "ExecuteTime": {
     "end_time": "2019-09-25T08:52:25.764768Z",
     "start_time": "2019-09-25T08:51:59.625717Z"
    }
   },
   "outputs": [
    {
     "name": "stdout",
     "output_type": "stream",
     "text": [
      "正在爬取第1 页\n",
      "{'image': '//g-search1.alicdn.com/img/bao/uploaded/i4/imgextra/i1/341520105/O1CN01PRpA3N1Ce89EcUmso_!!0-saturn_solar.jpg', 'price': '¥2868.00', 'deal': '2636人付款', 'title': 'Apple/苹果 iPad 2018新款 平板电脑 air2 9.7英寸32/128G wifi 正品全国联保 平板ipad', 'shop': '宏音伟业数码专营', 'location': '广东 深圳'}\n",
      "保存成功\n",
      "{'image': '//g-search3.alicdn.com/img/bao/uploaded/i4/i2/1917047079/O1CN01B57i9v22AEI529xhY_!!2-item_pic.png', 'price': '¥6569.00', 'deal': '', 'title': 'Apple/苹果 10.5 英寸 iPad Air', 'shop': 'applestore官方旗舰店', 'location': '上海'}\n",
      "保存成功\n",
      "{'image': '//g-search3.alicdn.com/img/bao/uploaded/i4/i3/1776456424/O1CN01sQ1Ov01xKEs2CUjzS_!!0-item_pic.jpg', 'price': '¥2838.00', 'deal': '5000+人付款', 'title': '【12期分期 全国联保】Apple/苹果 iPad 2018款中移动苹果平板电脑9.7英寸正品国行平板ipad2018', 'shop': '中国移动官方旗舰店', 'location': '浙江 杭州'}\n",
      "保存成功\n",
      "{'image': '//g-search3.alicdn.com/img/bao/uploaded/i4/i1/1917047079/O1CN01qNZUmy22AEFzBvXlR_!!2-item_pic.png', 'price': '¥4870.00', 'deal': '', 'title': 'Apple/苹果 10.5 英寸 iPad Air', 'shop': 'applestore官方旗舰店', 'location': '上海'}\n",
      "保存成功\n"
     ]
    },
    {
     "name": "stderr",
     "output_type": "stream",
     "text": [
      "D:\\anaconda\\lib\\site-packages\\ipykernel_launcher.py:8: DeprecationWarning: insert is deprecated. Use insert_one or insert_many instead.\n",
      "  \n"
     ]
    },
    {
     "name": "stdout",
     "output_type": "stream",
     "text": [
      "{'image': '//g-search3.alicdn.com/img/bao/uploaded/i4/i2/1917047079/O1CN01orvMCo22AEFyGqSrB_!!0-item_pic.jpg', 'price': '¥2921.00', 'deal': '', 'title': 'Apple/苹果 iPad mini', 'shop': 'applestore官方旗舰店', 'location': '上海'}\n",
      "保存成功\n",
      "{'image': '//g-search3.alicdn.com/img/bao/uploaded/i4/i4/1776456424/O1CN01pmX5dq1xKEsvgEgHl_!!0-item_pic.jpg', 'price': '¥3258.00', 'deal': '1589人付款', 'title': '【中国移动官方旗舰店】苹果平板2019新款ipad air Apple/苹果10.5英寸中移动iPad air新款平板电脑ipad', 'shop': '中国移动官方旗舰店', 'location': '浙江 杭州'}\n",
      "保存成功\n",
      "{'image': '//g-search3.alicdn.com/img/bao/uploaded/i4/i3/2616970884/O1CN01ecsyWI1IOugAvAXvV_!!0-item_pic.jpg', 'price': '¥3896.00', 'deal': '4256人付款', 'title': '【下单至高减527】2019新款 Apple/苹果iPad Air 3平板电脑 10.5英寸智能A12处理器WiFi支持pencil', 'shop': '苏宁易购官方旗舰店', 'location': '江苏 南京'}\n",
      "保存成功\n",
      "{'image': '//g-search1.alicdn.com/img/bao/uploaded/i4/i2/2200724907121/O1CN01UU4ZIG22TSwjN36uh_!!0-item_pic.jpg', 'price': '¥2868.00', 'deal': '2636人付款', 'title': 'Apple/苹果 iPad 2018新款 平板电脑 air2 9.7英寸32/128G wifi 正品全国联保 平板ipad', 'shop': '宏音伟业数码专营', 'location': '广东 深圳'}\n",
      "保存成功\n",
      "{'image': '//g-search2.alicdn.com/img/bao/uploaded/i4/i2/385131841/O1CN01G2UEu61PTDiWc5koX_!!0-item_pic.jpg', 'price': '¥2299.00', 'deal': '2495人付款', 'title': '【官方新品】华为M6平板电脑10.8英寸2019新款大屏全网通话10寸平板手机二合一智能安卓游戏超薄全新正品ipad', 'shop': '信沃数码专营店', 'location': '广东 广州'}\n",
      "保存成功\n",
      "{'image': '//g-search3.alicdn.com/img/bao/uploaded/i4/i4/97045700/O1CN01h1liQr1rye5J56wRI_!!97045700.jpg', 'price': '¥3078.00', 'deal': '3235人付款', 'title': '2019新款/Apple/苹果 10.5 英寸iPad Air 3平板电脑 新款iPadAir3', 'shop': '深圳_恒波', 'location': '广东 深圳'}\n",
      "保存成功\n",
      "{'image': '//g-search2.alicdn.com/img/bao/uploaded/i4/i2/2711014365/O1CN01FDTJYl1i7DO9jQH8v_!!0-item_pic.jpg', 'price': '¥2699.00', 'deal': '992人付款', 'title': '【新品】华为平板M6高能版 8.4英寸4G可通话WIFI手机AI智能电脑安卓m5二合一10游戏学生mini性能2019新款ipad', 'shop': '华为卓瑞尔专卖店', 'location': '广东 深圳'}\n",
      "保存成功\n",
      "{'image': '//g-search3.alicdn.com/img/bao/uploaded/i4/i2/2711014365/O1CN01hKEThM1i7DO8ojhv9_!!0-item_pic.jpg', 'price': '¥2299.00', 'deal': '2792人付款', 'title': '华为平板M6 10.8英寸4G可通话WIFI手机AI智能语音电脑安卓10寸游戏m5二合一2019新款大屏全新正品ipad', 'shop': '华为卓瑞尔专卖店', 'location': '广东 深圳'}\n",
      "保存成功\n",
      "{'image': '//g-search3.alicdn.com/img/bao/uploaded/i4/i1/1669409267/O1CN01PbIsWR2IKKtu9ZpY2_!!1669409267-0-pixelsss.jpg', 'price': '¥2898.00', 'deal': '3069人付款', 'title': '【官方授权 两年保修】Apple/苹果 iPad 2018新款 9.7英寸平板电脑32G/128G苹果平板ipadair3升级二合一正品', 'shop': '卓辰数码旗舰店', 'location': '浙江 杭州'}\n",
      "保存成功\n",
      "{'image': '//g-search3.alicdn.com/img/bao/uploaded/i4/i4/4067898807/O1CN01pvQXfY2Evehx99CAg_!!4067898807.jpg', 'price': '¥3088.00', 'deal': '2501人付款', 'title': 'Apple/苹果10.5英寸 iPadAir 2019新款iPad Air3平板电脑10.2英寸', 'shop': '手机回收销售', 'location': '广东 深圳'}\n",
      "保存成功\n",
      "{'image': '//g-search1.alicdn.com/img/bao/uploaded/i4/i3/858042828/O1CN01FqFkxL1WlGdNu44SA_!!0-item_pic.jpg', 'price': '¥2299.01', 'deal': '1779人付款', 'title': '【免费试用】华为平板 M6 10.8英寸 安卓平板电脑二合一4G通话手机 AI智能超薄大屏游戏2019新款平板ipad电脑', 'shop': '宏威科锐数码专营店', 'location': '北京'}\n",
      "保存成功\n",
      "{'image': '//g-search1.alicdn.com/img/bao/uploaded/i4/i3/97045700/O1CN010KJ5eg1rye8F1jHl1_!!97045700.jpg', 'price': '¥2118.00', 'deal': '2676人付款', 'title': 'Apple/苹果 iPad mini5 7.9英寸平板电脑 迷你5 2019新款ipadmini', 'shop': '深圳_恒波', 'location': '广东 深圳'}\n",
      "保存成功\n",
      "{'image': '//g-search1.alicdn.com/img/bao/uploaded/i4/i1/2923048015/O1CN01V5HWXq294v1qbrL0f_!!0-item_pic.jpg', 'price': '¥2299.00', 'deal': '1906人付款', 'title': '【现货顺丰速发】华为平板M6 2019新款10.8英寸大屏智能安卓超薄游戏全网通全新平板电脑二合一ipad', 'shop': 'clife旗舰店', 'location': '上海'}\n",
      "保存成功\n",
      "{'image': '//g-search2.alicdn.com/img/bao/uploaded/i4/i2/2200724907121/O1CN013vZrQn22TSwi5bO0N_!!0-item_pic.jpg', 'price': '¥2638.00', 'deal': '1147人付款', 'title': '【延保一年】Apple/苹果 7.9 英寸ipad mini5 2019新款平板电脑国行正品支持Apple Pencil', 'shop': '宏音伟业数码专营', 'location': '广东 深圳'}\n",
      "保存成功\n",
      "{'image': '//g-search2.alicdn.com/img/bao/uploaded/i4/i1/1669409267/O1CN016i9xQ12IKKtwsh4zH_!!1669409267-0-pixelsss.jpg', 'price': '¥2658.00', 'deal': '2293人付款', 'title': '【官方授权 两年保修】Apple/苹果 7.9 英寸iPad mini平板电脑 2019新款ipadmini5掌上电脑 支持Apple Pencil', 'shop': '卓辰数码旗舰店', 'location': '浙江 杭州'}\n",
      "保存成功\n",
      "{'image': '//g-search2.alicdn.com/img/bao/uploaded/i4/i4/1608558763/O1CN01smFxP22EbVDnvLBaD_!!1608558763.jpg', 'price': '¥4708.00', 'deal': '2404人付款', 'title': '2018新款Apple/苹果 11 英寸 iPad Pro 12.9英寸全面屏平板电脑', 'shop': '我乃寻梦人', 'location': '广东 深圳'}\n",
      "保存成功\n",
      "{'image': '//g-search2.alicdn.com/img/bao/uploaded/i4/i4/88853534/O1CN01BetLGr1bycDbj3Gqm_!!88853534.jpg', 'price': '¥3608.00', 'deal': '1643人付款', 'title': '2018新款Apple/苹果 11 英寸 iPad Pro 11寸全面屏12.9寸平板电脑', 'shop': 'xiaoshengjin', 'location': '广东 深圳'}\n",
      "保存成功\n",
      "{'image': '//g-search2.alicdn.com/img/bao/uploaded/i4/i2/385131841/O1CN01uVX70w1PTDicc612Z_!!0-item_pic.jpg', 'price': '¥2699.00', 'deal': '785人付款', 'title': '【新品现货】华为M6平板电脑 高能版8.4英寸2019新款ipad平板手机二合一10寸智能安卓游戏全网通话全新正品', 'shop': '信沃数码专营店', 'location': '广东 广州'}\n",
      "保存成功\n",
      "{'image': '//g-search3.alicdn.com/img/bao/uploaded/i4/i4/21681732/O1CN01oxyKKQ1OfIXqGinxG_!!21681732.jpg', 'price': '¥3598.00', 'deal': '901人付款', 'title': '2019全面屏2018新款Apple/苹果 iPad Pro 11寸12.9寸英寸平板电脑', 'shop': 'roamerhouse', 'location': '北京'}\n",
      "保存成功\n",
      "{'image': '//g-search3.alicdn.com/img/bao/uploaded/i4/i4/2539737278/O1CN01XWtIug23dN7PCC4hF_!!2539737278.jpg', 'price': '¥3138.00', 'deal': '689人付款', 'title': '2019新款Apple/苹果 iPad Air3 10.5寸 iPad Pro Wifi 4G平板电脑', 'shop': '李小麦的店', 'location': '北京'}\n",
      "保存成功\n",
      "{'image': '//g-search2.alicdn.com/img/bao/uploaded/i4/i3/898225/O1CN01VzH1RZ2Ad6AwWer1c_!!898225.jpg', 'price': '¥3118.00', 'deal': '939人付款', 'title': 'Apple/苹果 10.5 英寸 iPad Air 3 平板电脑 新ipad2019 air3国行', 'shop': 'ygsd', 'location': '北京'}\n",
      "保存成功\n",
      "{'image': '//g-search3.alicdn.com/img/bao/uploaded/i4/i3/1608558763/O1CN01dzdz022EbVES7v2U9_!!1608558763.jpg', 'price': '¥3068.00', 'deal': '604人付款', 'title': 'Apple/苹果10.5英寸 iPadAir 2019新款iPad Air3 平板电脑iPadPro', 'shop': '我乃寻梦人', 'location': '广东 深圳'}\n",
      "保存成功\n",
      "{'image': '//g-search3.alicdn.com/img/bao/uploaded/i4/i2/2616970884/O1CN01A9iiPd1IOugTfN01E_!!0-item_pic.jpg', 'price': '¥2318.00', 'deal': '7000+人付款', 'title': '【苏宁13仓发货】2018新款 Apple/苹果 9.7英寸iPad 智能平板电脑 国行32G 128G 正规发票', 'shop': '苏宁易购官方旗舰店', 'location': '江苏 南京'}\n",
      "保存成功\n",
      "{'image': '//g-search1.alicdn.com/img/bao/uploaded/i4/i1/2258958427/O1CN01Y3P1Gr2C7cCuBEPKr_!!0-item_pic.jpg', 'price': '¥2699.00', 'deal': '374人付款', 'title': 'Huawei/华为平板M6 10.8英寸平板电脑二合一分屏全网通话4G/WiFi安卓办公游戏学生平板ipad2019新款正品', 'shop': '鏖彧数码专营店', 'location': '湖北 武汉'}\n",
      "保存成功\n",
      "{'image': '//g-search3.alicdn.com/img/bao/uploaded/i4/i3/277891388/O1CN01ggOUMH1M7kFcK8DQg_!!277891388.jpg', 'price': '¥2488.00', 'deal': '772人付款', 'title': 'Apple/苹果 iPad mini 5 7.9英寸平板电脑 迷你4 2019新款 mini5', 'shop': '我就爱购数码专营店', 'location': '江苏 南京'}\n",
      "保存成功\n",
      "{'image': '//g-search3.alicdn.com/img/bao/uploaded/i4/i2/2539737278/O1CN01aKl5Qq23dN4wXenHy_!!2539737278.jpg', 'price': '¥4808.00', 'deal': '439人付款', 'title': '2018年新款Apple/苹果 11英寸 iPad Pro 11寸 12.9全面屏平板电脑', 'shop': '李小麦的店', 'location': '北京'}\n",
      "保存成功\n",
      "{'image': '//g-search3.alicdn.com/img/bao/uploaded/i4/i3/100951959/O1CN01etyFMg1QLGRYQFWkC_!!100951959.jpg', 'price': '¥999.00', 'deal': '3436人付款', 'title': 'Apple/苹果 iPad 2018款新iPad19air2平板电脑9.7寸10.5Pro mini4', 'shop': 'sunmengxian8', 'location': '广东 深圳'}\n",
      "保存成功\n",
      "{'image': '//g-search3.alicdn.com/img/bao/uploaded/i4/i4/722269517/O1CN01aQG7Om2KApujZebmt_!!722269517.jpg', 'price': '¥1530.00', 'deal': '684人付款', 'title': '苹果平板电脑ipad pro10.5二代2018迷你mini4新款6版9.7英寸air2', 'shop': '念所念', 'location': '广东 深圳'}\n",
      "保存成功\n",
      "{'image': '//g-search3.alicdn.com/img/bao/uploaded/i4/i4/1115488308/O1CN018OvP522BF74PLVUeS_!!0-item_pic.jpg', 'price': '¥2168.00', 'deal': '92人付款', 'title': '【2158元起】Apple/苹果 iPad 2018款9.7英寸wifi版国行正品苹果平板电脑ipadPro新款2018mini迷你', 'shop': '君问数码官方旗舰店', 'location': '浙江 杭州'}\n",
      "保存成功\n",
      "{'image': '//g-search1.alicdn.com/img/bao/uploaded/i4/i1/3261336459/O1CN01k2SKyq1xaGka1D0MT_!!0-item_pic.jpg', 'price': '¥1199.00', 'deal': '805人付款', 'title': '荣耀 荣耀平板5 10英寸12大屏智能安卓超薄吃鸡游戏2018新款pad全网通全新华为平板电脑二合一m6手机ipad10.1', 'shop': '荣耀港讯专卖店', 'location': '广东 广州'}\n",
      "保存成功\n",
      "{'image': '//g-search2.alicdn.com/img/bao/uploaded/i4/i4/2364946123/O1CN01sjaFAS1v6Ne5QjJth_!!2364946123.jpg', 'price': '¥2300.00', 'deal': '348人付款', 'title': 'Apple/苹果 iPad mini5 2019新款7.9寸迷你5平板10.5 iPad Air3', 'shop': 'mrmaccn', 'location': '上海'}\n",
      "保存成功\n",
      "{'image': '//g-search3.alicdn.com/img/bao/uploaded/i4/i4/1089425995/O1CN010hRZ8k1u9kyayUplA_!!1089425995.jpg', 'price': '¥2699.00', 'deal': '421人付款', 'title': 'Apple/苹果10.5英寸 iPadAir 2019新款iPad Air3平板电脑10.2英寸', 'shop': 'icmay2012', 'location': '上海'}\n",
      "保存成功\n",
      "{'image': '//g-search1.alicdn.com/img/bao/uploaded/i4/i4/128392586/O1CN01o86wxE1UyQjvyt6Ly_!!128392586.jpg', 'price': '¥2500.00', 'deal': '570人付款', 'title': 'Apple/苹果 iPad Air 3 2019年新款mini 5平板电脑64G 256G国行4G', 'shop': 'hdjkgll', 'location': '上海'}\n",
      "保存成功\n"
     ]
    },
    {
     "name": "stdout",
     "output_type": "stream",
     "text": [
      "{'image': '//g-search3.alicdn.com/img/bao/uploaded/i4/i3/1062583331/O1CN01fY84xw1aTdrBrr6dR_!!0-item_pic.jpg', 'price': '¥1849.00', 'deal': '506人付款', 'title': '【30天试用】Jumper/中柏EZpad Go 平板电脑二合一windows系统PC11.6英寸2019新款超薄办公手写win10平板ipad', 'shop': 'jumper中柏旗舰店', 'location': '广东 深圳'}\n",
      "保存成功\n",
      "{'image': '//g-search3.alicdn.com/img/bao/uploaded/i4/i2/898225/O1CN01LyARPd2Ad69rEyEYl_!!898225.jpg', 'price': '¥5018.00', 'deal': '220人付款', 'title': '现货速发 2018新款Apple/苹果 iPad Pro 11寸12.9全面屏平板三代', 'shop': 'ygsd', 'location': '北京'}\n",
      "保存成功\n",
      "{'image': '//g-search1.alicdn.com/img/bao/uploaded/i4/i4/268451883/O1CN01GgjeBB1PmSLTFHM7a_!!0-item_pic.jpg', 'price': '¥2188.00', 'deal': '127人付款', 'title': '【12期分期】送1年店铺延保/12期分期 Apple/苹果 iPad 2018新款 9.7英寸 wifi版 苹果平板电脑 air 2 3', 'shop': '三际数码官方旗舰店', 'location': '山东 济南'}\n",
      "保存成功\n",
      "{'image': '//g-search3.alicdn.com/img/bao/uploaded/i4/i4/25483223/O1CN011ZgAzeVgoCRt2Kq_!!25483223.jpg', 'price': '¥4888.00', 'deal': '130人付款', 'title': 'Apple/苹果 11 英寸 iPad Pro 64G/256G 4G版ipadpro12.9平板电脑', 'shop': '糊涂在线', 'location': '四川 成都'}\n",
      "保存成功\n",
      "{'image': '//g-search2.alicdn.com/img/bao/uploaded/i4/i3/817364266/O1CN0166SwVD1hNsAsmd3yP_!!817364266.jpg', 'price': '¥1120.00', 'deal': '1083人付款', 'title': 'Apple/苹果 iPad 2018款19款11寸 mini5 4平板电脑Pro Air3 9.7寸', 'shop': '阿民1975', 'location': '广东 深圳'}\n",
      "保存成功\n",
      "{'image': '//g-search3.alicdn.com/img/bao/uploaded/i4/i3/1069744797/O1CN01JZzMln1lJ4Swn2Cgo_!!1069744797.jpg', 'price': '¥3299.00', 'deal': '347人付款', 'title': '苹果ipad pro 11寸 2018款ipadpro12.9/10.5三代平板电脑美版日版', 'shop': '波波逛街99', 'location': '广东 深圳'}\n",
      "保存成功\n",
      "{'image': '//g-search2.alicdn.com/img/bao/uploaded/i4/i1/2923048015/O1CN01AdVnzO294v1onxamD_!!0-item_pic.jpg', 'price': '¥1999.00', 'deal': '272人付款', 'title': '【华为新品 】华为平板M6 2019新款8.4英寸二合一手机智能安卓游戏全网通话超薄正品ipad官方旗舰店', 'shop': 'clife旗舰店', 'location': '上海'}\n",
      "保存成功\n",
      "{'image': '//g-search2.alicdn.com/img/bao/uploaded/i4/i4/4129257698/O1CN01rRdBIQ26jjTRmDQ4l_!!0-item_pic.jpg', 'price': '¥6179.00', 'deal': '92人付款', 'title': '【教育优惠】Apple/苹果 11 英寸 iPad Pro 全面屏商务办公绘图设计编辑平板电脑官方授权正品行货 AppleCare', 'shop': 'onezero美承数码旗舰店', 'location': '上海'}\n",
      "保存成功\n",
      "{'image': '//g-search3.alicdn.com/img/bao/uploaded/i4/i2/3015936477/O1CN01PSiWoY1xiVsaFSWvY_!!0-item_pic.jpg', 'price': '¥1199.00', 'deal': '604人付款', 'title': '华为旗下荣耀平板5大屏高清10英寸12平板电脑pad二合一掌上游戏电脑全网通4G通话安卓手机智能超薄ipad学生m6', 'shop': '荣耀梵荣专卖店', 'location': '浙江 杭州'}\n",
      "保存成功\n",
      "{'image': '//g-search3.alicdn.com/img/bao/uploaded/i4/i3/2818186317/O1CN01FIRQCO1wXETpSJB7f_!!2818186317.jpg', 'price': '¥1500.00', 'deal': '167人付款', 'title': 'Apple/苹果 iPad 2018款 9.7英寸平板电脑19款10.5pro12.9寸mini4', 'shop': '浙江淳固电子商务有限公司', 'location': '浙江 金华'}\n",
      "保存成功\n",
      "{'image': '//g-search3.alicdn.com/img/bao/uploaded/i4/i3/2204163545195/O1CN01wHAYiG1oFM7gSIweW_!!0-item_pic.jpg', 'price': '¥2558.00', 'deal': '45人付款', 'title': '【可享750换新补贴】2019新款Apple/苹果iPad mini 7.9英寸平板电脑新款ipadmini5支持Pencil全国联保', 'shop': '轻松换数码旗舰店', 'location': '北京'}\n",
      "保存成功\n",
      "正在爬取第2 页\n"
     ]
    },
    {
     "ename": "TypeError",
     "evalue": "__init__() takes 2 positional arguments but 3 were given",
     "output_type": "error",
     "traceback": [
      "\u001b[1;31m---------------------------------------------------------------------------\u001b[0m",
      "\u001b[1;31mTypeError\u001b[0m                                 Traceback (most recent call last)",
      "\u001b[1;32m<ipython-input-51-59cc76560644>\u001b[0m in \u001b[0;36m<module>\u001b[1;34m\u001b[0m\n\u001b[0;32m      3\u001b[0m     \u001b[0mwait\u001b[0m \u001b[1;33m=\u001b[0m \u001b[0mWebDriverWait\u001b[0m\u001b[1;33m(\u001b[0m\u001b[0mbrowser\u001b[0m\u001b[1;33m,\u001b[0m \u001b[1;36m10\u001b[0m\u001b[1;33m)\u001b[0m\u001b[1;33m\u001b[0m\u001b[1;33m\u001b[0m\u001b[0m\n\u001b[0;32m      4\u001b[0m     \u001b[0mKEYWORD\u001b[0m \u001b[1;33m=\u001b[0m \u001b[1;34m'iPad'\u001b[0m\u001b[1;33m\u001b[0m\u001b[1;33m\u001b[0m\u001b[0m\n\u001b[1;32m----> 5\u001b[1;33m     \u001b[0mmain\u001b[0m\u001b[1;33m(\u001b[0m\u001b[1;33m)\u001b[0m\u001b[1;33m\u001b[0m\u001b[1;33m\u001b[0m\u001b[0m\n\u001b[0m",
      "\u001b[1;32m<ipython-input-47-c9dd871fdd01>\u001b[0m in \u001b[0;36mmain\u001b[1;34m()\u001b[0m\n\u001b[0;32m      2\u001b[0m \u001b[1;32mdef\u001b[0m \u001b[0mmain\u001b[0m\u001b[1;33m(\u001b[0m\u001b[1;33m)\u001b[0m\u001b[1;33m:\u001b[0m\u001b[1;33m\u001b[0m\u001b[1;33m\u001b[0m\u001b[0m\n\u001b[0;32m      3\u001b[0m     \u001b[1;32mfor\u001b[0m \u001b[0mi\u001b[0m \u001b[1;32min\u001b[0m \u001b[0mrange\u001b[0m\u001b[1;33m(\u001b[0m\u001b[1;36m1\u001b[0m\u001b[1;33m,\u001b[0m \u001b[0mMAX_PAGE\u001b[0m\u001b[1;33m+\u001b[0m\u001b[1;36m1\u001b[0m\u001b[1;33m)\u001b[0m\u001b[1;33m:\u001b[0m\u001b[1;33m\u001b[0m\u001b[1;33m\u001b[0m\u001b[0m\n\u001b[1;32m----> 4\u001b[1;33m         \u001b[0mindex_page\u001b[0m\u001b[1;33m(\u001b[0m\u001b[0mi\u001b[0m\u001b[1;33m)\u001b[0m\u001b[1;33m\u001b[0m\u001b[1;33m\u001b[0m\u001b[0m\n\u001b[0m",
      "\u001b[1;32m<ipython-input-44-b1f68da5699a>\u001b[0m in \u001b[0;36mindex_page\u001b[1;34m(page)\u001b[0m\n\u001b[0;32m     19\u001b[0m             \u001b[1;31m# 获取跳转页确定框\u001b[0m\u001b[1;33m\u001b[0m\u001b[1;33m\u001b[0m\u001b[1;33m\u001b[0m\u001b[0m\n\u001b[0;32m     20\u001b[0m             submit = wait.until(\n\u001b[1;32m---> 21\u001b[1;33m                 EC.presence_of_element_located(By.CSS_SELECTOR, \"#mainsrp-pager div.form > span.btn.J_Submit\"))\n\u001b[0m\u001b[0;32m     22\u001b[0m             \u001b[1;31m# 清空输入框的内容\u001b[0m\u001b[1;33m\u001b[0m\u001b[1;33m\u001b[0m\u001b[1;33m\u001b[0m\u001b[0m\n\u001b[0;32m     23\u001b[0m             \u001b[0minput_\u001b[0m\u001b[1;33m.\u001b[0m\u001b[0mclear\u001b[0m\u001b[1;33m(\u001b[0m\u001b[1;33m)\u001b[0m\u001b[1;33m\u001b[0m\u001b[1;33m\u001b[0m\u001b[0m\n",
      "\u001b[1;31mTypeError\u001b[0m: __init__() takes 2 positional arguments but 3 were given"
     ]
    }
   ],
   "source": [
    "if __name__ == \"__main__\":\n",
    "    browser = webdriver.Chrome()\n",
    "    wait = WebDriverWait(browser, 10)\n",
    "    KEYWORD = 'iPad'\n",
    "    main()"
   ]
  },
  {
   "cell_type": "code",
   "execution_count": null,
   "metadata": {},
   "outputs": [],
   "source": []
  }
 ],
 "metadata": {
  "kernelspec": {
   "display_name": "Python 3",
   "language": "python",
   "name": "python3"
  },
  "language_info": {
   "codemirror_mode": {
    "name": "ipython",
    "version": 3
   },
   "file_extension": ".py",
   "mimetype": "text/x-python",
   "name": "python",
   "nbconvert_exporter": "python",
   "pygments_lexer": "ipython3",
   "version": "3.7.3"
  },
  "toc": {
   "base_numbering": 1,
   "nav_menu": {},
   "number_sections": true,
   "sideBar": true,
   "skip_h1_title": false,
   "title_cell": "Table of Contents",
   "title_sidebar": "Contents",
   "toc_cell": false,
   "toc_position": {},
   "toc_section_display": true,
   "toc_window_display": false
  },
  "varInspector": {
   "cols": {
    "lenName": 16,
    "lenType": 16,
    "lenVar": 40
   },
   "kernels_config": {
    "python": {
     "delete_cmd_postfix": "",
     "delete_cmd_prefix": "del ",
     "library": "var_list.py",
     "varRefreshCmd": "print(var_dic_list())"
    },
    "r": {
     "delete_cmd_postfix": ") ",
     "delete_cmd_prefix": "rm(",
     "library": "var_list.r",
     "varRefreshCmd": "cat(var_dic_list()) "
    }
   },
   "types_to_exclude": [
    "module",
    "function",
    "builtin_function_or_method",
    "instance",
    "_Feature"
   ],
   "window_display": false
  }
 },
 "nbformat": 4,
 "nbformat_minor": 2
}
