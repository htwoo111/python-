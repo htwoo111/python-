{
 "cells": [
  {
   "cell_type": "code",
   "execution_count": 144,
   "metadata": {
    "ExecuteTime": {
     "end_time": "2019-09-25T13:19:05.455197Z",
     "start_time": "2019-09-25T13:19:05.447839Z"
    }
   },
   "outputs": [],
   "source": [
    "import time\n",
    "from selenium import webdriver\n",
    "from selenium.webdriver.common.by import By\n",
    "from selenium.webdriver.common.keys import Keys\n",
    "from selenium.webdriver.support.wait import WebDriverWait\n",
    "from selenium.webdriver.support import expected_conditions as EC\n",
    "from selenium.common.exceptions import TimeoutException\n",
    "\n",
    "\n",
    "from urllib.parse import quote\n",
    "from pyquery import PyQuery as pq\n",
    "from pymongo import MongoClient"
   ]
  },
  {
   "cell_type": "code",
   "execution_count": 121,
   "metadata": {
    "ExecuteTime": {
     "end_time": "2019-09-25T13:08:07.189693Z",
     "start_time": "2019-09-25T13:08:03.584198Z"
    }
   },
   "outputs": [],
   "source": [
    "browser = webdriver.Chrome()\n",
    "browser.get('https://www.baidu.com')"
   ]
  },
  {
   "cell_type": "code",
   "execution_count": 122,
   "metadata": {
    "ExecuteTime": {
     "end_time": "2019-09-25T13:08:10.387163Z",
     "start_time": "2019-09-25T13:08:07.509550Z"
    }
   },
   "outputs": [],
   "source": [
    "wait = WebDriverWait(browser, 10)\n",
    "browser.get('https://www.jd.com/')"
   ]
  },
  {
   "cell_type": "code",
   "execution_count": 83,
   "metadata": {
    "ExecuteTime": {
     "end_time": "2019-09-25T12:35:26.621338Z",
     "start_time": "2019-09-25T12:35:08.838062Z"
    }
   },
   "outputs": [
    {
     "name": "stdout",
     "output_type": "stream",
     "text": [
      "正在获取第1页\n",
      "发送成功 1\n",
      "正在获取第2页\n",
      "发送成功 2\n",
      "正在获取第3页\n",
      "发送成功 3\n"
     ]
    }
   ],
   "source": [
    "def get_page_source():\n",
    "    try:\n",
    "        # 让滚动条滚到最下面获取所有的li\n",
    "        browser.execute_script('window.scrollTo(0, document.body.scrollHeight)')\n",
    "        time.sleep(1)\n",
    "        # 等待所有的li加载完成\n",
    "        wait.until(\n",
    "            EC.presence_of_all_elements_located((By.CSS_SELECTOR, '#J_goodsList ul'))\n",
    "        )\n",
    "        return browser.page_source\n",
    "    \n",
    "    except TimeoutException as e:\n",
    "        print('Time out')\n",
    "        get_page_source(page)\n",
    "    except Exception as e:\n",
    "        print(\"Error is {}\".format(e))\n",
    "        \n",
    "def parse_url(page_source):\n",
    "    \"\"\"解析网页，返回相关商品信息\"\"\"\n",
    "    print('开始解析')\n",
    "    doc = pq(page_source)\n",
    "    items = doc('#J_goodsList ul li').items()\n",
    "    for item in items:\n",
    "        data = {}\n",
    "        data['title'] = item('.p-name a').attr('title')  # 获取商品描述\n",
    "        data['price'] = item('.p-price strong').text()\n",
    "        data['comment_count'] = item('.p-commit strong ').text()\n",
    "        data['shop'] = item('.p-shop .J_im_icon a').text()\n",
    "        yield data\n",
    "\n",
    "def save_to_mongo(data):\n",
    "    for product_data in data:\n",
    "        try:\n",
    "            collection.insert_one(product_data)\n",
    "        except Exception as e:\n",
    "            print('error is {}'.format(e))\n",
    "    print('保存成功')\n",
    "\n",
    "def main(page):\n",
    "    print('正在获取第{}页'.format(page))\n",
    "    # 1.执行js，让滚动条滚到最下面，获取所有的li后，返回网页源代码\n",
    "    page_source = get_page_source()\n",
    "    # 2.对网页源代码进行解析\n",
    "    data = parse_url(page_source)\n",
    "    # 3.保存到数据库\n",
    "    save_to_mongo(data)\n",
    "    # 4.翻页，继续1，2，3\n",
    "    page_input = browser.find_element_by_css_selector('#J_bottomPage .input-txt')\n",
    "    submit_button = browser.find_element_by_css_selector('#J_bottomPage .btn')\n",
    "    page_input.clear()\n",
    "    page_input.send_keys(page)\n",
    "    print('发送成功 {}'.format(page))\n",
    "    submit_button.click()\n",
    "\n",
    "if __name__ == \"__main__\":\n",
    "    \n",
    "    browser.get('https://www.jd.com')\n",
    "    keyword = \"手机\"\n",
    "    input_ = browser.find_element_by_css_selector('#key')\n",
    "    input_.send_keys(keyword)\n",
    "    input_.send_keys(Keys.ENTER)\n",
    "    time.sleep(1)\n",
    "    for page in range(1,4):\n",
    "        main(page)"
   ]
  },
  {
   "cell_type": "code",
   "execution_count": 143,
   "metadata": {
    "ExecuteTime": {
     "end_time": "2019-09-25T13:16:38.955860Z",
     "start_time": "2019-09-25T13:16:38.671715Z"
    }
   },
   "outputs": [
    {
     "name": "stdout",
     "output_type": "stream",
     "text": [
      "{'title': '【前10000名评价晒单送华为大礼包】麒麟990，40W快充，双4000W徕卡四摄，超曲面环幕屏；P30系列12期免息》', 'price': '￥9999.00', 'comment_count': '0条评价', 'shop': '华为京东自营官方旗舰店'}\n",
      "{'title': '限时优惠2499！白条6期免息！麒麟980，4800万超广角AI四摄！荣耀V20系列2099起，详情点击》》》', 'price': '￥2499.00', 'comment_count': '31万+条评价', 'shop': '荣耀京东自营旗舰店'}\n",
      "{'title': '麒麟810，4800万超清双摄，升降式全面屏！荣耀爆品特惠，选品质，购荣耀~', 'price': '￥1399.00', 'comment_count': '40万+条评价', 'shop': '荣耀京东自营旗舰店'}\n",
      "{'title': '限时优惠999！2000万AI双摄，人脸+指纹双识别！荣耀9X系列1399起，麒麟810，4800万超清双摄！', 'price': '￥999.00', 'comment_count': '200万+条评价', 'shop': '荣耀京东自营旗舰店'}\n",
      "{'title': 'iPhone11系列新品火热开售！全新升级超广角摄像头，A13仿生芯片，更有以旧换新大额补贴！查看更多新品！', 'price': '￥5099.00', 'comment_count': '193万+条评价', 'shop': 'Apple产品京东自营旗舰店'}\n",
      "{'title': '此商品将于2019-09-27,00点结束闪购特卖，荣耀手机专场', 'price': '￥999.00', 'comment_count': '101万+条评价', 'shop': '荣耀京东自营旗舰店'}\n",
      "{'title': '【下单立减100元低至1699元】骁龙710，升降全面屏，VOOC3.0。Reno2新品上市，购机享12期免息', 'price': '￥1799.00', 'comment_count': '27万+条评价', 'shop': 'OPPO京东自营官方旗舰店'}\n",
      "{'title': '【新品开售！专享白条12期免息+赠半年碎屏宝！以旧换新至高返800元E卡】5G全网通，无界瀑布屏，骁龙855Plus！店长推荐，戳我！', 'price': '￥5698.00', 'comment_count': '1300+条评价', 'shop': 'vivo京东自营官方旗舰店'}\n",
      "{'title': '此商品将于2019-09-27,00点结束闪购特卖，荣耀手机专场', 'price': '￥2899.00', 'comment_count': '10万+条评价', 'shop': '荣耀京东自营旗舰店'}\n",
      "{'title': '【iPhone新品火热开售！】选换修无忧版享官方只换不修服务，选年付版再送爱奇艺会员！查看更多新品！', 'price': '￥5999.00', 'comment_count': '7.3万+条评价', 'shop': 'Apple产品京东自营旗舰店'}\n",
      "{'title': '【iPhone新品火热开售！】选换修无忧版享官方只换不修服务，选年付版再送爱奇艺会员！查看更多新品！', 'price': '￥10899.00', 'comment_count': '2万+条评价', 'shop': 'Apple产品京东自营旗舰店'}\n",
      "{'title': '【5G旗舰新品！9.26-9.28享白条12期免息+赠44W超快闪充充电头+半年碎屏宝！学生加赠半年延保】店长推荐，戳我！', 'price': '￥4098.00', 'comment_count': '2.4万+条评价', 'shop': 'vivo京东自营官方旗舰店'}\n",
      "{'title': '6.1英寸水滴屏，极光渐变，微Q多开超强分身，大存储大电池', 'price': '￥599.00', 'comment_count': '1700+条评价', 'shop': '广中达官方旗舰店'}\n",
      "{'title': '此商品将于2019-09-27,00点结束闪购特卖，荣耀手机专场', 'price': '￥2099.00', 'comment_count': '56万+条评价', 'shop': '荣耀京东自营旗舰店'}\n",
      "{'title': '【限时白条12期免息！下单送30元京豆！送大额礼品卡】一站式以旧换新至高享500元补贴；mate20pro优惠400，购机赠礼品卡》', 'price': '￥4988.00', 'comment_count': '46万+条评价', 'shop': '华为京东自营官方旗舰店'}\n",
      "{'title': '此商品将于2019-09-27,00点结束闪购特卖，荣耀手机专场', 'price': '￥1299.00', 'comment_count': '43万+条评价', 'shop': '荣耀京东自营旗舰店'}\n",
      "{'title': '【以旧换新满1000再返300，限时赠送京东手机尊享30天深度体验服务】杜比全景声，UFS3.0，4800万超清双摄猛戳更多精彩！', 'price': '￥2799.00', 'comment_count': '15万+条评价', 'shop': '一加手机京东自营官方旗舰店'}\n",
      "{'title': '【限时白条12期免息！下单送30元京豆！送大额礼品卡】一站式以旧换新至高享500元补贴；P20优惠600，到手价2599起》', 'price': '￥3988.00', 'comment_count': '47万+条评价', 'shop': '华为京东自营官方旗舰店'}\n",
      "{'title': '【9.26-9.28下单立减100，到手价1498！享白条3期免息，学生加赠半年延保】5000mAh大电池！Z5至高优惠100，速抢！', 'price': '￥1598.00', 'comment_count': '23万+条评价', 'shop': 'vivo京东自营官方旗舰店'}\n",
      "{'title': '荣耀新品荣耀Play3|荣耀潮时尚大使李现荣耀爆品特惠，选品质，购荣耀~', 'price': '￥999.00', 'comment_count': '1.2万+条评价', 'shop': '荣耀京东自营旗舰店'}\n",
      "{'title': '【品质特惠】限时直降100，到手价1099.骁龙660处理器,品质小金刚,18个月长质保,4000mAh大电量口!【小金刚新品开售，点击抢购】', 'price': '￥1099.00', 'comment_count': '99万+条评价', 'shop': '小米京东自营旗舰店'}\n",
      "{'title': '麒麟810，3200万人像超级夜景，4800万超广角AI三摄！荣耀爆品特惠，选品质，购荣耀~', 'price': '￥1899.00', 'comment_count': '2.3万+条评价', 'shop': '荣耀京东自营旗舰店'}\n",
      "{'title': '【新品开抢】小金刚品质保证，6400万超广角四摄，3D四曲面玻璃机身！【小金刚新品开售，点击抢购】', 'price': '￥1399.00', 'comment_count': '9.7万+条评价', 'shop': '小米京东自营旗舰店'}\n",
      "{'title': '2400万超广角AI三摄,AI智慧防抖,GPUTurbo2.0；畅享10P悬浮式摄像头，送碎屏险》', 'price': '￥1299.00', 'comment_count': '27万+条评价', 'shop': '华为京东自营官方旗舰店'}\n",
      "{'title': '【新品上市】购机享12期免息+一年碎屏保！4800万变焦四摄，视频防抖。更多优惠', 'price': '￥2999.00', 'comment_count': '7300+条评价', 'shop': 'OPPO京东自营官方旗舰店'}\n",
      "{'title': '此商品将于2019-09-27,00点结束闪购特卖，荣耀手机专场', 'price': '￥1099.00', 'comment_count': '71万+条评价', 'shop': '荣耀京东自营旗舰店'}\n",
      "{'title': '7.12英寸大屏，杜比全景声，5000mA超长续航！华为新品季，新品不断，优惠升级，详情猛戳》', 'price': '￥1199.00', 'comment_count': '9.6万+条评价', 'shop': '华为京东自营官方旗舰店'}\n",
      "{'title': 'iPhone11系列新品火热开售！全新升级超广角摄像头，A13仿生芯片，更有以旧换新大额补贴！查看更多新品！', 'price': '￥2949.00', 'comment_count': '103万+条评价', 'shop': 'Apple产品京东自营旗舰店'}\n",
      "{'title': '限时优惠1199！新一代7.12英寸珍珠屏，霸屏实力！荣耀爆品特惠，选品质，购荣耀~', 'price': '￥1199.00', 'comment_count': '31万+条评价', 'shop': '荣耀京东自营旗舰店'}\n",
      "{'title': '【9.26-9.28限时直降200+领券再减200，到手价2098！享白条6期免息，学生加赠半年延保】高通骁龙855！iQOOPro旗舰新品，速抢！', 'price': '￥2498.00', 'comment_count': '31万+条评价', 'shop': 'vivo京东自营官方旗舰店'}\n",
      "{'title': '【赢国庆，限价促销1070元】晒单加赠三合一数据线，再享3期免息！5000mAh超长续航，6.2英寸超视野全面屏，双域隔离，更多活动', 'price': '￥1070.00', 'comment_count': '1300+条评价', 'shop': '联想京东自营官方旗舰店'}\n",
      "{'title': '【9.26-9.28限时直降100+领券再减100，到手价1798！享白条6期免息，学生加赠半年延保】高通骁龙845！Z5至高优惠100，速抢！', 'price': '￥1898.00', 'comment_count': '10万+条评价', 'shop': 'vivo京东自营官方旗舰店'}\n",
      "{'title': '【领100元券，白条3期免息，以旧换新满1000再返300】限时赠送京东手机尊享30天深度体验服务！星雾蓝8+256G猛戳更多精彩！', 'price': '￥4249.00', 'comment_count': '28万+条评价', 'shop': '一加手机京东自营官方旗舰店'}\n",
      "{'title': '华为 HUAWEI 畅享8e 青春版 2GB+32GB全面屏 金色 全网通版 移动联通电信4G手机 双卡双待', 'price': '￥549.00', 'comment_count': '27万+条评价', 'shop': '华为京东自营官方旗舰店'}\n",
      "{'title': '抢购价998元,骁龙712AIE,索尼4800万超广角四摄,20W闪充！推荐6+64版！', 'price': '￥998.00', 'comment_count': '2.9万+条评价', 'shop': 'realme京东自营官方旗舰店'}\n",
      "{'title': '【免押租机+下单送3000京豆】麒麟980，4800万AI四摄，光学屏内指纹；手机租着用，年年尝新机！', 'price': '￥2899.00', 'comment_count': '20万+条评价', 'shop': '华为京东自营官方旗舰店'}\n",
      "{'title': '【现货速发】2.8英寸大屏，全网通4G，安卓8.1系统，智能触屏手写，2GB+16GB大内存，无游戏，微信扫码抢红包，抖音视频，报名字读短信，WIFI热点', 'price': '￥399.00', 'comment_count': '1500+条评价', 'shop': '金诚手机专营店'}\n",
      "{'title': '【限时优惠，成交价1799！白条6期免息！】骁龙845年度旗舰！AI超感光双摄！小米9骁龙855版本》', 'price': '￥1799.00', 'comment_count': '26万+条评价', 'shop': '小米京东自营旗舰店'}\n",
      "{'title': '【新品开抢】评价返京豆，6期白条免息！搭载高通骁龙855Plus处理器，27W满配充电体验，4800超广角三摄【小金刚新品开售，点击抢购】', 'price': '￥3199.00', 'comment_count': '3700+条评价', 'shop': '小米京东自营旗舰店'}\n",
      "{'title': '【品质好物】4000mAh大电量,骁龙8核处理器。【小金刚新品开售，点击抢购】', 'price': '￥599.00', 'comment_count': '9.1万+条评价', 'shop': '小米京东自营旗舰店'}\n",
      "{'title': '白条6期免息！麒麟810,4800万夜拍三摄，升降式全面屏！荣耀爆品特惠，选品质，购荣耀~', 'price': '￥2199.00', 'comment_count': '4万+条评价', 'shop': '荣耀京东自营旗舰店'}\n",
      "{'title': '【领券立减400元！】iPhone11系列新品火热开售，更有以旧换新大额补贴！查看更多新品！', 'price': '￥8999.00', 'comment_count': '85万+条评价', 'shop': 'Apple产品京东自营旗舰店'}\n",
      "{'title': '【3期免息+蓝牙音箱+30天无忧购险】4800万四摄，5000mAh大电池。Reno2新品上市，购机享12期免息', 'price': '￥1799.00', 'comment_count': '30+条评价', 'shop': 'OPPO京东自营官方旗舰店'}\n",
      "{'title': '【品质特惠】骁龙675处理器，4000mAh大电量，18个月长质保，标配18W充电器！【小金刚新品开售，点击抢购】', 'price': '￥1399.00', 'comment_count': '45万+条评价', 'shop': '小米京东自营旗舰店'}\n",
      "{'title': '【白条6期免息】晒单送50元京豆！DxO排名NO.1！京东尊享30天无忧试用！使用30天不满意可保值退机（低至13.4元/天试用5G机皇）', 'price': '￥7999.00', 'comment_count': '7000+条评价', 'shop': '三星手机京东自营官方旗舰店'}\n",
      "{'title': 'iPhone11系列新品火热开售！全新升级超广角摄像头，A13仿生芯片，更有以旧换新大额补贴！查看更多新品！', 'price': '￥3699.00', 'comment_count': '102万+条评价', 'shop': 'Apple产品京东自营旗舰店'}\n",
      "{'title': '【9.26-9.28领券立减100，到手价1498！专享白条6期免息，学生加赠半年延保】4800万超广角AI三摄！店长推荐，戳我！', 'price': '￥1598.00', 'comment_count': '5.9万+条评价', 'shop': 'vivo京东自营官方旗舰店'}\n",
      "{'title': '【iPhone新品火热开售！】选换修无忧版享官方只换不修服务，选年付版再送爱奇艺会员！查看更多新品！', 'price': '￥8699.00', 'comment_count': '1.4万+条评价', 'shop': 'Apple产品京东自营旗舰店'}\n",
      "{'title': '【稀缺产品，限量抢购】5G双模，支持SA/NSA网络，7.2英寸全景巨幕，石墨烯液冷散热。P30pro优惠500，赠大额礼品卡》', 'price': '￥6199.00', 'comment_count': '8900+条评价', 'shop': '华为京东自营官方旗舰店'}\n",
      "{'title': '【送碎屏险！现货抢购中】抽奖赢手机，前8000名晒单送耳机，128GB大内存；升降摄像头；P30pro新色上市》', 'price': '￥1499.00', 'comment_count': '2.3万+条评价', 'shop': '华为京东自营官方旗舰店'}\n",
      "{'title': 'iPhone11系列新品火热开售！全新升级超广角摄像头，A13仿生芯片，更有以旧换新大额补贴！查看更多新品！', 'price': '￥3499.00', 'comment_count': '146万+条评价', 'shop': 'Apple产品京东自营旗舰店'}\n",
      "{'title': '【三星闪购日】特惠200元！成交价1299元！屏幕发声技术，后置三摄！Note10+5G版震撼开售！购买即享白条6期》', 'price': '￥1299.00', 'comment_count': '5.5万+条评价', 'shop': '三星手机京东自营官方旗舰店'}\n",
      "{'title': '【评价返京豆】小金刚品质保证，骁龙665处理器，标配18W充电器！【小金刚新品开售，点击抢购】', 'price': '￥999.00', 'comment_count': '2.2万+条评价', 'shop': '小米京东自营旗舰店'}\n",
      "{'title': '【9.26-9.28限时直降50+领券立减100，到手价998！学生加赠半年延保】骁龙710AIE处理器！店长推荐，戳我！', 'price': '￥1148.00', 'comment_count': '62万+条评价', 'shop': 'vivo京东自营官方旗舰店'}\n",
      "{'title': '此商品将于2019-09-28,00点结束闪购特卖，联想手机专场', 'price': '￥796.00', 'comment_count': '17万+条评价', 'shop': '联想手机京东自营官方旗舰店'}\n",
      "{'title': '定制侧握操作优化，双肩键解放四指操作助力吃鸡，专属游戏版本匹配120Hz电竞屏，送专享皮肤、腾讯心悦会员5W成长值，更多', 'price': '￥3499.00', 'comment_count': '3.9万+条评价', 'shop': 'ROG京东自营官方旗舰店'}\n",
      "{'title': 'iPhone11系列新品火热开售！全新升级超广角摄像头，A13仿生芯片，更有以旧换新大额补贴！查看更多新品！', 'price': '￥4399.00', 'comment_count': '194万+条评价', 'shop': 'Apple产品京东自营旗舰店'}\n",
      "{'title': '【9.25-9.30抢购即享30天无忧试用，不爽就退！具体规则见服务说明;限时优惠100元,到手1599元;】骁龙710,升降全面屏;查看更多！', 'price': '￥1699.00', 'comment_count': '20万+条评价', 'shop': 'realme京东自营官方旗舰店'}\n",
      "{'title': '【品质特惠】18个月长质保，1200万AI双摄，康宁第五代大猩猩玻璃盖板！【小金刚新品开售，点击抢购】', 'price': '￥699.00', 'comment_count': '36万+条评价', 'shop': '小米京东自营旗舰店'}\n",
      "{'title': '【iPhone焕新季，超值特惠！】此产品支持移动联通4G网络。更多优惠点击！', 'price': '￥6299.00', 'comment_count': '26万+条评价', 'shop': 'Apple产品京东自营旗舰店'}\n"
     ]
    }
   ],
   "source": [
    "doc = pq(html_list[0])\n",
    "items = doc('#J_goodsList .gl-warp .gl-item').items()\n",
    "_ = []\n",
    "def _():\n",
    "    for item in items:\n",
    "        data = {}\n",
    "        data['title'] = item('.p-name a').attr('title')  # 获取商品描述\n",
    "        data['price'] = item('.p-price strong').text()\n",
    "        data['comment_count'] = item('.p-commit strong ').text()\n",
    "        data['shop'] = item('.p-shop .J_im_icon a').text()\n",
    "        yield data\n",
    "data = _()\n",
    "\n",
    "def get_data(data):\n",
    "    for product_data in data:\n",
    "        print(product_data)\n",
    "\n",
    "get_data(data)"
   ]
  },
  {
   "cell_type": "code",
   "execution_count": 157,
   "metadata": {
    "ExecuteTime": {
     "end_time": "2019-09-25T13:23:18.227180Z",
     "start_time": "2019-09-25T13:23:18.147821Z"
    }
   },
   "outputs": [
    {
     "name": "stdout",
     "output_type": "stream",
     "text": [
      "864\n"
     ]
    }
   ],
   "source": [
    "client = MongoClient(host='localhost', port=27017)\n",
    "collection = client['jd']['jd_product']\n",
    "# print(collection)\n",
    "\n",
    "collection = client['douban']['tv']\n",
    "print(collection.count_documents({}))"
   ]
  }
 ],
 "metadata": {
  "kernelspec": {
   "display_name": "Python 3",
   "language": "python",
   "name": "python3"
  },
  "language_info": {
   "codemirror_mode": {
    "name": "ipython",
    "version": 3
   },
   "file_extension": ".py",
   "mimetype": "text/x-python",
   "name": "python",
   "nbconvert_exporter": "python",
   "pygments_lexer": "ipython3",
   "version": "3.7.3"
  },
  "toc": {
   "base_numbering": 1,
   "nav_menu": {},
   "number_sections": true,
   "sideBar": true,
   "skip_h1_title": false,
   "title_cell": "Table of Contents",
   "title_sidebar": "Contents",
   "toc_cell": false,
   "toc_position": {},
   "toc_section_display": true,
   "toc_window_display": false
  },
  "varInspector": {
   "cols": {
    "lenName": 16,
    "lenType": 16,
    "lenVar": 40
   },
   "kernels_config": {
    "python": {
     "delete_cmd_postfix": "",
     "delete_cmd_prefix": "del ",
     "library": "var_list.py",
     "varRefreshCmd": "print(var_dic_list())"
    },
    "r": {
     "delete_cmd_postfix": ") ",
     "delete_cmd_prefix": "rm(",
     "library": "var_list.r",
     "varRefreshCmd": "cat(var_dic_list()) "
    }
   },
   "types_to_exclude": [
    "module",
    "function",
    "builtin_function_or_method",
    "instance",
    "_Feature"
   ],
   "window_display": false
  }
 },
 "nbformat": 4,
 "nbformat_minor": 2
}
