{
 "cells": [
  {
   "cell_type": "code",
   "execution_count": 2,
   "metadata": {},
   "outputs": [],
   "source": [
    "import re \n",
    "import requests\n",
    "\n",
    "\n",
    "class Maoyan(object):\n",
    "    def __init__(self):\n",
    "        self.url = \"https://maoyan.com/board/4?offset={}\"\n",
    "        self.headers = {\n",
    "            \"User-Agent\": \"Mozilla/5.0 (Windows NT 10.0; Win64; x64) AppleWebKit/537.36 (KHTML, like Gecko) Chrome/76.0.3809.132 Safari/537.36\",\n",
    "            \"Cookie\": \"__mta=44373403.1568707842875.1568707937069.1568707995099.9; _lxsdk_cuid=16d2d2561931-0a31202ebc6845-79475878-3c000-16d2d256194c8; uuid_n_v=v1; uuid=A5005A50D92211E9AFA53B88E9213B3C5B1D8699CC9F4F899C7C340A5AFA8E88; _csrf=5519df7f94e06e9680b6943b869454f49d6321b2949bf4a570f45f49d1351e4c; _lx_utm=utm_source%3DBaidu%26utm_medium%3Dorganic; _lxsdk=A5005A50D92211E9AFA53B88E9213B3C5B1D8699CC9F4F899C7C340A5AFA8E88; __mta=44373403.1568707842875.1568707844633.1568707867388.3; _lxsdk_s=16d3e4612f3-d9a-f82-3b2%7C%7C26\"\n",
    "        }\n",
    "        \n",
    "    def parse_url(self, url):\n",
    "        r = requests.get(url, headers=self.headers)\n",
    "        if r.status_code == 200:\n",
    "            return r.text\n",
    "        return None\n",
    "    \n",
    "    def run(self):\n",
    "        \"\"\"实现主程序\"\"\"\n",
    "        # 1.设置url 连接页码，并获取url\n",
    "        current_page = 0\n",
    "        url = self.url.format(current_page)\n",
    "        # 2.发送请求，获取数据\n",
    "        response_text = self.parse_url(url)\n",
    "        # 3。提取数据\n",
    "        # 4.返回提取的数据\n",
    "        pass\n",
    "    \n",
    "    "
   ]
  },
  {
   "cell_type": "code",
   "execution_count": null,
   "metadata": {},
   "outputs": [],
   "source": [
    "if __name__ == \"__main__\":\n",
    "    maoyan = Maoyan()\n",
    "    Maoyan.run()"
   ]
  }
 ],
 "metadata": {
  "kernelspec": {
   "display_name": "Python 3",
   "language": "python",
   "name": "python3"
  },
  "language_info": {
   "codemirror_mode": {
    "name": "ipython",
    "version": 3
   },
   "file_extension": ".py",
   "mimetype": "text/x-python",
   "name": "python",
   "nbconvert_exporter": "python",
   "pygments_lexer": "ipython3",
   "version": "3.7.3"
  }
 },
 "nbformat": 4,
 "nbformat_minor": 2
}
