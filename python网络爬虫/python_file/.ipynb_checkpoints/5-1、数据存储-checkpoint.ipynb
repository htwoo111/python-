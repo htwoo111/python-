{
 "cells": [
  {
   "cell_type": "markdown",
   "metadata": {},
   "source": [
    "### 5.1.1 TXT文本存储"
   ]
  },
  {
   "cell_type": "markdown",
   "metadata": {},
   "source": [
    "#### 2.基本示例\n",
    "\n",
    "抓取知乎热门收藏\n"
   ]
  },
  {
   "cell_type": "code",
   "execution_count": 3,
   "metadata": {},
   "outputs": [],
   "source": [
    "# 抓取知乎热门收藏并以TXT格式保存\n",
    "\n",
    "import requests\n",
    "from pyquery import PyQuery as pq\n",
    "\n",
    "url = \"https://www.zhihu.com/collection/hot\"\n",
    "headers = {\n",
    "    \"cookie\": \"\"\"_zap=c0464625-ac9a-4b08-8b6b-e5f802185f43; d_c0=\"AHDt7L3Olg-PTnzsYbSesUVOolucGZoAcsM=|1560598563\"; _xsrf=p8Xc5w6LUdLks0HZsXUufaMUWAj0xeYG; capsion_ticket=\"2|1:0|10:1568702820|14:capsion_ticket|44:YjZmMGQxMWI5NzgwNDViNmE2NDNiODZiNzg0ZTY5OGY=|d66c779994923dd75ab236fe4276e0a65a38129e66ceb10e0052df53f806bdf9\"; z_c0=\"2|1:0|10:1568702862|4:z_c0|92:Mi4xRVhqRENnQUFBQUFBY08zc3ZjNldEeVlBQUFCZ0FsVk5qczl0WGdBTDd6YXlHcDNVbDhGekg0NHZITF9EVjJfMHJ3|c1d85d273b13da3dc16500a18612fb01532e59a26a43738285aa430c26e7e1ed\"; tst=r; q_c1=df81c22228e94889b604bcfac80baf0e|1568895989000|1568895989000; tgw_l7_route=1834ebf1acd448097141c3bb455d5563\"\"\",\n",
    "    \"user-agent\": \"Mozilla/5.0 (Windows NT 10.0; Win64; x64) AppleWebKit/537.36 (KHTML, like Gecko) Chrome/77.0.3865.90 Safari/537.36\"\n",
    "}\n",
    "\n",
    "html = requests.get(url, headers=headers).text"
   ]
  },
  {
   "cell_type": "code",
   "execution_count": 25,
   "metadata": {},
   "outputs": [],
   "source": [
    "doc = pq(html)\n",
    "items = doc(\".CollectionListCard.CollectionHotListPage-collectionCard\").items()\n",
    "for item in items:\n",
    "    card_title = item(\".CollectionListCard-title\").text()\n",
    "    author = item('.CollectionListCard-creatorName').text()\n",
    "    content_title = item(\".CollectionListCard-contentTitle\").text()\n",
    "    content = item('.CollectionListCard-contentExcerpt').text()\n",
    "#     print(content)\n",
    "    file = open('../crawl_file/5-1、explore.txt', 'a+', encoding='utf-8')\n",
    "    file.write('\\n'.join([card_title, author, content_title, content]))\n",
    "    file.write('\\n' + '='*50 + '\\n')\n",
    "    file.close()"
   ]
  },
  {
   "cell_type": "code",
   "execution_count": 26,
   "metadata": {},
   "outputs": [],
   "source": [
    "# 简化书写\n",
    "for item in items:\n",
    "    card_title = item(\".CollectionListCard-title\").text()\n",
    "    author = item('.CollectionListCard-creatorName').text()\n",
    "    content_title = item(\".CollectionListCard-contentTitle\").text()\n",
    "    content = item('.CollectionListCard-contentExcerpt').text()\n",
    "    with open('../crawl_file/5-1、explore.txt', 'a+', encoding='utf-8') as f:\n",
    "        f.write('\\n'.join([card_title, author, content_title, content]))\n",
    "        f.write('\\n' + '='*50 + '\\n')"
   ]
  },
  {
   "cell_type": "markdown",
   "metadata": {},
   "source": [
    "### 5.1.2 JSON文件存储\n"
   ]
  },
  {
   "cell_type": "markdown",
   "metadata": {},
   "source": [
    "#### 2. 读取json（json的数据都必须用双引号括起来，否则loads()会出错）"
   ]
  },
  {
   "cell_type": "code",
   "execution_count": 13,
   "metadata": {},
   "outputs": [
    {
     "name": "stdout",
     "output_type": "stream",
     "text": [
      "<class 'str'>\n",
      "[{'name': 'Bob', 'gender': 'male', 'birthday': '1992-02-01'}, {'name': 'lihua', 'gender': 'femal', 'birthday': '1993-9-03'}]\n",
      "<class 'list'>\n"
     ]
    }
   ],
   "source": [
    "import json \n",
    "string = '''\n",
    "[{\n",
    "\"name\":\"Bob\",\n",
    "\"gender\":\"male\",\n",
    "\"birthday\":\"1992-02-01\"\n",
    "},{\n",
    "\"name\":\"lihua\",\n",
    "\"gender\":\"femal\",\n",
    "\"birthday\":\"1993-9-03\"\n",
    "}]\n",
    "'''\n",
    "\n",
    "print(type(string))\n",
    "\n",
    "# 将JSON类型字符串转换成python类型\n",
    "data = json.loads(string)\n",
    "print(data)\n",
    "print(type(data))"
   ]
  },
  {
   "cell_type": "code",
   "execution_count": 14,
   "metadata": {},
   "outputs": [
    {
     "name": "stdout",
     "output_type": "stream",
     "text": [
      "Bob\n",
      "Bob\n",
      "25\n"
     ]
    }
   ],
   "source": [
    "# 获取内容\n",
    "print(data[0]['name'])\n",
    "print(data[0].get('name'))  # 两种方法都一样，推荐使用这一种\n",
    "\n",
    "# 设置默认值\n",
    "print(data[0].get('age', 25))  # dict.get('value', default) 如果里面没有想取的键，则返回默认值"
   ]
  },
  {
   "cell_type": "markdown",
   "metadata": {},
   "source": [
    "#### 3.输出JSON\n",
    "dumps()"
   ]
  },
  {
   "cell_type": "code",
   "execution_count": 19,
   "metadata": {},
   "outputs": [
    {
     "name": "stdout",
     "output_type": "stream",
     "text": [
      "[{\"name\": \"Bob\", \"gender\": \"male\", \"birthday\": \"1992-02-01\"}, {\"name\": \"\\u674e\\u534e\", \"gender\": \"femal\", \"birthday\": \"1993-9-03\"}]\n"
     ]
    }
   ],
   "source": [
    "data = [\n",
    "        {'name': 'Bob',\n",
    "         'gender': 'male',\n",
    "         'birthday': '1992-02-01'},\n",
    "        {'name': '李华',\n",
    "        'gender': 'femal',\n",
    "        'birthday': '1993-9-03'}\n",
    "]\n",
    "\n",
    "# 用json.dumps(data) 可以把python类型转换成json类型字符串\n",
    "print(json.dumps(data))\n",
    "with open('../crawl_file/5-1、数据存储_json.json', 'w', encoding='utf-8') as file:\n",
    "    file.write(json.dumps(data, ensure_ascii=False, indent=2))  # ensure_ascii=False 确保中文不是乱码，indent增加缩进"
   ]
  },
  {
   "cell_type": "markdown",
   "metadata": {},
   "source": [
    "### 5.1.3 CSV存储"
   ]
  },
  {
   "cell_type": "markdown",
   "metadata": {},
   "source": [
    "#### 1. 写入"
   ]
  },
  {
   "cell_type": "code",
   "execution_count": 24,
   "metadata": {},
   "outputs": [
    {
     "name": "stdout",
     "output_type": "stream",
     "text": [
      "<class '_csv.writer'>\n"
     ]
    }
   ],
   "source": [
    "import csv\n",
    "with open('../crawl_file/5-1、数据存储_csv.csv', 'a', encoding='utf-8') as csvfile:\n",
    "    writer = csv.writer(csvfile)  # 初始化对象\n",
    "#     print(type(writer)) \n",
    "    writer.writerow(['id', 'name', 'age'])\n",
    "    writer.writerow(['10001', 'Mike', 18])\n",
    "    writer.writerow(['10002', '小明', 20])\n",
    "    writer.writerow(['10003', 'lihua', '18'])\n",
    "    "
   ]
  },
  {
   "cell_type": "code",
   "execution_count": 26,
   "metadata": {},
   "outputs": [],
   "source": [
    "with open('../crawl_file/5-1、数据存储_csv.csv', 'a', encoding='utf-8') as csvfile:\n",
    "    writer = csv.writer(csvfile, delimiter='。')  # delimiter 可以设置列于列之间的分隔符\n",
    "#     print(type(writer)) \n",
    "    writer.writerow(['id', 'name', 'age'])\n",
    "    writer.writerow(['10001', 'Mike', 18])\n",
    "    writer.writerow(['10002', '小明', 20])\n",
    "    writer.writerow(['10003', 'lihua', '18'])\n"
   ]
  },
  {
   "cell_type": "code",
   "execution_count": 28,
   "metadata": {},
   "outputs": [],
   "source": [
    "# 用writerows同时写入多行（列表形式）\n",
    "data = [['id', 'name', 'age'], ['10001', 'Mike', 18], ['10002', '小明', 20], ['10003', 'lihua', '18']]\n",
    "with open('../crawl_file/5-1、数据存储_csv.csv', 'a', encoding='utf-8') as csvfile:\n",
    "    writer = csv.writer(csvfile)\n",
    "    writer.writerows(data)"
   ]
  },
  {
   "cell_type": "code",
   "execution_count": 35,
   "metadata": {},
   "outputs": [],
   "source": [
    "# 用字典形式写入多行\n",
    "data = [{\"name\": \"Bob\", \"gender\": \"male\", \"birthday\": \"1992-02-01\"}, {\"name\": \"\\u674e\\u534e\", \"gender\": \"femal\", \"birthday\": \"1993-9-03\"}]\n",
    "\n",
    "with open('../crawl_file/5-1、数据存储_csv.csv', 'a', encoding='utf-8') as csvfile:\n",
    "    fieldnames = ['gender', 'name', 'birthday']  # 设置字段名\n",
    "    writer = csv.DictWriter(csvfile, fieldnames)\n",
    "    writer.writeheader()  # 先写入头部信息\n",
    "    writer.writerows(data)"
   ]
  },
  {
   "cell_type": "markdown",
   "metadata": {},
   "source": [
    "#### 2.读取"
   ]
  },
  {
   "cell_type": "code",
   "execution_count": 44,
   "metadata": {},
   "outputs": [
    {
     "name": "stdout",
     "output_type": "stream",
     "text": [
      "['gender', 'name', 'birthday']\n",
      "['male', 'Bob', '1992-02-01']\n",
      "['femal', '李华', '1993-9-03']\n",
      "['male', 'Bob', '1992-02-01']\n",
      "['femal', '李华', '1993-9-03']\n",
      "**************************************************\n",
      "  gender name    birthday\n",
      "0   male  Bob  1992-02-01\n",
      "1  femal   李华   1993-9-03\n",
      "2   male  Bob  1992-02-01\n",
      "3  femal   李华   1993-9-03\n"
     ]
    }
   ],
   "source": [
    "import csv\n",
    "\n",
    "with open('../crawl_file/5-1、数据存储_csv.csv', 'r', encoding='utf-8') as csvfile:\n",
    "    reader = csv.reader(csvfile)\n",
    "    for row in reader:\n",
    "        if len(row):\n",
    "            print(row)\n",
    "            \n",
    "print(50*'*')\n",
    "import pandas as pd\n",
    "df = pd.read_csv('../crawl_file/5-1、数据存储_csv.csv')\n",
    "print(df)"
   ]
  },
  {
   "cell_type": "code",
   "execution_count": null,
   "metadata": {},
   "outputs": [],
   "source": []
  }
 ],
 "metadata": {
  "kernelspec": {
   "display_name": "Python 3",
   "language": "python",
   "name": "python3"
  },
  "language_info": {
   "codemirror_mode": {
    "name": "ipython",
    "version": 3
   },
   "file_extension": ".py",
   "mimetype": "text/x-python",
   "name": "python",
   "nbconvert_exporter": "python",
   "pygments_lexer": "ipython3",
   "version": "3.7.3"
  }
 },
 "nbformat": 4,
 "nbformat_minor": 2
}
