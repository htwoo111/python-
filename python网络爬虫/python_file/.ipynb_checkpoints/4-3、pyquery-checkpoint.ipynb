{
 "cells": [
  {
   "cell_type": "markdown",
   "metadata": {},
   "source": [
    "### 4.3.2初始化  \n"
   ]
  },
  {
   "cell_type": "markdown",
   "metadata": {},
   "source": [
    "#### 字符串初始化"
   ]
  },
  {
   "cell_type": "code",
   "execution_count": 2,
   "metadata": {},
   "outputs": [
    {
     "name": "stdout",
     "output_type": "stream",
     "text": [
      "<div>\n",
      "   <ul>\n",
      "       <li class=\"item-0\">first item</li>\n",
      "       <li class=\"item-1\"><a href=\"link2.html\">second item</a>&lt;&gt;/li\n",
      "       </li><li class=\"item-0 active\"><a href=\"link3.html\"><span class=\"boid\">third item</span></a></li>\n",
      "       <li class=\"item-1 active\"><a href=\"link4.html\">fourth item</a></li>\n",
      "       <li class=\"item-0\"><a href=\"link5.html\">fifth item</a></li>\n",
      "   </ul>\n",
      "</div>\n",
      "\n"
     ]
    }
   ],
   "source": [
    "html = '''\n",
    "<div>\n",
    "   <ul>\n",
    "       <li class=\"item-0\">first item</li>\n",
    "       <li class=\"item-1\"><a href=\"link2.html\">second item</a><>/li\n",
    "       <li class=\"item-0 active\"><a href=\"link3.html\"><span class=\"boid\">third item</span></a></li>\n",
    "       <li class=\"item-1 active\"><a href=\"link4.html\">fourth item</a></li>\n",
    "       <li class=\"item-0\"><a href=\"link5.html\">fifth item</a></li>\n",
    "   </ul>\n",
    "</div>\n",
    "'''\n",
    "from pyquery import PyQuery as pq\n",
    "doc = pq(html)\n",
    "print(doc)"
   ]
  },
  {
   "cell_type": "markdown",
   "metadata": {},
   "source": [
    "#### URL初始化"
   ]
  },
  {
   "cell_type": "code",
   "execution_count": 6,
   "metadata": {},
   "outputs": [
    {
     "name": "stdout",
     "output_type": "stream",
     "text": [
      "<html> <head><meta http-equiv=\"content-type\" content=\"text/html;charset=utf-8\"/><meta http-equiv=\"X-UA-Compatible\" content=\"IE=Edge\"/><meta content=\"always\" name=\"referrer\"/><link rel=\"stylesheet\" type=\"text/css\" href=\"https://ss1.bdstatic.com/5eN1bjq8AAUYm2zgoY3K/r/www/cache/bdorz/baidu.min.css\"/><title>ç¾åº¦ä¸ä¸ï¼ä½ å°±ç¥é</title></head> <body link=\"#0000cc\"> <div id=\"wrapper\"> <div id=\"head\"> <div class=\"head_wrapper\"> <div class=\"s_form\"> <div class=\"s_form_wrapper\"> <div id=\"lg\"> <img hidefocus=\"true\" src=\"//www.baidu.com/img/bd_logo1.png\" width=\"270\" height=\"129\"/> </div> <form id=\"form\" name=\"f\" action=\"//www.baidu.com/s\" class=\"fm\"> <input type=\"hidden\" name=\"bdorz_come\" value=\"1\"/> <input type=\"hidden\" name=\"ie\" value=\"utf-8\"/> <input type=\"hidden\" name=\"f\" value=\"8\"/> <input type=\"hidden\" name=\"rsv_bp\" value=\"1\"/> <input type=\"hidden\" name=\"rsv_idx\" value=\"1\"/> <input type=\"hidden\" name=\"tn\" value=\"baidu\"/><span class=\"bg s_ipt_wr\"><input id=\"kw\" name=\"wd\" class=\"s_ipt\" value=\"\" maxlength=\"255\" autocomplete=\"off\" autofocus=\"autofocus\"/></span><span class=\"bg s_btn_wr\"><input type=\"submit\" id=\"su\" value=\"ç¾åº¦ä¸ä¸\" class=\"bg s_btn\" autofocus=\"\"/></span> </form> </div> </div> <div id=\"u1\"> <a href=\"http://news.baidu.com\" name=\"tj_trnews\" class=\"mnav\">æ°é»</a> <a href=\"https://www.hao123.com\" name=\"tj_trhao123\" class=\"mnav\">hao123</a> <a href=\"http://map.baidu.com\" name=\"tj_trmap\" class=\"mnav\">å°å¾</a> <a href=\"http://v.baidu.com\" name=\"tj_trvideo\" class=\"mnav\">è§é¢</a> <a href=\"http://tieba.baidu.com\" name=\"tj_trtieba\" class=\"mnav\">è´´å§</a> <noscript> <a href=\"http://www.baidu.com/bdorz/login.gif?login&amp;tpl=mn&amp;u=http%3A%2F%2Fwww.baidu.com%2f%3fbdorz_come%3d1\" name=\"tj_login\" class=\"lb\">ç»å½</a> </noscript> <script>document.write('&lt;a href=\"http://www.baidu.com/bdorz/login.gif?login&amp;tpl=mn&amp;u='+ encodeURIComponent(window.location.href+ (window.location.search === \"\" ? \"?\" : \"&amp;\")+ \"bdorz_come=1\")+ '\" name=\"tj_login\" class=\"lb\"&gt;ç»å½&lt;/a&gt;');&#13;\n",
      "                </script> <a href=\"//www.baidu.com/more/\" name=\"tj_briicon\" class=\"bri\" style=\"display: block;\">æ´å¤äº§å</a> </div> </div> </div> <div id=\"ftCon\"> <div id=\"ftConw\"> <p id=\"lh\"> <a href=\"http://home.baidu.com\">å",
      "³äºç¾åº¦</a> <a href=\"http://ir.baidu.com\">About Baidu</a> </p> <p id=\"cp\">©2017 Baidu <a href=\"http://www.baidu.com/duty/\">ä½¿ç¨ç¾åº¦åå¿",
      "è¯»</a>  <a href=\"http://jianyi.baidu.com/\" class=\"cp-feedback\">æè§åé¦</a> äº¬ICPè¯030173å·  <img src=\"//www.baidu.com/img/gs.gif\"/> </p> </div> </div> </div> </body> </html>\n",
      "<title>ç¾åº¦ä¸ä¸ï¼ä½ å°±ç¥é</title>\n"
     ]
    }
   ],
   "source": [
    "doc = pq(url='https://www.baidu.com')\n",
    "print(doc)\n",
    "print(doc('title'))\n",
    "\n",
    "# ----------- 相当于 ------------------\n",
    "# html = requests.get('https://www.baidu.com')\n",
    "# doc = pq(html)\n",
    "# print(doc)"
   ]
  },
  {
   "cell_type": "markdown",
   "metadata": {},
   "source": [
    "#### 文件初始化"
   ]
  },
  {
   "cell_type": "code",
   "execution_count": 14,
   "metadata": {},
   "outputs": [
    {
     "ename": "FileNotFoundError",
     "evalue": "[Errno 2] No such file or directory: 'xxx.html'",
     "output_type": "error",
     "traceback": [
      "\u001b[1;31m---------------------------------------------------------------------------\u001b[0m",
      "\u001b[1;31mFileNotFoundError\u001b[0m                         Traceback (most recent call last)",
      "\u001b[1;32m<ipython-input-14-ba6c44e0a0b1>\u001b[0m in \u001b[0;36m<module>\u001b[1;34m\u001b[0m\n\u001b[0;32m      1\u001b[0m \u001b[1;32mfrom\u001b[0m \u001b[0mpyquery\u001b[0m \u001b[1;32mimport\u001b[0m \u001b[0mPyQuery\u001b[0m \u001b[1;32mas\u001b[0m \u001b[0mpq\u001b[0m\u001b[1;33m\u001b[0m\u001b[1;33m\u001b[0m\u001b[0m\n\u001b[0;32m      2\u001b[0m \u001b[1;33m\u001b[0m\u001b[0m\n\u001b[1;32m----> 3\u001b[1;33m \u001b[0mdoc\u001b[0m \u001b[1;33m=\u001b[0m \u001b[0mpq\u001b[0m\u001b[1;33m(\u001b[0m\u001b[0mfilename\u001b[0m\u001b[1;33m=\u001b[0m\u001b[1;34m'xxx.html'\u001b[0m\u001b[1;33m)\u001b[0m\u001b[1;33m\u001b[0m\u001b[1;33m\u001b[0m\u001b[0m\n\u001b[0m",
      "\u001b[1;32mD:\\anaconda\\lib\\site-packages\\pyquery\\pyquery.py\u001b[0m in \u001b[0;36m__init__\u001b[1;34m(self, *args, **kwargs)\u001b[0m\n\u001b[0;32m    214\u001b[0m             \u001b[1;31m# specific case to get the dom\u001b[0m\u001b[1;33m\u001b[0m\u001b[1;33m\u001b[0m\u001b[1;33m\u001b[0m\u001b[0m\n\u001b[0;32m    215\u001b[0m             \u001b[1;32mif\u001b[0m \u001b[1;34m'filename'\u001b[0m \u001b[1;32min\u001b[0m \u001b[0mkwargs\u001b[0m\u001b[1;33m:\u001b[0m\u001b[1;33m\u001b[0m\u001b[1;33m\u001b[0m\u001b[0m\n\u001b[1;32m--> 216\u001b[1;33m                 \u001b[0mhtml\u001b[0m \u001b[1;33m=\u001b[0m \u001b[0mopen\u001b[0m\u001b[1;33m(\u001b[0m\u001b[0mkwargs\u001b[0m\u001b[1;33m[\u001b[0m\u001b[1;34m'filename'\u001b[0m\u001b[1;33m]\u001b[0m\u001b[1;33m)\u001b[0m\u001b[1;33m\u001b[0m\u001b[1;33m\u001b[0m\u001b[0m\n\u001b[0m\u001b[0;32m    217\u001b[0m             \u001b[1;32melif\u001b[0m \u001b[1;34m'url'\u001b[0m \u001b[1;32min\u001b[0m \u001b[0mkwargs\u001b[0m\u001b[1;33m:\u001b[0m\u001b[1;33m\u001b[0m\u001b[1;33m\u001b[0m\u001b[0m\n\u001b[0;32m    218\u001b[0m                 \u001b[0murl\u001b[0m \u001b[1;33m=\u001b[0m \u001b[0mkwargs\u001b[0m\u001b[1;33m.\u001b[0m\u001b[0mpop\u001b[0m\u001b[1;33m(\u001b[0m\u001b[1;34m'url'\u001b[0m\u001b[1;33m)\u001b[0m\u001b[1;33m\u001b[0m\u001b[1;33m\u001b[0m\u001b[0m\n",
      "\u001b[1;31mFileNotFoundError\u001b[0m: [Errno 2] No such file or directory: 'xxx.html'"
     ]
    }
   ],
   "source": [
    "from pyquery import PyQuery as pq\n",
    "\n",
    "doc = pq(filename='xxx.html')"
   ]
  },
  {
   "cell_type": "markdown",
   "metadata": {},
   "source": [
    "### 4.3.3基本css选择器"
   ]
  },
  {
   "cell_type": "code",
   "execution_count": 20,
   "metadata": {},
   "outputs": [
    {
     "name": "stdout",
     "output_type": "stream",
     "text": [
      "<li class=\"item-0\">first item</li>\n",
      "       <li class=\"item-1\"><a href=\"link2.html\">second item</a>&lt;&gt;/li\n",
      "       </li><li class=\"item-0 active\"><a href=\"link3.html\"><span class=\"boid\">third item</span></a></li>\n",
      "       <li class=\"item-1 active\"><a href=\"link4.html\">fourth item</a></li>\n",
      "       <li class=\"item-0\"><a href=\"link5.html\">fifth item</a></li>\n",
      "   \n"
     ]
    }
   ],
   "source": [
    "html = '''\n",
    "<div id=\"container\">\n",
    "   <ul class=\"list\">\n",
    "       <li class=\"item-0\">first item</li>\n",
    "       <li class=\"item-1\"><a href=\"link2.html\">second item</a><>/li\n",
    "       <li class=\"item-0 active\"><a href=\"link3.html\"><span class=\"boid\">third item</span></a></li>\n",
    "       <li class=\"item-1 active\"><a href=\"link4.html\">fourth item</a></li>\n",
    "       <li class=\"item-0\"><a href=\"link5.html\">fifth item</a></li>\n",
    "   </ul>\n",
    "</div>\n",
    "'''\n",
    "\n",
    "from pyquery import PyQuery as pq\n",
    "\n",
    "doc = pq(html)\n",
    "print(doc('#container .list li'))\n"
   ]
  },
  {
   "cell_type": "markdown",
   "metadata": {},
   "source": [
    "### 4.3.4查询节点"
   ]
  },
  {
   "cell_type": "markdown",
   "metadata": {},
   "source": [
    "#### 子节点"
   ]
  },
  {
   "cell_type": "code",
   "execution_count": 44,
   "metadata": {},
   "outputs": [
    {
     "name": "stdout",
     "output_type": "stream",
     "text": [
      "<class 'pyquery.pyquery.PyQuery'>\n",
      "<li class=\"item-0\">first item</li>\n",
      "       <li class=\"item-1\"><a href=\"link2.html\">second item</a>&lt;&gt;/li\n",
      "       </li><li class=\"item-0 active\"><a href=\"link3.html\"><span class=\"boid\">third item</span></a></li>\n",
      "       <li class=\"item-1 active\"><a href=\"link4.html\">fourth item</a></li>\n",
      "       <li class=\"item-0\"><a href=\"link5.html\">fifth item</a></li>\n",
      "   \n",
      "<class 'pyquery.pyquery.PyQuery'>\n"
     ]
    }
   ],
   "source": [
    "# PyQuery.find() 查找的是所有的子孙节点\n",
    "\n",
    "doc = pq(html)\n",
    "items = doc('.list')\n",
    "div = doc('div')\n",
    "# print(div.find('li'))\n",
    "print(type(items))\n",
    "lis = items.find('li')\n",
    "print(lis)\n",
    "print(type(lis))"
   ]
  },
  {
   "cell_type": "code",
   "execution_count": 58,
   "metadata": {},
   "outputs": [
    {
     "name": "stdout",
     "output_type": "stream",
     "text": [
      "<li class=\"item-0\">first item</li>\n",
      "       <li class=\"item-1\"><a href=\"link2.html\">second item</a>&lt;&gt;/li\n",
      "       </li><li class=\"item-0 active\"><a href=\"link3.html\"><span class=\"boid\">third item</span></a></li>\n",
      "       <li class=\"item-1 active\"><a href=\"link4.html\">fourth item</a></li>\n",
      "       <li class=\"item-0\"><a href=\"link5.html\">fifth item</a></li>\n",
      "   \n",
      "**************************************************\n",
      "<div id=\"container\">\n",
      "   <ul class=\"list\">\n",
      "       <li class=\"item-0\">first item</li>\n",
      "       <li class=\"item-1\"><a href=\"link2.html\">second item</a>&lt;&gt;/li\n",
      "       </li><li class=\"item-0 active\"><a href=\"link3.html\"><span class=\"boid\">third item</span></a></li>\n",
      "       <li class=\"item-1 active\"><a href=\"link4.html\">fourth item</a></li>\n",
      "       <li class=\"item-0\"><a href=\"link5.html\">fifth item</a></li>\n",
      "   </ul>\n",
      "</div>\n",
      "\n",
      "**************************************************\n",
      "<class 'pyquery.pyquery.PyQuery'>\n",
      "<html><body><div id=\"container\">\n",
      "   <ul class=\"list\">\n",
      "       <li class=\"item-0\">first item</li>\n",
      "       <li class=\"item-1\"><a href=\"link2.html\">second item</a>&lt;&gt;/li\n",
      "       </li><li class=\"item-0 active\"><a href=\"link3.html\"><span class=\"boid\">third item</span></a></li>\n",
      "       <li class=\"item-1 active\"><a href=\"link4.html\">fourth item</a></li>\n",
      "       <li class=\"item-0\"><a href=\"link5.html\">fifth item</a></li>\n",
      "   </ul>\n",
      "</div>\n",
      "</body></html><body><div id=\"container\">\n",
      "   <ul class=\"list\">\n",
      "       <li class=\"item-0\">first item</li>\n",
      "       <li class=\"item-1\"><a href=\"link2.html\">second item</a>&lt;&gt;/li\n",
      "       </li><li class=\"item-0 active\"><a href=\"link3.html\"><span class=\"boid\">third item</span></a></li>\n",
      "       <li class=\"item-1 active\"><a href=\"link4.html\">fourth item</a></li>\n",
      "       <li class=\"item-0\"><a href=\"link5.html\">fifth item</a></li>\n",
      "   </ul>\n",
      "</div>\n",
      "</body><div id=\"container\">\n",
      "   <ul class=\"list\">\n",
      "       <li class=\"item-0\">first item</li>\n",
      "       <li class=\"item-1\"><a href=\"link2.html\">second item</a>&lt;&gt;/li\n",
      "       </li><li class=\"item-0 active\"><a href=\"link3.html\"><span class=\"boid\">third item</span></a></li>\n",
      "       <li class=\"item-1 active\"><a href=\"link4.html\">fourth item</a></li>\n",
      "       <li class=\"item-0\"><a href=\"link5.html\">fifth item</a></li>\n",
      "   </ul>\n",
      "</div>\n",
      "\n",
      "**************************************************\n",
      "<div id=\"container\">\n",
      "   <ul class=\"list\">\n",
      "       <li class=\"item-0\">first item</li>\n",
      "       <li class=\"item-1\"><a href=\"link2.html\">second item</a>&lt;&gt;/li\n",
      "       </li><li class=\"item-0 active\"><a href=\"link3.html\"><span class=\"boid\">third item</span></a></li>\n",
      "       <li class=\"item-1 active\"><a href=\"link4.html\">fourth item</a></li>\n",
      "       <li class=\"item-0\"><a href=\"link5.html\">fifth item</a></li>\n",
      "   </ul>\n",
      "</div>\n",
      "\n"
     ]
    }
   ],
   "source": [
    "# 如果只想找字节的的话，可以用PyQuery.children()\n",
    "lis = items.children()\n",
    "print(lis)\n",
    "print('*'*50)\n",
    "# print(len(div.children('li'))) # 0 \n",
    "\n",
    "# 选择父节点\n",
    "items = doc('.list')\n",
    "container = items.parent()\n",
    "print(container)  # 父节点是选择到直接父节点\n",
    "print('*'*50)\n",
    "\n",
    "\n",
    "# 如果要找到所有父节点(祖先节点)，可以用parent()\n",
    "parents = items.parents()\n",
    "print(type(parents))\n",
    "print(parents) \n",
    "print('*'*50)\n",
    "\n",
    "\n",
    "# 如果要筛选某个祖先节点的话，可以再parents里面传入css选择器\n",
    "# print(parents('li'))\n",
    "print(items.parents('div'))"
   ]
  },
  {
   "cell_type": "markdown",
   "metadata": {},
   "source": [
    "#### 兄弟节点"
   ]
  },
  {
   "cell_type": "code",
   "execution_count": 65,
   "metadata": {},
   "outputs": [
    {
     "name": "stdout",
     "output_type": "stream",
     "text": [
      "<li class=\"item-0 active\"><a href=\"link3.html\"><span class=\"boid\">third item</span></a></li>\n",
      "       \n",
      "**************************************************\n",
      "<li class=\"item-1\"><a href=\"link2.html\">second item</a>&lt;&gt;/li\n",
      "       </li><li class=\"item-0\">first item</li>\n",
      "       <li class=\"item-1 active\"><a href=\"link4.html\">fourth item</a></li>\n",
      "       <li class=\"item-0\"><a href=\"link5.html\">fifth item</a></li>\n",
      "   \n"
     ]
    }
   ],
   "source": [
    "doc = pq(html)\n",
    "li = doc('.list .item-0.active')\n",
    "print(li)\n",
    "print('*'*50)\n",
    "print(li.siblings())\n"
   ]
  },
  {
   "cell_type": "markdown",
   "metadata": {},
   "source": [
    "### 4.3.5 遍历\n",
    "pyquery选择的结果可能是一个或多个节点，返回类型都是PyQuery类型"
   ]
  },
  {
   "cell_type": "code",
   "execution_count": 72,
   "metadata": {},
   "outputs": [
    {
     "name": "stdout",
     "output_type": "stream",
     "text": [
      "<li class=\"item-0 active\"><a href=\"link3.html\"><span class=\"boid\">third item</span></a></li>\n",
      "       \n",
      "<li class=\"item-0 active\"><a href=\"link3.html\"><span class=\"boid\">third item</span></a></li>\n",
      "       \n"
     ]
    }
   ],
   "source": [
    "# 对于单个节点来说，可以直接打印，或者转换成字符串\n",
    "li = doc('.item-0.active')\n",
    "print(li)\n",
    "print(str(li))"
   ]
  },
  {
   "cell_type": "code",
   "execution_count": 79,
   "metadata": {},
   "outputs": [
    {
     "name": "stdout",
     "output_type": "stream",
     "text": [
      "<li class=\"item-0\">first item</li>\n",
      "       \n",
      "<li class=\"item-1\"><a href=\"link2.html\">second item</a>&lt;&gt;/li\n",
      "       </li>\n",
      "<li class=\"item-0 active\"><a href=\"link3.html\"><span class=\"boid\">third item</span></a></li>\n",
      "       \n",
      "<li class=\"item-1 active\"><a href=\"link4.html\">fourth item</a></li>\n",
      "       \n",
      "<li class=\"item-0\"><a href=\"link5.html\">fifth item</a></li>\n",
      "   \n"
     ]
    }
   ],
   "source": [
    "# 对于多个节点，则需要使用遍历\n",
    "\n",
    "lis = doc('li').items()  # retuen a generator\n",
    "# print(list(lis))\n",
    "\n",
    "for li in lis:\n",
    "    print(str(li))"
   ]
  },
  {
   "cell_type": "markdown",
   "metadata": {},
   "source": [
    "### 4.3.6 获取信息"
   ]
  },
  {
   "cell_type": "markdown",
   "metadata": {},
   "source": [
    "#### 获取属性"
   ]
  },
  {
   "cell_type": "code",
   "execution_count": 87,
   "metadata": {},
   "outputs": [
    {
     "name": "stdout",
     "output_type": "stream",
     "text": [
      "<a href=\"link2.html\">second item</a><a href=\"link3.html\"><span class=\"boid\">third item</span></a><a href=\"link4.html\">fourth item</a><a href=\"link5.html\">fifth item</a>\n",
      "link2.html\n",
      "**************************************************\n",
      "link2.html\n",
      "link2.html\n",
      "link2.html\n",
      "link2.html\n"
     ]
    }
   ],
   "source": [
    "# 获取到某个PyQuert类型节点后， 可以用attr（）的方法来获取属性\n",
    "\n",
    "html = '''\n",
    "<div class=\"wrap\">\n",
    "   <div id=\"container\">\n",
    "       <ul class=\"list\">\n",
    "           <li class=\"item-0\">first item</li>\n",
    "           <li class=\"item-1\"><a href=\"link2.html\">second item</a></li>\n",
    "           <li class=\"item-0 active\"><a href=\"link3.html\"><span class=\"boid\">third item</span></a></li>\n",
    "           <li class=\"item-1 active\"><a href=\"link4.html\">fourth item</a></li>\n",
    "           <li class=\"item-0\"><a href=\"link5.html\">fifth item</a></li>\n",
    "       </ul>\n",
    "   </div>\n",
    "</div>\n",
    "'''\n",
    "\n",
    "from pyquery import PyQuery as pq\n",
    "doc = pq(html)\n",
    "\n",
    "a = doc('a')  # 选择class='item-0 active' 下的 a 标签\n",
    "print(a)\n",
    "# 只能获取到一个href\n",
    "print(a.attr('href'))  # a.attr.href\n",
    "\n",
    "print('*'*50)\n",
    "# 如果想获取多个href则需要遍历\n",
    "for item in a.items():\n",
    "    print(a.attr('href'))"
   ]
  },
  {
   "cell_type": "code",
   "execution_count": 116,
   "metadata": {},
   "outputs": [
    {
     "name": "stdout",
     "output_type": "stream",
     "text": [
      "<a href=\"link3.html\">\n",
      "           <span class=\"boid\">third item</span></a>\n",
      "**************************************************\n",
      "third item\n",
      "**************************************************\n",
      "\n",
      "           <span class=\"boid\">third item</span>\n"
     ]
    },
    {
     "data": {
      "text/plain": [
       "'\\n       <h1>this is h1</h1>\\n       <!-- <span>this is comment</span> -->\\n   '"
      ]
     },
     "execution_count": 116,
     "metadata": {},
     "output_type": "execute_result"
    }
   ],
   "source": [
    "# 获取文本\n",
    "html = '''\n",
    "<div class=\"wrap\">\n",
    "   <div id=\"container\">\n",
    "       <ul class=\"list\">\n",
    "           <li class=\"item-0\">first item</li>\n",
    "           <li class=\"item-1\"><a href=\"link2.html\">second item</a></li>\n",
    "           <li class=\"item-0 active\"><a href=\"link3.html\">\n",
    "           <span class=\"boid\">third item</span></a></li>\n",
    "           <li class=\"item-1 active\"><a href=\"link4.html\">fourth item</a></li>\n",
    "           <li class=\"item-0\"><a href=\"link5.html\">fifth item</a></li>\n",
    "       </ul>\n",
    "   </div>\n",
    "   <div id=container2>\n",
    "       <h1>this is h1</h1>\n",
    "       <!-- <span>this is comment</span> -->\n",
    "   </div>\n",
    "</div>\n",
    "'''\n",
    "\n",
    "doc = pq(html)\n",
    "\n",
    "a = doc('.item-0.active a')\n",
    "print(a)\n",
    "print('*'*50)\n",
    "print(a.text())  # 返回纯文本，会忽略html标签\n",
    "print('*'*50)\n",
    "print(a.html())  # 返回标签里面所有内容\n",
    "h1 = doc('#container2')\n",
    "h1.html()"
   ]
  },
  {
   "cell_type": "code",
   "execution_count": 122,
   "metadata": {},
   "outputs": [
    {
     "name": "stdout",
     "output_type": "stream",
     "text": [
      "first item second item third item fourth item fifth item\n",
      "first item\n"
     ]
    }
   ],
   "source": [
    "# 如果选择到的是多个标签\n",
    "li = doc('li')\n",
    "print(li.text())  # text()依然或返回所有内容，中级用空格隔开\n",
    "print(li.html())  #html()只会返回第一个标签里面的内容"
   ]
  },
  {
   "cell_type": "markdown",
   "metadata": {},
   "source": [
    "### 4.3.7节点操作"
   ]
  },
  {
   "cell_type": "markdown",
   "metadata": {},
   "source": [
    "#### addClass | removeClass"
   ]
  },
  {
   "cell_type": "code",
   "execution_count": 129,
   "metadata": {},
   "outputs": [
    {
     "name": "stdout",
     "output_type": "stream",
     "text": [
      "<li class=\"item-0 active\"><a href=\"link3.html\">\n",
      "           <span class=\"boid\">third item</span></a></li>\n",
      "           \n",
      "<li class=\"item-0\"><a href=\"link3.html\">\n",
      "           <span class=\"boid\">third item</span></a></li>\n",
      "           \n",
      "<li class=\"item-0 addclass\"><a href=\"link3.html\">\n",
      "           <span class=\"boid\">third item</span></a></li>\n",
      "           \n"
     ]
    }
   ],
   "source": [
    "html = '''\n",
    "<div class=\"wrap\">\n",
    "   <div id=\"container\">\n",
    "       <ul class=\"list\">\n",
    "           <li class=\"item-0\">first item</li>\n",
    "           <li class=\"item-1\"><a href=\"link2.html\">second item</a></li>\n",
    "           <li class=\"item-0 active\"><a href=\"link3.html\">\n",
    "           <span class=\"boid\">third item</span></a></li>\n",
    "           <li class=\"item-1 active\"><a href=\"link4.html\">fourth item</a></li>\n",
    "           <li class=\"item-0\"><a href=\"link5.html\">fifth item</a></li>\n",
    "       </ul>\n",
    "   </div>\n",
    "   <div id=container2>\n",
    "       <h1>this is h1</h1>\n",
    "       <!-- <span>this is comment</span> -->\n",
    "   </div>\n",
    "</div>\n",
    "'''\n",
    "\n",
    "\n",
    "doc = pq(html)\n",
    "li = doc('.item-0.active')\n",
    "print(li)\n",
    "li.removeClass('active')\n",
    "print(li)  # 输出时 li 的class中就没有了active\n",
    "\n",
    "li.addClass('addclass')\n",
    "print(li)  # 输出时li 的class中就多出一个addclass\n"
   ]
  },
  {
   "cell_type": "markdown",
   "metadata": {},
   "source": [
    "#### attr、text、html\n",
    "改变节点的内容\n",
    "+ attr(value1,*value2)  传入一个参数，则提取该属性值   传入两个参数，则是重写原来的参数\n",
    "+ text(*value)、html(*value)  不传参数为查找内容， 传入参数为重写内容"
   ]
  },
  {
   "cell_type": "code",
   "execution_count": 143,
   "metadata": {},
   "outputs": [
    {
     "name": "stdout",
     "output_type": "stream",
     "text": [
      "<li class=\"item-0 active\"><a href=\"link3,html\"><span class=\"bold\">third item</span></a></li>\n",
      "\n",
      "\n",
      "**************************************************\n",
      "<li class=\"item-0 active\" name=\"link\"><a href=\"link3,html\"><span class=\"bold\">third item</span></a></li>\n",
      "\n",
      "\n",
      "**************************************************\n",
      "<li class=\"item-0 active\" name=\"link\">changed item</li>\n",
      "\n",
      "\n",
      "**************************************************\n",
      "<li class=\"item-0 active\" name=\"link\"><span>changed item</span></li>\n"
     ]
    }
   ],
   "source": [
    "html = '''\n",
    "<u class=\"list\">\n",
    "<li class=\"item-0 active\"><a href=\"link3,html\"><span class=\"bold\">third item</span></a></li>\n",
    "</ul>\n",
    "'''\n",
    "from pyquery import PyQuery as pq\n",
    "\n",
    "doc = pq(html)\n",
    "li = doc('.item-0.active')\n",
    "# print(doc)\n",
    "print(li)\n",
    "print('*'*50)\n",
    "li.attr('name', 'link')  # 第一个为选择的属性名，第二个为修改后的内属性值会覆盖原有的属性值)\n",
    "print(li)\n",
    "print('*'*50)\n",
    "li.text('changed item')\n",
    "print(li)\n",
    "print('*'*50)\n",
    "li.html(\"<span>changed item</p>\")\n",
    "print(li)"
   ]
  },
  {
   "cell_type": "markdown",
   "metadata": {},
   "source": [
    "#### remove()"
   ]
  },
  {
   "cell_type": "code",
   "execution_count": 150,
   "metadata": {},
   "outputs": [
    {
     "name": "stdout",
     "output_type": "stream",
     "text": [
      "Hello world\n",
      "this is a paragraph\n",
      "**************************************************\n",
      "Hello world\n"
     ]
    }
   ],
   "source": [
    "html = '''\n",
    "<div class=\"wrap\">\n",
    "    Hello world\n",
    "<p>this is a paragraph</p>\n",
    "</div>\n",
    "'''\n",
    "\n",
    "doc = pq(html)\n",
    "wrap = doc('.wrap')\n",
    "print(wrap.text())\n",
    "\n",
    "print('*'*50)\n",
    "# 如果要提取的内容为Hello world (即，不包括p标签里面的内容)\n",
    "# 可以先找到p标签再remove()\n",
    "wrap('p').remove()\n",
    "print(wrap.text())"
   ]
  },
  {
   "cell_type": "markdown",
   "metadata": {},
   "source": [
    "### 4.3.8 伪类选择器"
   ]
  },
  {
   "cell_type": "code",
   "execution_count": 164,
   "metadata": {},
   "outputs": [
    {
     "name": "stdout",
     "output_type": "stream",
     "text": [
      "<li class=\"item-0\">first item</li>\n",
      "           \n",
      "<li class=\"item-0\"><a href=\"link5.html\">fifth item</a></li>\n",
      "       \n",
      "**************************************************\n",
      "<li class=\"item-1\"><a href=\"link2.html\">second item</a></li>\n",
      "           <li class=\"item-1 active\"><a href=\"link4.html\">fourth item</a></li>\n",
      "           \n",
      "**************************************************\n",
      "<li class=\"item-1 active\"><a href=\"link4.html\">fourth item</a></li>\n",
      "           <li class=\"item-0\"><a href=\"link5.html\">fifth item</a></li>\n",
      "       \n",
      "**************************************************\n",
      "<li class=\"item-1\"><a href=\"link2.html\">second item</a></li>\n",
      "           <li class=\"item-1 active\"><a href=\"link4.html\">fourth item</a></li>\n",
      "           \n"
     ]
    }
   ],
   "source": [
    "#伪类选择器\n",
    "html = '''\n",
    "<div class=\"wrap\">\n",
    "   <div id=\"container\">\n",
    "       <ul class=\"list\">\n",
    "           <li class=\"item-0\">first item</li>\n",
    "           <li class=\"item-1\"><a href=\"link2.html\">second item</a></li>\n",
    "           <li class=\"item-0 active\"><a href=\"link3.html\"><span class=\"boid\">third item</span></a></li>\n",
    "           <li class=\"item-1 active\"><a href=\"link4.html\">fourth item</a></li>\n",
    "           <li class=\"item-0\"><a href=\"link5.html\">fifth item</a></li>\n",
    "       </ul>\n",
    "   </div>\n",
    "</div>\n",
    "'''\n",
    "doc = pq(html)\n",
    "li = doc('li:first-child')\n",
    "print(li)\n",
    "li = doc('li:last-child')\n",
    "print(li)\n",
    "print('*'*50)\n",
    "li = doc('li:nth-child(2n)')\n",
    "print(li)\n",
    "print('*'*50)\n",
    "li = doc('li:gt(2)')  # 0开始\n",
    "print(li)\n",
    "print('*'*50)\n",
    "li = doc('li:contains(o)')  # 文本内容含有o的\n",
    "print(li)"
   ]
  }
 ],
 "metadata": {
  "kernelspec": {
   "display_name": "Python 3",
   "language": "python",
   "name": "python3"
  },
  "language_info": {
   "codemirror_mode": {
    "name": "ipython",
    "version": 3
   },
   "file_extension": ".py",
   "mimetype": "text/x-python",
   "name": "python",
   "nbconvert_exporter": "python",
   "pygments_lexer": "ipython3",
   "version": "3.7.3"
  }
 },
 "nbformat": 4,
 "nbformat_minor": 2
}
