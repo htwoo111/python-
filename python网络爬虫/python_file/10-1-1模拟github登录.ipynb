{
 "cells": [
  {
   "cell_type": "code",
   "execution_count": 3,
   "metadata": {
    "ExecuteTime": {
     "end_time": "2019-09-27T08:05:25.740925Z",
     "start_time": "2019-09-27T08:05:25.462114Z"
    }
   },
   "outputs": [],
   "source": [
    "import requests\n",
    "from lxml import etree"
   ]
  },
  {
   "cell_type": "code",
   "execution_count": 24,
   "metadata": {
    "ExecuteTime": {
     "end_time": "2019-09-27T08:48:25.536526Z",
     "start_time": "2019-09-27T08:48:25.514080Z"
    }
   },
   "outputs": [],
   "source": [
    "class Login(object):\n",
    "    def __init__(self):\n",
    "        self.headers = {\n",
    "            \"Referer\": \"https://github.com/\",\n",
    "            \"User-Agent\": \"Mozilla/5.0 (Windows NT 10.0; Win64; x64) AppleWebKit/537.36 (KHTML, like Gecko) Chrome/77.0.3865.90 Safari/537.36\",\n",
    "            \"Host\": \"github.com\"\n",
    "        }\n",
    "        \n",
    "        self.login_url = 'https://github.com/login'\n",
    "        self.post_url = 'https://github.com/session'\n",
    "        self.logined_url = 'https://github.com/settings/profile'\n",
    "        self.session = requests.Session()\n",
    "        \n",
    "    def token(self):\n",
    "        response = self.session.get(self.login_url, headers=self.headers)\n",
    "        selector = etree.HTML(response.text)\n",
    "        token = selector.xpath('//div//input[2]/@value')[0]\n",
    "        return token\n",
    "    \n",
    "    def dynamics(self, html):\n",
    "        print('dynamics success')\n",
    "        pass\n",
    "    \n",
    "    def profile(self, html):\n",
    "        selector = etree.HTML(html)\n",
    "        name = selector.xpath('//input[@id=\"user_profile_name\"]/@value')[0]\n",
    "#         email = selector.xpath('//')\n",
    "        print(name)\n",
    "    \n",
    "    \n",
    "    def login(self):\n",
    "        post_data = {\n",
    "            \"commit\": \"Sign in\",\n",
    "            \"utf8\": \"✓\",\n",
    "            \"authenticity_token\": self.token(),\n",
    "            \"login\": \"1405360652@qq.com\",\n",
    "            \"password\": \"a201741501113\",\n",
    "            \"webauthn-support\": \"supported\",\n",
    "            \"webauthn-iuvpaa-support\": \"unsupported\"\n",
    "        }\n",
    "        response = self.session.post(self.post_url, data=post_data, headers=self.headers)\n",
    "        if response.status_code == 200:\n",
    "            self.dynamics(response.text)\n",
    "        else:\n",
    "            print('失败 status_code:{}'.format(status_code))\n",
    "            \n",
    "        response = self.session.get(self.logined_url, headers=self.headers)\n",
    "        if response.status_code == 200:\n",
    "            self.profile(response.text)\n",
    "        else:\n",
    "            print('失败 status_code:{}'.format(status_code))\n",
    "            \n",
    "    def run(self):\n",
    "        self.login()"
   ]
  },
  {
   "cell_type": "code",
   "execution_count": 25,
   "metadata": {
    "ExecuteTime": {
     "end_time": "2019-09-27T08:48:29.825769Z",
     "start_time": "2019-09-27T08:48:26.136690Z"
    }
   },
   "outputs": [
    {
     "name": "stdout",
     "output_type": "stream",
     "text": [
      "dynamics success\n",
      "['ShuxinL']\n"
     ]
    }
   ],
   "source": [
    "if __name__ == \"__main__\":\n",
    "    login = Login()\n",
    "    login.run()"
   ]
  }
 ],
 "metadata": {
  "kernelspec": {
   "display_name": "Python 3",
   "language": "python",
   "name": "python3"
  },
  "language_info": {
   "codemirror_mode": {
    "name": "ipython",
    "version": 3
   },
   "file_extension": ".py",
   "mimetype": "text/x-python",
   "name": "python",
   "nbconvert_exporter": "python",
   "pygments_lexer": "ipython3",
   "version": "3.7.3"
  },
  "toc": {
   "base_numbering": 1,
   "nav_menu": {},
   "number_sections": true,
   "sideBar": true,
   "skip_h1_title": false,
   "title_cell": "Table of Contents",
   "title_sidebar": "Contents",
   "toc_cell": false,
   "toc_position": {},
   "toc_section_display": true,
   "toc_window_display": false
  },
  "varInspector": {
   "cols": {
    "lenName": 16,
    "lenType": 16,
    "lenVar": 40
   },
   "kernels_config": {
    "python": {
     "delete_cmd_postfix": "",
     "delete_cmd_prefix": "del ",
     "library": "var_list.py",
     "varRefreshCmd": "print(var_dic_list())"
    },
    "r": {
     "delete_cmd_postfix": ") ",
     "delete_cmd_prefix": "rm(",
     "library": "var_list.r",
     "varRefreshCmd": "cat(var_dic_list()) "
    }
   },
   "types_to_exclude": [
    "module",
    "function",
    "builtin_function_or_method",
    "instance",
    "_Feature"
   ],
   "window_display": false
  }
 },
 "nbformat": 4,
 "nbformat_minor": 2
}
