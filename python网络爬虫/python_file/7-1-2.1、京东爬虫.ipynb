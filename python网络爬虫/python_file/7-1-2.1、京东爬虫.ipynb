{
 "cells": [
  {
   "cell_type": "code",
   "execution_count": 1,
   "metadata": {
    "ExecuteTime": {
     "end_time": "2019-09-26T00:58:26.883795Z",
     "start_time": "2019-09-26T00:58:25.762821Z"
    }
   },
   "outputs": [],
   "source": [
    "import time\n",
    "from selenium import webdriver\n",
    "from selenium.webdriver.common.by import By\n",
    "from selenium.webdriver.common.keys import Keys\n",
    "from selenium.webdriver.support.wait import WebDriverWait\n",
    "from selenium.webdriver.support import expected_conditions as EC\n",
    "from selenium.common.exceptions import TimeoutException\n",
    "\n",
    "\n",
    "from urllib.parse import quote\n",
    "from pyquery import PyQuery as pq\n",
    "from pymongo import MongoClient"
   ]
  },
  {
   "cell_type": "code",
   "execution_count": 4,
   "metadata": {
    "ExecuteTime": {
     "end_time": "2019-09-26T01:01:10.603433Z",
     "start_time": "2019-09-26T01:01:10.596348Z"
    }
   },
   "outputs": [],
   "source": [
    "def turn_to_jd():\n",
    "    browser = webdriver.Chrome()\n",
    "    browser.get('https://www.baidu.com')\n",
    "    wait = WebDriverWait(browser, 10)\n",
    "    browser.get('https://www.jd.com/')"
   ]
  },
  {
   "cell_type": "code",
   "execution_count": 24,
   "metadata": {
    "ExecuteTime": {
     "end_time": "2019-09-26T01:24:53.177348Z",
     "start_time": "2019-09-26T01:24:53.152412Z"
    }
   },
   "outputs": [],
   "source": [
    "def get_page_source():\n",
    "    try:\n",
    "        # 让滚动条滚到最下面获取所有的li\n",
    "        browser.execute_script('window.scrollTo(0, document.body.scrollHeight)')\n",
    "        time.sleep(3)\n",
    "        # 等待所有的li加载完成\n",
    "        wait.until(\n",
    "            EC.presence_of_all_elements_located((By.CSS_SELECTOR, '#J_goodsList ul'))\n",
    "        )\n",
    "        return browser.page_source\n",
    "    \n",
    "    except TimeoutException as e:\n",
    "        print('Time out')\n",
    "        get_page_source(page)\n",
    "    except Exception as e:\n",
    "        print(\"Error is {}\".format(e))\n",
    "\n",
    "        \n",
    "def parse_url(page_source):\n",
    "    \"\"\"解析网页，返回相关商品信息\"\"\"\n",
    "    print('开始解析')\n",
    "    doc = pq(page_source)\n",
    "    items = doc('#J_goodsList ul li').items()\n",
    "    product_list = []\n",
    "    items = doc('#J_goodsList .gl-warp .gl-item').items()\n",
    "    for item in items:\n",
    "        product_data = {}\n",
    "        product_data['title'] = item('.p-name a').attr('title')  # 获取商品描述\n",
    "        product_data['price'] = item('.p-price strong').text()\n",
    "        product_data['comment_count'] = item('.p-commit strong ').text()\n",
    "        product_data['shop'] = item('.p-shop .J_im_icon a').text()\n",
    "        product_data['href'] = item('.p-name a').attr('href')\n",
    "        product_list.append(product_data)\n",
    "    print('解析成功')\n",
    "    return product_list\n",
    "\n",
    "def start_mongo():\n",
    "    client = MongoClient(host='localhost', port=27017)\n",
    "    collection = client['jd']['jd_product']\n",
    "    return collection\n",
    "    \n",
    "def save_to_mongo(product_list, collection):\n",
    "    for product_data in product_list:\n",
    "        try:\n",
    "            collection.insert_one(product_data)\n",
    "        except Exception as e:\n",
    "            print('error is {}'.format(e))\n",
    "    print('保存成功')\n",
    "    \n",
    "def main(page):\n",
    "    # 0.创建mongdb数据库\n",
    "    collection = start_mongo()\n",
    "    print('正在获取第{}页'.format(page))\n",
    "    # 1.获取网页源代码。执行js，让滚动条滚到最下面，获取所有的li。\n",
    "    page_source = get_page_source()\n",
    "    # 2.解析网页，获取商品信息 列表\n",
    "    product_list = parse_url(page_source)\n",
    "    # 3.保存到mongo数据库\n",
    "    save_to_mongo(product_list, collection)\n",
    "    # 4.构造下一页url\n",
    "    page_input = browser.find_element_by_css_selector('#J_bottomPage .input-txt')\n",
    "    submit_button = browser.find_element_by_css_selector('#J_bottomPage .btn')\n",
    "    page_input.clear()\n",
    "    page_input.send_keys(page)\n",
    "    print('发送成功 {}'.format(page))\n",
    "    submit_button.click()"
   ]
  },
  {
   "cell_type": "code",
   "execution_count": 26,
   "metadata": {
    "ExecuteTime": {
     "end_time": "2019-09-26T01:29:33.862220Z",
     "start_time": "2019-09-26T01:26:12.425444Z"
    }
   },
   "outputs": [
    {
     "name": "stdout",
     "output_type": "stream",
     "text": [
      "正在获取第2页\n",
      "开始解析\n",
      "解析成功\n",
      "保存成功\n",
      "发送成功 2\n",
      "正在获取第3页\n",
      "开始解析\n",
      "解析成功\n",
      "保存成功\n",
      "发送成功 3\n",
      "正在获取第4页\n",
      "开始解析\n",
      "解析成功\n",
      "保存成功\n",
      "发送成功 4\n",
      "正在获取第5页\n",
      "开始解析\n",
      "解析成功\n",
      "保存成功\n",
      "发送成功 5\n",
      "正在获取第6页\n",
      "开始解析\n",
      "解析成功\n",
      "保存成功\n",
      "发送成功 6\n",
      "正在获取第7页\n",
      "开始解析\n",
      "解析成功\n",
      "保存成功\n",
      "发送成功 7\n",
      "正在获取第8页\n",
      "开始解析\n",
      "解析成功\n",
      "保存成功\n",
      "发送成功 8\n",
      "正在获取第9页\n",
      "开始解析\n",
      "解析成功\n",
      "保存成功\n",
      "发送成功 9\n",
      "正在获取第10页\n",
      "开始解析\n",
      "解析成功\n",
      "保存成功\n",
      "发送成功 10\n",
      "正在获取第11页\n",
      "开始解析\n",
      "解析成功\n",
      "保存成功\n",
      "发送成功 11\n",
      "正在获取第12页\n",
      "开始解析\n",
      "解析成功\n",
      "保存成功\n",
      "发送成功 12\n",
      "正在获取第13页\n",
      "开始解析\n",
      "解析成功\n",
      "保存成功\n",
      "发送成功 13\n",
      "正在获取第14页\n",
      "开始解析\n",
      "解析成功\n",
      "保存成功\n",
      "发送成功 14\n",
      "正在获取第15页\n",
      "开始解析\n",
      "解析成功\n",
      "保存成功\n",
      "发送成功 15\n",
      "正在获取第16页\n",
      "开始解析\n",
      "解析成功\n",
      "保存成功\n",
      "发送成功 16\n",
      "正在获取第17页\n",
      "开始解析\n",
      "解析成功\n",
      "保存成功\n",
      "发送成功 17\n",
      "正在获取第18页\n",
      "开始解析\n",
      "解析成功\n",
      "保存成功\n",
      "发送成功 18\n",
      "正在获取第19页\n",
      "开始解析\n",
      "解析成功\n",
      "保存成功\n",
      "发送成功 19\n",
      "正在获取第20页\n",
      "开始解析\n",
      "解析成功\n",
      "保存成功\n",
      "发送成功 20\n",
      "正在获取第21页\n",
      "开始解析\n",
      "解析成功\n",
      "保存成功\n",
      "发送成功 21\n",
      "正在获取第22页\n",
      "开始解析\n",
      "解析成功\n",
      "保存成功\n",
      "发送成功 22\n",
      "正在获取第23页\n",
      "开始解析\n",
      "解析成功\n",
      "保存成功\n",
      "发送成功 23\n",
      "正在获取第24页\n",
      "开始解析\n",
      "解析成功\n",
      "保存成功\n",
      "发送成功 24\n",
      "正在获取第25页\n",
      "开始解析\n",
      "解析成功\n",
      "保存成功\n",
      "发送成功 25\n",
      "正在获取第26页\n",
      "开始解析\n",
      "解析成功\n",
      "保存成功\n",
      "发送成功 26\n",
      "正在获取第27页\n",
      "开始解析\n",
      "解析成功\n",
      "保存成功\n",
      "发送成功 27\n",
      "正在获取第28页\n",
      "开始解析\n",
      "解析成功\n",
      "保存成功\n",
      "发送成功 28\n",
      "正在获取第29页\n",
      "开始解析\n",
      "解析成功\n",
      "保存成功\n",
      "发送成功 29\n",
      "正在获取第30页\n"
     ]
    },
    {
     "ename": "KeyboardInterrupt",
     "evalue": "",
     "output_type": "error",
     "traceback": [
      "\u001b[1;31m---------------------------------------------------------------------------\u001b[0m",
      "\u001b[1;31mKeyboardInterrupt\u001b[0m                         Traceback (most recent call last)",
      "\u001b[1;32m<ipython-input-26-f77bfb2dabfd>\u001b[0m in \u001b[0;36m<module>\u001b[1;34m\u001b[0m\n\u001b[0;32m     11\u001b[0m     \u001b[0mtime\u001b[0m\u001b[1;33m.\u001b[0m\u001b[0msleep\u001b[0m\u001b[1;33m(\u001b[0m\u001b[1;36m1\u001b[0m\u001b[1;33m)\u001b[0m\u001b[1;33m\u001b[0m\u001b[1;33m\u001b[0m\u001b[0m\n\u001b[0;32m     12\u001b[0m     \u001b[1;32mfor\u001b[0m \u001b[0mpage\u001b[0m \u001b[1;32min\u001b[0m \u001b[0mrange\u001b[0m\u001b[1;33m(\u001b[0m\u001b[1;36m2\u001b[0m\u001b[1;33m,\u001b[0m \u001b[1;36m90\u001b[0m\u001b[1;33m)\u001b[0m\u001b[1;33m:\u001b[0m\u001b[1;33m\u001b[0m\u001b[1;33m\u001b[0m\u001b[0m\n\u001b[1;32m---> 13\u001b[1;33m         \u001b[0mmain\u001b[0m\u001b[1;33m(\u001b[0m\u001b[0mpage\u001b[0m\u001b[1;33m)\u001b[0m\u001b[1;33m\u001b[0m\u001b[1;33m\u001b[0m\u001b[0m\n\u001b[0m",
      "\u001b[1;32m<ipython-input-24-e3ac56cd180d>\u001b[0m in \u001b[0;36mmain\u001b[1;34m(page)\u001b[0m\n\u001b[0;32m     53\u001b[0m     \u001b[0mprint\u001b[0m\u001b[1;33m(\u001b[0m\u001b[1;34m'正在获取第{}页'\u001b[0m\u001b[1;33m.\u001b[0m\u001b[0mformat\u001b[0m\u001b[1;33m(\u001b[0m\u001b[0mpage\u001b[0m\u001b[1;33m)\u001b[0m\u001b[1;33m)\u001b[0m\u001b[1;33m\u001b[0m\u001b[1;33m\u001b[0m\u001b[0m\n\u001b[0;32m     54\u001b[0m     \u001b[1;31m# 1.获取网页源代码。执行js，让滚动条滚到最下面，获取所有的li。\u001b[0m\u001b[1;33m\u001b[0m\u001b[1;33m\u001b[0m\u001b[1;33m\u001b[0m\u001b[0m\n\u001b[1;32m---> 55\u001b[1;33m     \u001b[0mpage_source\u001b[0m \u001b[1;33m=\u001b[0m \u001b[0mget_page_source\u001b[0m\u001b[1;33m(\u001b[0m\u001b[1;33m)\u001b[0m\u001b[1;33m\u001b[0m\u001b[1;33m\u001b[0m\u001b[0m\n\u001b[0m\u001b[0;32m     56\u001b[0m     \u001b[1;31m# 2.解析网页，获取商品信息 列表\u001b[0m\u001b[1;33m\u001b[0m\u001b[1;33m\u001b[0m\u001b[1;33m\u001b[0m\u001b[0m\n\u001b[0;32m     57\u001b[0m     \u001b[0mproduct_list\u001b[0m \u001b[1;33m=\u001b[0m \u001b[0mparse_url\u001b[0m\u001b[1;33m(\u001b[0m\u001b[0mpage_source\u001b[0m\u001b[1;33m)\u001b[0m\u001b[1;33m\u001b[0m\u001b[1;33m\u001b[0m\u001b[0m\n",
      "\u001b[1;32m<ipython-input-24-e3ac56cd180d>\u001b[0m in \u001b[0;36mget_page_source\u001b[1;34m()\u001b[0m\n\u001b[0;32m      3\u001b[0m         \u001b[1;31m# 让滚动条滚到最下面获取所有的li\u001b[0m\u001b[1;33m\u001b[0m\u001b[1;33m\u001b[0m\u001b[1;33m\u001b[0m\u001b[0m\n\u001b[0;32m      4\u001b[0m         \u001b[0mbrowser\u001b[0m\u001b[1;33m.\u001b[0m\u001b[0mexecute_script\u001b[0m\u001b[1;33m(\u001b[0m\u001b[1;34m'window.scrollTo(0, document.body.scrollHeight)'\u001b[0m\u001b[1;33m)\u001b[0m\u001b[1;33m\u001b[0m\u001b[1;33m\u001b[0m\u001b[0m\n\u001b[1;32m----> 5\u001b[1;33m         \u001b[0mtime\u001b[0m\u001b[1;33m.\u001b[0m\u001b[0msleep\u001b[0m\u001b[1;33m(\u001b[0m\u001b[1;36m3\u001b[0m\u001b[1;33m)\u001b[0m\u001b[1;33m\u001b[0m\u001b[1;33m\u001b[0m\u001b[0m\n\u001b[0m\u001b[0;32m      6\u001b[0m         \u001b[1;31m# 等待所有的li加载完成\u001b[0m\u001b[1;33m\u001b[0m\u001b[1;33m\u001b[0m\u001b[1;33m\u001b[0m\u001b[0m\n\u001b[0;32m      7\u001b[0m         wait.until(\n",
      "\u001b[1;31mKeyboardInterrupt\u001b[0m: "
     ]
    }
   ],
   "source": [
    "if __name__ == \"__main__\":\n",
    "    browser = webdriver.Chrome()\n",
    "    browser.get('https://www.baidu.com')\n",
    "    wait = WebDriverWait(browser, 10)\n",
    "    browser.get('https://www.jd.com/')\n",
    "    browser.get('https://www.jd.com')\n",
    "    keyword = \"手机\"\n",
    "    input_ = browser.find_element_by_css_selector('#key')\n",
    "    input_.send_keys(keyword)\n",
    "    input_.send_keys(Keys.ENTER)\n",
    "    time.sleep(1)\n",
    "    for page in range(2, 90):\n",
    "        main(page)"
   ]
  },
  {
   "cell_type": "code",
   "execution_count": 14,
   "metadata": {
    "ExecuteTime": {
     "end_time": "2019-09-26T01:07:13.913906Z",
     "start_time": "2019-09-26T01:07:13.906776Z"
    }
   },
   "outputs": [
    {
     "data": {
      "text/plain": [
       "{'title': '【领100元券，白条3期免息，以旧换新满1000再返300】限时赠送京东手机尊享30天深度体验服务！曜岩灰8+256G猛戳更多精彩！',\n",
       " 'price': '￥4299.00',\n",
       " 'comment_count': '28万+条评价',\n",
       " 'shop': '一加手机京东自营官方旗舰店',\n",
       " 'href': 'https://item.jd.com/100003344497.html'}"
      ]
     },
     "execution_count": 14,
     "metadata": {},
     "output_type": "execute_result"
    }
   ],
   "source": [
    "product_list[0]"
   ]
  }
 ],
 "metadata": {
  "kernelspec": {
   "display_name": "Python 3",
   "language": "python",
   "name": "python3"
  },
  "language_info": {
   "codemirror_mode": {
    "name": "ipython",
    "version": 3
   },
   "file_extension": ".py",
   "mimetype": "text/x-python",
   "name": "python",
   "nbconvert_exporter": "python",
   "pygments_lexer": "ipython3",
   "version": "3.7.3"
  },
  "toc": {
   "base_numbering": 1,
   "nav_menu": {},
   "number_sections": true,
   "sideBar": true,
   "skip_h1_title": false,
   "title_cell": "Table of Contents",
   "title_sidebar": "Contents",
   "toc_cell": false,
   "toc_position": {},
   "toc_section_display": true,
   "toc_window_display": false
  },
  "varInspector": {
   "cols": {
    "lenName": 16,
    "lenType": 16,
    "lenVar": 40
   },
   "kernels_config": {
    "python": {
     "delete_cmd_postfix": "",
     "delete_cmd_prefix": "del ",
     "library": "var_list.py",
     "varRefreshCmd": "print(var_dic_list())"
    },
    "r": {
     "delete_cmd_postfix": ") ",
     "delete_cmd_prefix": "rm(",
     "library": "var_list.r",
     "varRefreshCmd": "cat(var_dic_list()) "
    }
   },
   "types_to_exclude": [
    "module",
    "function",
    "builtin_function_or_method",
    "instance",
    "_Feature"
   ],
   "window_display": false
  }
 },
 "nbformat": 4,
 "nbformat_minor": 2
}
